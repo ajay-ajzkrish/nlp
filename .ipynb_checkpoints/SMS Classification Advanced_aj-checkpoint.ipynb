{
 "cells": [
  {
   "cell_type": "code",
   "execution_count": 68,
   "metadata": {
    "executionInfo": {
     "elapsed": 779,
     "status": "ok",
     "timestamp": 1689922741526,
     "user": {
      "displayName": "Sayan Dey",
      "userId": "07932039372029331807"
     },
     "user_tz": -330
    },
    "id": "KI_B0np3V5GU"
   },
   "outputs": [],
   "source": [
    "# Yelp reviews classification with advanced ML"
   ]
  },
  {
   "cell_type": "markdown",
   "metadata": {
    "id": "ZpvgQ0dbV5GW"
   },
   "source": [
    "### Topics covered in this notebook\n",
    "\n",
    "- **Tokenization**: breaking text into tokens (words, sentences, n-grams)\n",
    "- **Stopword removal**: a/an/the\n",
    "- **Stemming and lemmatization**: root word\n",
    "- **TF-IDF**: word importance\n",
    "- **Spelling correction**: \"New York City\"\n",
    "- **Language detection**: \"translate this page\"\n",
    "- **Machine learning**"
   ]
  },
  {
   "cell_type": "markdown",
   "metadata": {
    "id": "pFAJewWIV5GX"
   },
   "source": [
    "## 1: Reading in the Yelp Reviews"
   ]
  },
  {
   "cell_type": "code",
   "execution_count": 69,
   "metadata": {
    "executionInfo": {
     "elapsed": 1060,
     "status": "ok",
     "timestamp": 1689925183688,
     "user": {
      "displayName": "Sayan Dey",
      "userId": "07932039372029331807"
     },
     "user_tz": -330
    },
    "id": "22XiGCFNV5GY"
   },
   "outputs": [],
   "source": [
    "import warnings\n",
    "warnings.filterwarnings('ignore')"
   ]
  },
  {
   "cell_type": "code",
   "execution_count": 70,
   "metadata": {
    "executionInfo": {
     "elapsed": 1,
     "status": "ok",
     "timestamp": 1689925185292,
     "user": {
      "displayName": "Sayan Dey",
      "userId": "07932039372029331807"
     },
     "user_tz": -330
    },
    "id": "KrQ0TLpOV5Gc"
   },
   "outputs": [],
   "source": [
    "import pandas as pd\n",
    "import numpy as np\n",
    "import scipy as sp\n",
    "from sklearn.model_selection import train_test_split\n",
    "from sklearn.feature_extraction.text import CountVectorizer, TfidfVectorizer\n",
    "from sklearn.naive_bayes import MultinomialNB\n",
    "from sklearn.linear_model import LogisticRegression\n",
    "from sklearn import metrics\n",
    "from textblob import TextBlob, Word\n",
    "import nltk\n",
    "from nltk.stem.snowball import SnowballStemmer\n",
    "%matplotlib inline"
   ]
  },
  {
   "cell_type": "code",
   "execution_count": 71,
   "metadata": {},
   "outputs": [],
   "source": [
    "# pip install textblob"
   ]
  },
  {
   "cell_type": "code",
   "execution_count": 72,
   "metadata": {
    "executionInfo": {
     "elapsed": 5,
     "status": "ok",
     "timestamp": 1689925187060,
     "user": {
      "displayName": "Sayan Dey",
      "userId": "07932039372029331807"
     },
     "user_tz": -330
    },
    "id": "M-lTCs8QV5Gg"
   },
   "outputs": [],
   "source": [
    "# read yelp.csv into a DataFrame\n",
    "#from google.colab import drive\n",
    "#drive.mount('/gdrive')"
   ]
  },
  {
   "cell_type": "code",
   "execution_count": 73,
   "metadata": {
    "colab": {
     "base_uri": "https://localhost:8080/",
     "height": 493
    },
    "executionInfo": {
     "elapsed": 6,
     "status": "ok",
     "timestamp": 1689925187061,
     "user": {
      "displayName": "Sayan Dey",
      "userId": "07932039372029331807"
     },
     "user_tz": -330
    },
    "id": "f6U1e-NNrPZC",
    "outputId": "351a038c-f9b8-4359-b6f8-130694fdde3d",
    "scrolled": false
   },
   "outputs": [
    {
     "data": {
      "text/html": [
       "<div>\n",
       "<style scoped>\n",
       "    .dataframe tbody tr th:only-of-type {\n",
       "        vertical-align: middle;\n",
       "    }\n",
       "\n",
       "    .dataframe tbody tr th {\n",
       "        vertical-align: top;\n",
       "    }\n",
       "\n",
       "    .dataframe thead th {\n",
       "        text-align: right;\n",
       "    }\n",
       "</style>\n",
       "<table border=\"1\" class=\"dataframe\">\n",
       "  <thead>\n",
       "    <tr style=\"text-align: right;\">\n",
       "      <th></th>\n",
       "      <th>ham</th>\n",
       "      <th>Go until jurong point, crazy.. Available only in bugis n great world la e buffet... Cine there got amore wat...</th>\n",
       "    </tr>\n",
       "  </thead>\n",
       "  <tbody>\n",
       "    <tr>\n",
       "      <th>0</th>\n",
       "      <td>ham</td>\n",
       "      <td>Ok lar... Joking wif u oni...</td>\n",
       "    </tr>\n",
       "    <tr>\n",
       "      <th>1</th>\n",
       "      <td>spam</td>\n",
       "      <td>Free entry in 2 a wkly comp to win FA Cup fina...</td>\n",
       "    </tr>\n",
       "    <tr>\n",
       "      <th>2</th>\n",
       "      <td>ham</td>\n",
       "      <td>U dun say so early hor... U c already then say...</td>\n",
       "    </tr>\n",
       "    <tr>\n",
       "      <th>3</th>\n",
       "      <td>ham</td>\n",
       "      <td>Nah I don't think he goes to usf, he lives aro...</td>\n",
       "    </tr>\n",
       "    <tr>\n",
       "      <th>4</th>\n",
       "      <td>spam</td>\n",
       "      <td>FreeMsg Hey there darling it's been 3 week's n...</td>\n",
       "    </tr>\n",
       "  </tbody>\n",
       "</table>\n",
       "</div>"
      ],
      "text/plain": [
       "    ham  \\\n",
       "0   ham   \n",
       "1  spam   \n",
       "2   ham   \n",
       "3   ham   \n",
       "4  spam   \n",
       "\n",
       "  Go until jurong point, crazy.. Available only in bugis n great world la e buffet... Cine there got amore wat...  \n",
       "0                      Ok lar... Joking wif u oni...                                                               \n",
       "1  Free entry in 2 a wkly comp to win FA Cup fina...                                                               \n",
       "2  U dun say so early hor... U c already then say...                                                               \n",
       "3  Nah I don't think he goes to usf, he lives aro...                                                               \n",
       "4  FreeMsg Hey there darling it's been 3 week's n...                                                               "
      ]
     },
     "execution_count": 73,
     "metadata": {},
     "output_type": "execute_result"
    }
   ],
   "source": [
    "yelp = pd.read_table('sms.tsv')\n",
    "yelp.head()"
   ]
  },
  {
   "cell_type": "code",
   "execution_count": 74,
   "metadata": {},
   "outputs": [],
   "source": [
    "yelp.columns = ['y','message']"
   ]
  },
  {
   "cell_type": "code",
   "execution_count": 75,
   "metadata": {
    "colab": {
     "base_uri": "https://localhost:8080/"
    },
    "executionInfo": {
     "elapsed": 2,
     "status": "ok",
     "timestamp": 1689925188156,
     "user": {
      "displayName": "Sayan Dey",
      "userId": "07932039372029331807"
     },
     "user_tz": -330
    },
    "id": "ABL_cVt9GxTH",
    "outputId": "7c6851f8-8adf-4ba3-cbf4-a332171a5814",
    "scrolled": false
   },
   "outputs": [
    {
     "data": {
      "text/plain": [
       "(5571, 2)"
      ]
     },
     "execution_count": 75,
     "metadata": {},
     "output_type": "execute_result"
    }
   ],
   "source": [
    "yelp.shape"
   ]
  },
  {
   "cell_type": "code",
   "execution_count": 76,
   "metadata": {
    "executionInfo": {
     "elapsed": 817,
     "status": "ok",
     "timestamp": 1689925192862,
     "user": {
      "displayName": "Sayan Dey",
      "userId": "07932039372029331807"
     },
     "user_tz": -330
    },
    "id": "LM7JYkaoV5Gn"
   },
   "outputs": [],
   "source": [
    "# # create a new DataFrame that only contains the 5-star and 1-star reviews\n",
    "# yelp_best_worst = yelp[(yelp.stars==5) | (yelp.stars==1)]\n",
    "# #yelp_best_worst = yelp"
   ]
  },
  {
   "cell_type": "code",
   "execution_count": 77,
   "metadata": {
    "executionInfo": {
     "elapsed": 8,
     "status": "ok",
     "timestamp": 1689925193690,
     "user": {
      "displayName": "Sayan Dey",
      "userId": "07932039372029331807"
     },
     "user_tz": -330
    },
    "id": "q0YTa_K5V5Gs"
   },
   "outputs": [],
   "source": [
    "# define X and y\n",
    "X = yelp.message\n",
    "y = yelp.y"
   ]
  },
  {
   "cell_type": "code",
   "execution_count": 78,
   "metadata": {
    "executionInfo": {
     "elapsed": 7,
     "status": "ok",
     "timestamp": 1689925193690,
     "user": {
      "displayName": "Sayan Dey",
      "userId": "07932039372029331807"
     },
     "user_tz": -330
    },
    "id": "Ean64GFMV5Gv"
   },
   "outputs": [],
   "source": [
    "# split the new DataFrame into training and testing sets\n",
    "X_train, X_test, y_train, y_test = train_test_split(X, y, random_state=1)"
   ]
  },
  {
   "cell_type": "code",
   "execution_count": 79,
   "metadata": {
    "colab": {
     "base_uri": "https://localhost:8080/"
    },
    "executionInfo": {
     "elapsed": 6,
     "status": "ok",
     "timestamp": 1689925193690,
     "user": {
      "displayName": "Sayan Dey",
      "userId": "07932039372029331807"
     },
     "user_tz": -330
    },
    "id": "RAzYShOwGxTJ",
    "outputId": "1ac9112c-1ba0-49b2-cc55-486a4e501b0d"
   },
   "outputs": [
    {
     "data": {
      "text/plain": [
       "(4178,)"
      ]
     },
     "execution_count": 79,
     "metadata": {},
     "output_type": "execute_result"
    }
   ],
   "source": [
    "X_train.shape"
   ]
  },
  {
   "cell_type": "code",
   "execution_count": 80,
   "metadata": {
    "colab": {
     "base_uri": "https://localhost:8080/"
    },
    "executionInfo": {
     "elapsed": 6,
     "status": "ok",
     "timestamp": 1689925193691,
     "user": {
      "displayName": "Sayan Dey",
      "userId": "07932039372029331807"
     },
     "user_tz": -330
    },
    "id": "sXtekVMTGxTM",
    "outputId": "f8aaef6a-0cd6-4203-cb97-d82280295ffa",
    "scrolled": false
   },
   "outputs": [
    {
     "data": {
      "text/plain": [
       "(1393,)"
      ]
     },
     "execution_count": 80,
     "metadata": {},
     "output_type": "execute_result"
    }
   ],
   "source": [
    "X_test.shape"
   ]
  },
  {
   "cell_type": "markdown",
   "metadata": {
    "id": "OYAMkGJuV5Gz"
   },
   "source": [
    "## 2: Tokenization"
   ]
  },
  {
   "cell_type": "markdown",
   "metadata": {
    "id": "lqjMZ-FeV5G0"
   },
   "source": [
    "- **What:** Separate text into units such as sentences or words\n",
    "- **Why:** Gives structure to previously unstructured text\n",
    "- **Notes:** Relatively easy with English language text, not easy with some languages"
   ]
  },
  {
   "cell_type": "code",
   "execution_count": 81,
   "metadata": {
    "colab": {
     "base_uri": "https://localhost:8080/"
    },
    "executionInfo": {
     "elapsed": 4,
     "status": "ok",
     "timestamp": 1689925194361,
     "user": {
      "displayName": "Sayan Dey",
      "userId": "07932039372029331807"
     },
     "user_tz": -330
    },
    "id": "1Q5PTIskGxTQ",
    "outputId": "97bfdd83-c7f5-4b4a-82b1-139e5fdf5061"
   },
   "outputs": [
    {
     "data": {
      "text/plain": [
       "3343    I haven't forgotten you, i might have a couple...\n",
       "4230                              And several to you sir.\n",
       "4732                  Wat time r ü going to xin's hostel?\n",
       "1796    Hey, can you tell me blake's address? Carlos w...\n",
       "3766                              Yes.mum lookin strong:)\n",
       "                              ...                        \n",
       "905     Hey what's up charles sorry about the late reply.\n",
       "5192                It's wylie, you in tampa or sarasota?\n",
       "3980                                   ringtoneking 84484\n",
       "235     I have printed it oh. So  &lt;#&gt;  come upst...\n",
       "5157    I will come with karnan car. Please wait till ...\n",
       "Name: message, Length: 4178, dtype: object"
      ]
     },
     "execution_count": 81,
     "metadata": {},
     "output_type": "execute_result"
    }
   ],
   "source": [
    "X_train"
   ]
  },
  {
   "cell_type": "code",
   "execution_count": 82,
   "metadata": {
    "executionInfo": {
     "elapsed": 3,
     "status": "ok",
     "timestamp": 1689925194362,
     "user": {
      "displayName": "Sayan Dey",
      "userId": "07932039372029331807"
     },
     "user_tz": -330
    },
    "id": "4qjSENqGV5G2"
   },
   "outputs": [],
   "source": [
    "# use CountVectorizer to create document-term matrices from X_train and X_test\n",
    "vect = CountVectorizer(stop_words='english',min_df=10)"
   ]
  },
  {
   "cell_type": "code",
   "execution_count": 83,
   "metadata": {
    "colab": {
     "base_uri": "https://localhost:8080/",
     "height": 74
    },
    "executionInfo": {
     "elapsed": 590,
     "status": "ok",
     "timestamp": 1689925194949,
     "user": {
      "displayName": "Sayan Dey",
      "userId": "07932039372029331807"
     },
     "user_tz": -330
    },
    "id": "8enKcxCwV5G8",
    "outputId": "a8943998-c194-4e6b-88b1-bab5147c1eba"
   },
   "outputs": [
    {
     "data": {
      "text/html": [
       "<style>#sk-container-id-2 {color: black;background-color: white;}#sk-container-id-2 pre{padding: 0;}#sk-container-id-2 div.sk-toggleable {background-color: white;}#sk-container-id-2 label.sk-toggleable__label {cursor: pointer;display: block;width: 100%;margin-bottom: 0;padding: 0.3em;box-sizing: border-box;text-align: center;}#sk-container-id-2 label.sk-toggleable__label-arrow:before {content: \"▸\";float: left;margin-right: 0.25em;color: #696969;}#sk-container-id-2 label.sk-toggleable__label-arrow:hover:before {color: black;}#sk-container-id-2 div.sk-estimator:hover label.sk-toggleable__label-arrow:before {color: black;}#sk-container-id-2 div.sk-toggleable__content {max-height: 0;max-width: 0;overflow: hidden;text-align: left;background-color: #f0f8ff;}#sk-container-id-2 div.sk-toggleable__content pre {margin: 0.2em;color: black;border-radius: 0.25em;background-color: #f0f8ff;}#sk-container-id-2 input.sk-toggleable__control:checked~div.sk-toggleable__content {max-height: 200px;max-width: 100%;overflow: auto;}#sk-container-id-2 input.sk-toggleable__control:checked~label.sk-toggleable__label-arrow:before {content: \"▾\";}#sk-container-id-2 div.sk-estimator input.sk-toggleable__control:checked~label.sk-toggleable__label {background-color: #d4ebff;}#sk-container-id-2 div.sk-label input.sk-toggleable__control:checked~label.sk-toggleable__label {background-color: #d4ebff;}#sk-container-id-2 input.sk-hidden--visually {border: 0;clip: rect(1px 1px 1px 1px);clip: rect(1px, 1px, 1px, 1px);height: 1px;margin: -1px;overflow: hidden;padding: 0;position: absolute;width: 1px;}#sk-container-id-2 div.sk-estimator {font-family: monospace;background-color: #f0f8ff;border: 1px dotted black;border-radius: 0.25em;box-sizing: border-box;margin-bottom: 0.5em;}#sk-container-id-2 div.sk-estimator:hover {background-color: #d4ebff;}#sk-container-id-2 div.sk-parallel-item::after {content: \"\";width: 100%;border-bottom: 1px solid gray;flex-grow: 1;}#sk-container-id-2 div.sk-label:hover label.sk-toggleable__label {background-color: #d4ebff;}#sk-container-id-2 div.sk-serial::before {content: \"\";position: absolute;border-left: 1px solid gray;box-sizing: border-box;top: 0;bottom: 0;left: 50%;z-index: 0;}#sk-container-id-2 div.sk-serial {display: flex;flex-direction: column;align-items: center;background-color: white;padding-right: 0.2em;padding-left: 0.2em;position: relative;}#sk-container-id-2 div.sk-item {position: relative;z-index: 1;}#sk-container-id-2 div.sk-parallel {display: flex;align-items: stretch;justify-content: center;background-color: white;position: relative;}#sk-container-id-2 div.sk-item::before, #sk-container-id-2 div.sk-parallel-item::before {content: \"\";position: absolute;border-left: 1px solid gray;box-sizing: border-box;top: 0;bottom: 0;left: 50%;z-index: -1;}#sk-container-id-2 div.sk-parallel-item {display: flex;flex-direction: column;z-index: 1;position: relative;background-color: white;}#sk-container-id-2 div.sk-parallel-item:first-child::after {align-self: flex-end;width: 50%;}#sk-container-id-2 div.sk-parallel-item:last-child::after {align-self: flex-start;width: 50%;}#sk-container-id-2 div.sk-parallel-item:only-child::after {width: 0;}#sk-container-id-2 div.sk-dashed-wrapped {border: 1px dashed gray;margin: 0 0.4em 0.5em 0.4em;box-sizing: border-box;padding-bottom: 0.4em;background-color: white;}#sk-container-id-2 div.sk-label label {font-family: monospace;font-weight: bold;display: inline-block;line-height: 1.2em;}#sk-container-id-2 div.sk-label-container {text-align: center;}#sk-container-id-2 div.sk-container {/* jupyter's `normalize.less` sets `[hidden] { display: none; }` but bootstrap.min.css set `[hidden] { display: none !important; }` so we also need the `!important` here to be able to override the default hidden behavior on the sphinx rendered scikit-learn.org. See: https://github.com/scikit-learn/scikit-learn/issues/21755 */display: inline-block !important;position: relative;}#sk-container-id-2 div.sk-text-repr-fallback {display: none;}</style><div id=\"sk-container-id-2\" class=\"sk-top-container\"><div class=\"sk-text-repr-fallback\"><pre>CountVectorizer(min_df=10, stop_words=&#x27;english&#x27;)</pre><b>In a Jupyter environment, please rerun this cell to show the HTML representation or trust the notebook. <br />On GitHub, the HTML representation is unable to render, please try loading this page with nbviewer.org.</b></div><div class=\"sk-container\" hidden><div class=\"sk-item\"><div class=\"sk-estimator sk-toggleable\"><input class=\"sk-toggleable__control sk-hidden--visually\" id=\"sk-estimator-id-2\" type=\"checkbox\" checked><label for=\"sk-estimator-id-2\" class=\"sk-toggleable__label sk-toggleable__label-arrow\">CountVectorizer</label><div class=\"sk-toggleable__content\"><pre>CountVectorizer(min_df=10, stop_words=&#x27;english&#x27;)</pre></div></div></div></div></div>"
      ],
      "text/plain": [
       "CountVectorizer(min_df=10, stop_words='english')"
      ]
     },
     "execution_count": 83,
     "metadata": {},
     "output_type": "execute_result"
    }
   ],
   "source": [
    "#Tokenisation and Vectorisation\n",
    "vect.fit(X_train)"
   ]
  },
  {
   "cell_type": "code",
   "execution_count": 84,
   "metadata": {
    "colab": {
     "base_uri": "https://localhost:8080/",
     "height": 170
    },
    "executionInfo": {
     "elapsed": 5,
     "status": "error",
     "timestamp": 1689922948345,
     "user": {
      "displayName": "Sayan Dey",
      "userId": "07932039372029331807"
     },
     "user_tz": -330
    },
    "id": "KYrhBm1WGxTS",
    "outputId": "0e6c238e-9301-4dd5-ca53-7aefb01cdd6d",
    "scrolled": true
   },
   "outputs": [
    {
     "name": "stdout",
     "output_type": "stream",
     "text": [
      "['000' '03' '04' '0800' '08000839402' '08000930705' '10' '100' '1000'\n",
      " '10p' '11' '12hrs' '150' '150p' '150ppm' '16' '18' '1st' '20' '200'\n",
      " '2000' '2003' '250' '2lands' '2nd' '50' '500' '5000' '750' '800' '8007'\n",
      " '86688' '87066' 'able' 'abt' 'ac' 'account' 'actually' 'address'\n",
      " 'admirer' 'aft' 'afternoon' 'age' 'ah' 'aight' 'alright' 'amp' 'angry'\n",
      " 'answer' 'anytime' 'apply' 'ard' 'area' 'ask' 'asked' 'attempt'\n",
      " 'available' 'await' 'award' 'awarded' 'away' 'awesome' 'babe' 'baby'\n",
      " 'bad' 'balance' 'beautiful' 'bed' 'believe' 'best' 'better' 'big'\n",
      " 'birthday' 'bit' 'bonus' 'book' 'bored' 'bout' 'box' 'boy' 'boytoy'\n",
      " 'break' 'bring' 'brother' 'bt' 'bus' 'busy' 'buy' 'called' 'calling'\n",
      " 'calls' 'camcorder' 'came' 'camera' 'car' 'card' 'care' 'carlos' 'case'\n",
      " 'cash' 'cause' 'chance' 'change' 'charge' 'chat' 'check' 'chennai'\n",
      " 'chikku' 'choose' 'claim' 'class' 'close' 'club' 'code' 'collect'\n",
      " 'collection' 'college' 'colour' 'com' 'come' 'comes' 'coming' 'company'\n",
      " 'complimentary' 'congrats' 'congratulations' 'contact' 'content' 'cool'\n",
      " 'cos' 'cost' 'couple' 'course' 'coz' 'crazy' 'credit' 'cs' 'cum'\n",
      " 'currently' 'customer' 'da' 'dad' 'darlin' 'darren' 'dat' 'date' 'dating'\n",
      " 'day' 'days' 'dear' 'decided' 'decimal' 'delivery' 'den' 'details' 'did'\n",
      " 'didn' 'didnt' 'die' 'dinner' 'dis' 'does' 'doesn' 'doin' 'doing' 'don'\n",
      " 'dont' 'double' 'download' 'draw' 'dreams' 'drink' 'drive' 'driving'\n",
      " 'drop' 'dude' 'dun' 'dunno' 'earlier' 'early' 'easy' 'eat' 'email' 'end'\n",
      " 'enjoy' 'entry' 'eve' 'evening' 'expires' 'extra' 'face' 'family' 'fancy'\n",
      " 'far' 'fast' 'feel' 'feeling' 'final' 'fine' 'finish' 'finished' 'fone'\n",
      " 'food' 'forget' 'forgot' 'free' 'freemsg' 'fri' 'friday' 'friend'\n",
      " 'friends' 'friendship' 'frm' 'frnd' 'fuck' 'fucking' 'fun' 'game' 'games'\n",
      " 'gas' 'gd' 'ge' 'gets' 'getting' 'gift' 'girl' 'girls' 'god' 'goes'\n",
      " 'goin' 'going' 'gone' 'gonna' 'good' 'goodmorning' 'got' 'gotta' 'gr8'\n",
      " 'great' 'grins' 'gt' 'guaranteed' 'gud' 'guess' 'guy' 'guys' 'haf' 'haha'\n",
      " 'hair' 'half' 'happen' 'happy' 'hard' 'hav' 'haven' 'havent' 'having'\n",
      " 'head' 'hear' 'heart' 'hee' 'hello' 'help' 'hey' 'hi' 'hit' 'holiday'\n",
      " 'home' 'hope' 'hot' 'hour' 'hours' 'house' 'http' 'huh' 'hurt' 'id'\n",
      " 'identifier' 'ill' 'im' 'important' 'india' 'info' 'invited' 'jay' 'job'\n",
      " 'join' 'jus' 'just' 'juz' 'kiss' 'knew' 'know' 'knw' 'land' 'landline'\n",
      " 'lar' 'late' 'later' 'latest' 'leave' 'leaving' 'left' 'leh' 'lei'\n",
      " 'lesson' 'let' 'lets' 'liao' 'life' 'light' 'like' 'line' 'listen'\n",
      " 'little' 'live' 'll' 'log' 'lol' 'long' 'look' 'looking' 'lor' 'lot'\n",
      " 'lots' 'love' 'lovely' 'loving' 'lt' 'lucky' 'lunch' 'luv' 'mail' 'make'\n",
      " 'makes' 'making' 'man' 'march' 'match' 'mates' 'mayb' 'maybe' 'mean'\n",
      " 'means' 'meant' 'meet' 'meeting' 'message' 'messages' 'met' 'min' 'mind'\n",
      " 'mins' 'minute' 'minutes' 'miss' 'missed' 'missing' 'mob' 'mobile'\n",
      " 'mobileupd8' 'mom' 'money' 'month' 'months' 'morning' 'movie' 'mr' 'mrng'\n",
      " 'msg' 'mu' 'mum' 'music' 'national' 'need' 'needs' 'net' 'network' 'neva'\n",
      " 'new' 'news' 'ni8' 'nice' 'night' 'nite' 'noe' 'nokia' 'nt' 'number'\n",
      " 'offer' 'offers' 'office' 'oh' 'ok' 'okay' 'okie' 'old' 'online' 'oops'\n",
      " 'open' 'operator' 'opt' 'orange' 'order' 'oso' 'outside' 'pa' 'pain'\n",
      " 'park' 'party' 'pay' 'people' 'person' 'phone' 'phones' 'pic' 'pick'\n",
      " 'picking' 'pics' 'place' 'plan' 'plans' 'play' 'player' 'pls' 'plus'\n",
      " 'plz' 'pm' 'po' 'pobox' 'points' 'poly' 'post' 'pounds' 'pretty' 'price'\n",
      " 'princess' 'private' 'prize' 'prob' 'probably' 'problem' 'project' 'pub'\n",
      " 'question' 'questions' 'quite' 'quiz' 'rate' 'rates' 'reach' 'read'\n",
      " 'reading' 'ready' 'real' 'really' 'receive' 'redeemed' 'remember' 'reply'\n",
      " 'reveal' 'right' 'ringtone' 'rite' 'room' 'row' 'rply' 'run' 'sad' 'sae'\n",
      " 'said' 'sat' 'saturday' 'saw' 'say' 'saying' 'says' 'sch' 'school' 'sea'\n",
      " 'search' 'second' 'secret' 'seeing' 'selected' 'send' 'sending' 'sent'\n",
      " 'service' 'services' 'set' 'sexy' 'shall' 'shit' 'shop' 'shopping'\n",
      " 'shower' 'shows' 'sir' 'sister' 'sleep' 'sleeping' 'small' 'smile'\n",
      " 'smiling' 'smoke' 'sms' 'smth' 'snow' 'soon' 'sorry' 'sound' 'sounds'\n",
      " 'speak' 'special' 'start' 'started' 'statement' 'stay' 'stop' 'story'\n",
      " 'stuff' 'suite342' 'sun' 'sure' 'sweet' 'swing' 'takes' 'taking' 'talk'\n",
      " 'tc' 'tel' 'tell' 'test' 'text' 'texts' 'thank' 'thanks' 'thanx' 'thats'\n",
      " 'thing' 'things' 'think' 'thinks' 'thk' 'tho' 'thought' 'til' 'till'\n",
      " 'time' 'times' 'tmr' 'today' 'todays' 'told' 'tomo' 'tomorrow' 'tone'\n",
      " 'tones' 'tonight' 'took' 'tot' 'touch' 'town' 'treat' 'tried' 'trip'\n",
      " 'true' 'try' 'trying' 'tv' 'txt' 'type' 'ugh' 'uk' 'unlimited'\n",
      " 'unsubscribe' 'update' 'ur' 'urgent' 'use' 'used' 'valid' 'valued' 've'\n",
      " 'video' 'visit' 'voucher' 'vouchers' 'wait' 'waiting' 'wake' 'walk' 'wan'\n",
      " 'wanna' 'want' 'wanted' 'wants' 'wasn' 'wat' 'watch' 'watching' 'way'\n",
      " 'week' 'weekend' 'weekly' 'weeks' 'welcome' 'wen' 'went' 'wid' 'wif'\n",
      " 'wife' 'wil' 'win' 'wish' 'wit' 'wk' 'wkly' 'won' 'wonderful' 'wont'\n",
      " 'word' 'words' 'work' 'working' 'world' 'worried' 'worry' 'worth' 'wot'\n",
      " 'wow' 'www' 'xmas' 'xx' 'xxx' 'ya' 'yar' 'yeah' 'year' 'years' 'yep'\n",
      " 'yes' 'yesterday' 'yo' 'yup']\n"
     ]
    }
   ],
   "source": [
    "print(vect.get_feature_names_out()[0:])"
   ]
  },
  {
   "cell_type": "code",
   "execution_count": 85,
   "metadata": {
    "colab": {
     "base_uri": "https://localhost:8080/",
     "height": 170
    },
    "executionInfo": {
     "elapsed": 6,
     "status": "error",
     "timestamp": 1689922949198,
     "user": {
      "displayName": "Sayan Dey",
      "userId": "07932039372029331807"
     },
     "user_tz": -330
    },
    "id": "HECEUqkYGxTS",
    "outputId": "cf1cab28-186a-48a9-f6a5-5ed21f9653cb",
    "scrolled": true
   },
   "outputs": [
    {
     "data": {
      "text/plain": [
       "646"
      ]
     },
     "execution_count": 85,
     "metadata": {},
     "output_type": "execute_result"
    }
   ],
   "source": [
    "len(vect.get_feature_names_out())"
   ]
  },
  {
   "cell_type": "code",
   "execution_count": 86,
   "metadata": {
    "id": "Du_1bUMFGxTT"
   },
   "outputs": [],
   "source": [
    "X_train_dtm = vect.transform(X_train)"
   ]
  },
  {
   "cell_type": "code",
   "execution_count": 87,
   "metadata": {
    "colab": {
     "base_uri": "https://localhost:8080/"
    },
    "executionInfo": {
     "elapsed": 27,
     "status": "ok",
     "timestamp": 1671467850939,
     "user": {
      "displayName": "Sayan Dey",
      "userId": "07932039372029331807"
     },
     "user_tz": -330
    },
    "id": "2uPCHdgydzWU",
    "outputId": "e9fe0aea-735e-411c-c093-b0b4120d4c81"
   },
   "outputs": [
    {
     "data": {
      "text/plain": [
       "<4178x646 sparse matrix of type '<class 'numpy.int64'>'\n",
       "\twith 19471 stored elements in Compressed Sparse Row format>"
      ]
     },
     "execution_count": 87,
     "metadata": {},
     "output_type": "execute_result"
    }
   ],
   "source": [
    "X_train_dtm"
   ]
  },
  {
   "cell_type": "code",
   "execution_count": 88,
   "metadata": {
    "colab": {
     "base_uri": "https://localhost:8080/"
    },
    "executionInfo": {
     "elapsed": 27,
     "status": "ok",
     "timestamp": 1671467850940,
     "user": {
      "displayName": "Sayan Dey",
      "userId": "07932039372029331807"
     },
     "user_tz": -330
    },
    "id": "aeFYY49jGxTT",
    "outputId": "794c3487-85de-4051-afe0-a96bb0988409",
    "scrolled": true
   },
   "outputs": [
    {
     "data": {
      "text/plain": [
       "scipy.sparse._csr.csr_matrix"
      ]
     },
     "execution_count": 88,
     "metadata": {},
     "output_type": "execute_result"
    }
   ],
   "source": [
    "type(X_train_dtm)"
   ]
  },
  {
   "cell_type": "code",
   "execution_count": 89,
   "metadata": {
    "colab": {
     "base_uri": "https://localhost:8080/"
    },
    "executionInfo": {
     "elapsed": 25,
     "status": "ok",
     "timestamp": 1671467850942,
     "user": {
      "displayName": "Sayan Dey",
      "userId": "07932039372029331807"
     },
     "user_tz": -330
    },
    "id": "z7rs6UljfHIN",
    "outputId": "69358218-6dc4-4f62-f9f0-85523b55f4ae",
    "scrolled": false
   },
   "outputs": [
    {
     "data": {
      "text/plain": [
       "array([[0, 0, 0, ..., 0, 0, 0],\n",
       "       [0, 0, 0, ..., 0, 0, 0],\n",
       "       [0, 0, 0, ..., 0, 0, 0],\n",
       "       ...,\n",
       "       [0, 0, 0, ..., 0, 0, 0],\n",
       "       [0, 0, 0, ..., 0, 0, 0],\n",
       "       [0, 0, 0, ..., 0, 0, 0]], dtype=int64)"
      ]
     },
     "execution_count": 89,
     "metadata": {},
     "output_type": "execute_result"
    }
   ],
   "source": [
    "X_train_dtm.toarray()"
   ]
  },
  {
   "cell_type": "code",
   "execution_count": 90,
   "metadata": {
    "colab": {
     "base_uri": "https://localhost:8080/",
     "height": 424
    },
    "executionInfo": {
     "elapsed": 21,
     "status": "ok",
     "timestamp": 1671467850943,
     "user": {
      "displayName": "Sayan Dey",
      "userId": "07932039372029331807"
     },
     "user_tz": -330
    },
    "id": "nJ6clKSdd7h1",
    "outputId": "04c9128f-bb7d-4ac0-f167-71c5d5c3d27c",
    "scrolled": false
   },
   "outputs": [
    {
     "data": {
      "text/html": [
       "<div>\n",
       "<style scoped>\n",
       "    .dataframe tbody tr th:only-of-type {\n",
       "        vertical-align: middle;\n",
       "    }\n",
       "\n",
       "    .dataframe tbody tr th {\n",
       "        vertical-align: top;\n",
       "    }\n",
       "\n",
       "    .dataframe thead th {\n",
       "        text-align: right;\n",
       "    }\n",
       "</style>\n",
       "<table border=\"1\" class=\"dataframe\">\n",
       "  <thead>\n",
       "    <tr style=\"text-align: right;\">\n",
       "      <th></th>\n",
       "      <th>000</th>\n",
       "      <th>03</th>\n",
       "      <th>04</th>\n",
       "      <th>0800</th>\n",
       "      <th>08000839402</th>\n",
       "      <th>08000930705</th>\n",
       "      <th>10</th>\n",
       "      <th>100</th>\n",
       "      <th>1000</th>\n",
       "      <th>10p</th>\n",
       "      <th>...</th>\n",
       "      <th>ya</th>\n",
       "      <th>yar</th>\n",
       "      <th>yeah</th>\n",
       "      <th>year</th>\n",
       "      <th>years</th>\n",
       "      <th>yep</th>\n",
       "      <th>yes</th>\n",
       "      <th>yesterday</th>\n",
       "      <th>yo</th>\n",
       "      <th>yup</th>\n",
       "    </tr>\n",
       "  </thead>\n",
       "  <tbody>\n",
       "    <tr>\n",
       "      <th>0</th>\n",
       "      <td>0</td>\n",
       "      <td>0</td>\n",
       "      <td>0</td>\n",
       "      <td>0</td>\n",
       "      <td>0</td>\n",
       "      <td>0</td>\n",
       "      <td>0</td>\n",
       "      <td>0</td>\n",
       "      <td>0</td>\n",
       "      <td>0</td>\n",
       "      <td>...</td>\n",
       "      <td>1</td>\n",
       "      <td>0</td>\n",
       "      <td>0</td>\n",
       "      <td>0</td>\n",
       "      <td>0</td>\n",
       "      <td>0</td>\n",
       "      <td>0</td>\n",
       "      <td>0</td>\n",
       "      <td>0</td>\n",
       "      <td>0</td>\n",
       "    </tr>\n",
       "    <tr>\n",
       "      <th>1</th>\n",
       "      <td>0</td>\n",
       "      <td>0</td>\n",
       "      <td>0</td>\n",
       "      <td>0</td>\n",
       "      <td>0</td>\n",
       "      <td>0</td>\n",
       "      <td>0</td>\n",
       "      <td>0</td>\n",
       "      <td>0</td>\n",
       "      <td>0</td>\n",
       "      <td>...</td>\n",
       "      <td>0</td>\n",
       "      <td>0</td>\n",
       "      <td>0</td>\n",
       "      <td>0</td>\n",
       "      <td>0</td>\n",
       "      <td>0</td>\n",
       "      <td>0</td>\n",
       "      <td>0</td>\n",
       "      <td>0</td>\n",
       "      <td>0</td>\n",
       "    </tr>\n",
       "    <tr>\n",
       "      <th>2</th>\n",
       "      <td>0</td>\n",
       "      <td>0</td>\n",
       "      <td>0</td>\n",
       "      <td>0</td>\n",
       "      <td>0</td>\n",
       "      <td>0</td>\n",
       "      <td>0</td>\n",
       "      <td>0</td>\n",
       "      <td>0</td>\n",
       "      <td>0</td>\n",
       "      <td>...</td>\n",
       "      <td>0</td>\n",
       "      <td>0</td>\n",
       "      <td>0</td>\n",
       "      <td>0</td>\n",
       "      <td>0</td>\n",
       "      <td>0</td>\n",
       "      <td>0</td>\n",
       "      <td>0</td>\n",
       "      <td>0</td>\n",
       "      <td>0</td>\n",
       "    </tr>\n",
       "    <tr>\n",
       "      <th>3</th>\n",
       "      <td>0</td>\n",
       "      <td>0</td>\n",
       "      <td>0</td>\n",
       "      <td>0</td>\n",
       "      <td>0</td>\n",
       "      <td>0</td>\n",
       "      <td>0</td>\n",
       "      <td>0</td>\n",
       "      <td>0</td>\n",
       "      <td>0</td>\n",
       "      <td>...</td>\n",
       "      <td>0</td>\n",
       "      <td>0</td>\n",
       "      <td>0</td>\n",
       "      <td>0</td>\n",
       "      <td>0</td>\n",
       "      <td>0</td>\n",
       "      <td>0</td>\n",
       "      <td>0</td>\n",
       "      <td>0</td>\n",
       "      <td>0</td>\n",
       "    </tr>\n",
       "    <tr>\n",
       "      <th>4</th>\n",
       "      <td>0</td>\n",
       "      <td>0</td>\n",
       "      <td>0</td>\n",
       "      <td>0</td>\n",
       "      <td>0</td>\n",
       "      <td>0</td>\n",
       "      <td>0</td>\n",
       "      <td>0</td>\n",
       "      <td>0</td>\n",
       "      <td>0</td>\n",
       "      <td>...</td>\n",
       "      <td>0</td>\n",
       "      <td>0</td>\n",
       "      <td>0</td>\n",
       "      <td>0</td>\n",
       "      <td>0</td>\n",
       "      <td>0</td>\n",
       "      <td>1</td>\n",
       "      <td>0</td>\n",
       "      <td>0</td>\n",
       "      <td>0</td>\n",
       "    </tr>\n",
       "    <tr>\n",
       "      <th>...</th>\n",
       "      <td>...</td>\n",
       "      <td>...</td>\n",
       "      <td>...</td>\n",
       "      <td>...</td>\n",
       "      <td>...</td>\n",
       "      <td>...</td>\n",
       "      <td>...</td>\n",
       "      <td>...</td>\n",
       "      <td>...</td>\n",
       "      <td>...</td>\n",
       "      <td>...</td>\n",
       "      <td>...</td>\n",
       "      <td>...</td>\n",
       "      <td>...</td>\n",
       "      <td>...</td>\n",
       "      <td>...</td>\n",
       "      <td>...</td>\n",
       "      <td>...</td>\n",
       "      <td>...</td>\n",
       "      <td>...</td>\n",
       "      <td>...</td>\n",
       "    </tr>\n",
       "    <tr>\n",
       "      <th>4173</th>\n",
       "      <td>0</td>\n",
       "      <td>0</td>\n",
       "      <td>0</td>\n",
       "      <td>0</td>\n",
       "      <td>0</td>\n",
       "      <td>0</td>\n",
       "      <td>0</td>\n",
       "      <td>0</td>\n",
       "      <td>0</td>\n",
       "      <td>0</td>\n",
       "      <td>...</td>\n",
       "      <td>0</td>\n",
       "      <td>0</td>\n",
       "      <td>0</td>\n",
       "      <td>0</td>\n",
       "      <td>0</td>\n",
       "      <td>0</td>\n",
       "      <td>0</td>\n",
       "      <td>0</td>\n",
       "      <td>0</td>\n",
       "      <td>0</td>\n",
       "    </tr>\n",
       "    <tr>\n",
       "      <th>4174</th>\n",
       "      <td>0</td>\n",
       "      <td>0</td>\n",
       "      <td>0</td>\n",
       "      <td>0</td>\n",
       "      <td>0</td>\n",
       "      <td>0</td>\n",
       "      <td>0</td>\n",
       "      <td>0</td>\n",
       "      <td>0</td>\n",
       "      <td>0</td>\n",
       "      <td>...</td>\n",
       "      <td>0</td>\n",
       "      <td>0</td>\n",
       "      <td>0</td>\n",
       "      <td>0</td>\n",
       "      <td>0</td>\n",
       "      <td>0</td>\n",
       "      <td>0</td>\n",
       "      <td>0</td>\n",
       "      <td>0</td>\n",
       "      <td>0</td>\n",
       "    </tr>\n",
       "    <tr>\n",
       "      <th>4175</th>\n",
       "      <td>0</td>\n",
       "      <td>0</td>\n",
       "      <td>0</td>\n",
       "      <td>0</td>\n",
       "      <td>0</td>\n",
       "      <td>0</td>\n",
       "      <td>0</td>\n",
       "      <td>0</td>\n",
       "      <td>0</td>\n",
       "      <td>0</td>\n",
       "      <td>...</td>\n",
       "      <td>0</td>\n",
       "      <td>0</td>\n",
       "      <td>0</td>\n",
       "      <td>0</td>\n",
       "      <td>0</td>\n",
       "      <td>0</td>\n",
       "      <td>0</td>\n",
       "      <td>0</td>\n",
       "      <td>0</td>\n",
       "      <td>0</td>\n",
       "    </tr>\n",
       "    <tr>\n",
       "      <th>4176</th>\n",
       "      <td>0</td>\n",
       "      <td>0</td>\n",
       "      <td>0</td>\n",
       "      <td>0</td>\n",
       "      <td>0</td>\n",
       "      <td>0</td>\n",
       "      <td>0</td>\n",
       "      <td>0</td>\n",
       "      <td>0</td>\n",
       "      <td>0</td>\n",
       "      <td>...</td>\n",
       "      <td>0</td>\n",
       "      <td>0</td>\n",
       "      <td>0</td>\n",
       "      <td>0</td>\n",
       "      <td>0</td>\n",
       "      <td>0</td>\n",
       "      <td>0</td>\n",
       "      <td>0</td>\n",
       "      <td>0</td>\n",
       "      <td>0</td>\n",
       "    </tr>\n",
       "    <tr>\n",
       "      <th>4177</th>\n",
       "      <td>0</td>\n",
       "      <td>0</td>\n",
       "      <td>0</td>\n",
       "      <td>0</td>\n",
       "      <td>0</td>\n",
       "      <td>0</td>\n",
       "      <td>0</td>\n",
       "      <td>0</td>\n",
       "      <td>0</td>\n",
       "      <td>0</td>\n",
       "      <td>...</td>\n",
       "      <td>0</td>\n",
       "      <td>0</td>\n",
       "      <td>0</td>\n",
       "      <td>0</td>\n",
       "      <td>0</td>\n",
       "      <td>0</td>\n",
       "      <td>0</td>\n",
       "      <td>0</td>\n",
       "      <td>0</td>\n",
       "      <td>0</td>\n",
       "    </tr>\n",
       "  </tbody>\n",
       "</table>\n",
       "<p>4178 rows × 646 columns</p>\n",
       "</div>"
      ],
      "text/plain": [
       "      000  03  04  0800  08000839402  08000930705  10  100  1000  10p  ...  \\\n",
       "0       0   0   0     0            0            0   0    0     0    0  ...   \n",
       "1       0   0   0     0            0            0   0    0     0    0  ...   \n",
       "2       0   0   0     0            0            0   0    0     0    0  ...   \n",
       "3       0   0   0     0            0            0   0    0     0    0  ...   \n",
       "4       0   0   0     0            0            0   0    0     0    0  ...   \n",
       "...   ...  ..  ..   ...          ...          ...  ..  ...   ...  ...  ...   \n",
       "4173    0   0   0     0            0            0   0    0     0    0  ...   \n",
       "4174    0   0   0     0            0            0   0    0     0    0  ...   \n",
       "4175    0   0   0     0            0            0   0    0     0    0  ...   \n",
       "4176    0   0   0     0            0            0   0    0     0    0  ...   \n",
       "4177    0   0   0     0            0            0   0    0     0    0  ...   \n",
       "\n",
       "      ya  yar  yeah  year  years  yep  yes  yesterday  yo  yup  \n",
       "0      1    0     0     0      0    0    0          0   0    0  \n",
       "1      0    0     0     0      0    0    0          0   0    0  \n",
       "2      0    0     0     0      0    0    0          0   0    0  \n",
       "3      0    0     0     0      0    0    0          0   0    0  \n",
       "4      0    0     0     0      0    0    1          0   0    0  \n",
       "...   ..  ...   ...   ...    ...  ...  ...        ...  ..  ...  \n",
       "4173   0    0     0     0      0    0    0          0   0    0  \n",
       "4174   0    0     0     0      0    0    0          0   0    0  \n",
       "4175   0    0     0     0      0    0    0          0   0    0  \n",
       "4176   0    0     0     0      0    0    0          0   0    0  \n",
       "4177   0    0     0     0      0    0    0          0   0    0  \n",
       "\n",
       "[4178 rows x 646 columns]"
      ]
     },
     "execution_count": 90,
     "metadata": {},
     "output_type": "execute_result"
    }
   ],
   "source": [
    "demo = pd.DataFrame(X_train_dtm.toarray())\n",
    "demo.columns = vect.get_feature_names_out()\n",
    "demo"
   ]
  },
  {
   "cell_type": "code",
   "execution_count": 91,
   "metadata": {
    "id": "RMFt5bjIV5HG"
   },
   "outputs": [],
   "source": [
    "X_test_dtm = vect.transform(X_test)"
   ]
  },
  {
   "cell_type": "code",
   "execution_count": 92,
   "metadata": {
    "colab": {
     "base_uri": "https://localhost:8080/"
    },
    "executionInfo": {
     "elapsed": 19,
     "status": "ok",
     "timestamp": 1671467850944,
     "user": {
      "displayName": "Sayan Dey",
      "userId": "07932039372029331807"
     },
     "user_tz": -330
    },
    "id": "FVhf6PDPgNtO",
    "outputId": "e16fa6d4-6bbc-4c46-fc5a-4e42e42f8c8b"
   },
   "outputs": [
    {
     "data": {
      "text/plain": [
       "<1393x646 sparse matrix of type '<class 'numpy.int64'>'\n",
       "\twith 6369 stored elements in Compressed Sparse Row format>"
      ]
     },
     "execution_count": 92,
     "metadata": {},
     "output_type": "execute_result"
    }
   ],
   "source": [
    "X_test_dtm"
   ]
  },
  {
   "cell_type": "code",
   "execution_count": 93,
   "metadata": {
    "colab": {
     "base_uri": "https://localhost:8080/",
     "height": 424
    },
    "executionInfo": {
     "elapsed": 16,
     "status": "ok",
     "timestamp": 1671467850945,
     "user": {
      "displayName": "Sayan Dey",
      "userId": "07932039372029331807"
     },
     "user_tz": -330
    },
    "id": "HOhSfzjMgS-M",
    "outputId": "687acf87-29b0-42c8-aae3-ba2703d17998",
    "scrolled": false
   },
   "outputs": [
    {
     "data": {
      "text/html": [
       "<div>\n",
       "<style scoped>\n",
       "    .dataframe tbody tr th:only-of-type {\n",
       "        vertical-align: middle;\n",
       "    }\n",
       "\n",
       "    .dataframe tbody tr th {\n",
       "        vertical-align: top;\n",
       "    }\n",
       "\n",
       "    .dataframe thead th {\n",
       "        text-align: right;\n",
       "    }\n",
       "</style>\n",
       "<table border=\"1\" class=\"dataframe\">\n",
       "  <thead>\n",
       "    <tr style=\"text-align: right;\">\n",
       "      <th></th>\n",
       "      <th>000</th>\n",
       "      <th>03</th>\n",
       "      <th>04</th>\n",
       "      <th>0800</th>\n",
       "      <th>08000839402</th>\n",
       "      <th>08000930705</th>\n",
       "      <th>10</th>\n",
       "      <th>100</th>\n",
       "      <th>1000</th>\n",
       "      <th>10p</th>\n",
       "      <th>...</th>\n",
       "      <th>ya</th>\n",
       "      <th>yar</th>\n",
       "      <th>yeah</th>\n",
       "      <th>year</th>\n",
       "      <th>years</th>\n",
       "      <th>yep</th>\n",
       "      <th>yes</th>\n",
       "      <th>yesterday</th>\n",
       "      <th>yo</th>\n",
       "      <th>yup</th>\n",
       "    </tr>\n",
       "  </thead>\n",
       "  <tbody>\n",
       "    <tr>\n",
       "      <th>0</th>\n",
       "      <td>0</td>\n",
       "      <td>0</td>\n",
       "      <td>0</td>\n",
       "      <td>0</td>\n",
       "      <td>0</td>\n",
       "      <td>0</td>\n",
       "      <td>0</td>\n",
       "      <td>0</td>\n",
       "      <td>0</td>\n",
       "      <td>0</td>\n",
       "      <td>...</td>\n",
       "      <td>0</td>\n",
       "      <td>0</td>\n",
       "      <td>0</td>\n",
       "      <td>0</td>\n",
       "      <td>0</td>\n",
       "      <td>0</td>\n",
       "      <td>0</td>\n",
       "      <td>0</td>\n",
       "      <td>0</td>\n",
       "      <td>0</td>\n",
       "    </tr>\n",
       "    <tr>\n",
       "      <th>1</th>\n",
       "      <td>0</td>\n",
       "      <td>0</td>\n",
       "      <td>0</td>\n",
       "      <td>0</td>\n",
       "      <td>0</td>\n",
       "      <td>0</td>\n",
       "      <td>0</td>\n",
       "      <td>0</td>\n",
       "      <td>0</td>\n",
       "      <td>0</td>\n",
       "      <td>...</td>\n",
       "      <td>0</td>\n",
       "      <td>0</td>\n",
       "      <td>0</td>\n",
       "      <td>0</td>\n",
       "      <td>0</td>\n",
       "      <td>0</td>\n",
       "      <td>0</td>\n",
       "      <td>0</td>\n",
       "      <td>0</td>\n",
       "      <td>0</td>\n",
       "    </tr>\n",
       "    <tr>\n",
       "      <th>2</th>\n",
       "      <td>0</td>\n",
       "      <td>0</td>\n",
       "      <td>0</td>\n",
       "      <td>0</td>\n",
       "      <td>0</td>\n",
       "      <td>0</td>\n",
       "      <td>0</td>\n",
       "      <td>0</td>\n",
       "      <td>0</td>\n",
       "      <td>0</td>\n",
       "      <td>...</td>\n",
       "      <td>0</td>\n",
       "      <td>0</td>\n",
       "      <td>0</td>\n",
       "      <td>0</td>\n",
       "      <td>0</td>\n",
       "      <td>0</td>\n",
       "      <td>0</td>\n",
       "      <td>0</td>\n",
       "      <td>0</td>\n",
       "      <td>0</td>\n",
       "    </tr>\n",
       "    <tr>\n",
       "      <th>3</th>\n",
       "      <td>0</td>\n",
       "      <td>0</td>\n",
       "      <td>0</td>\n",
       "      <td>0</td>\n",
       "      <td>0</td>\n",
       "      <td>0</td>\n",
       "      <td>0</td>\n",
       "      <td>0</td>\n",
       "      <td>0</td>\n",
       "      <td>0</td>\n",
       "      <td>...</td>\n",
       "      <td>0</td>\n",
       "      <td>0</td>\n",
       "      <td>0</td>\n",
       "      <td>0</td>\n",
       "      <td>0</td>\n",
       "      <td>0</td>\n",
       "      <td>0</td>\n",
       "      <td>0</td>\n",
       "      <td>0</td>\n",
       "      <td>0</td>\n",
       "    </tr>\n",
       "    <tr>\n",
       "      <th>4</th>\n",
       "      <td>0</td>\n",
       "      <td>0</td>\n",
       "      <td>0</td>\n",
       "      <td>0</td>\n",
       "      <td>0</td>\n",
       "      <td>0</td>\n",
       "      <td>0</td>\n",
       "      <td>0</td>\n",
       "      <td>0</td>\n",
       "      <td>0</td>\n",
       "      <td>...</td>\n",
       "      <td>0</td>\n",
       "      <td>0</td>\n",
       "      <td>0</td>\n",
       "      <td>0</td>\n",
       "      <td>0</td>\n",
       "      <td>0</td>\n",
       "      <td>0</td>\n",
       "      <td>0</td>\n",
       "      <td>0</td>\n",
       "      <td>0</td>\n",
       "    </tr>\n",
       "    <tr>\n",
       "      <th>...</th>\n",
       "      <td>...</td>\n",
       "      <td>...</td>\n",
       "      <td>...</td>\n",
       "      <td>...</td>\n",
       "      <td>...</td>\n",
       "      <td>...</td>\n",
       "      <td>...</td>\n",
       "      <td>...</td>\n",
       "      <td>...</td>\n",
       "      <td>...</td>\n",
       "      <td>...</td>\n",
       "      <td>...</td>\n",
       "      <td>...</td>\n",
       "      <td>...</td>\n",
       "      <td>...</td>\n",
       "      <td>...</td>\n",
       "      <td>...</td>\n",
       "      <td>...</td>\n",
       "      <td>...</td>\n",
       "      <td>...</td>\n",
       "      <td>...</td>\n",
       "    </tr>\n",
       "    <tr>\n",
       "      <th>1388</th>\n",
       "      <td>0</td>\n",
       "      <td>0</td>\n",
       "      <td>0</td>\n",
       "      <td>0</td>\n",
       "      <td>0</td>\n",
       "      <td>0</td>\n",
       "      <td>0</td>\n",
       "      <td>0</td>\n",
       "      <td>0</td>\n",
       "      <td>0</td>\n",
       "      <td>...</td>\n",
       "      <td>0</td>\n",
       "      <td>0</td>\n",
       "      <td>0</td>\n",
       "      <td>0</td>\n",
       "      <td>0</td>\n",
       "      <td>0</td>\n",
       "      <td>0</td>\n",
       "      <td>0</td>\n",
       "      <td>0</td>\n",
       "      <td>0</td>\n",
       "    </tr>\n",
       "    <tr>\n",
       "      <th>1389</th>\n",
       "      <td>0</td>\n",
       "      <td>0</td>\n",
       "      <td>0</td>\n",
       "      <td>0</td>\n",
       "      <td>0</td>\n",
       "      <td>0</td>\n",
       "      <td>0</td>\n",
       "      <td>0</td>\n",
       "      <td>0</td>\n",
       "      <td>0</td>\n",
       "      <td>...</td>\n",
       "      <td>0</td>\n",
       "      <td>0</td>\n",
       "      <td>0</td>\n",
       "      <td>0</td>\n",
       "      <td>0</td>\n",
       "      <td>0</td>\n",
       "      <td>0</td>\n",
       "      <td>0</td>\n",
       "      <td>0</td>\n",
       "      <td>0</td>\n",
       "    </tr>\n",
       "    <tr>\n",
       "      <th>1390</th>\n",
       "      <td>0</td>\n",
       "      <td>0</td>\n",
       "      <td>0</td>\n",
       "      <td>0</td>\n",
       "      <td>0</td>\n",
       "      <td>0</td>\n",
       "      <td>0</td>\n",
       "      <td>0</td>\n",
       "      <td>0</td>\n",
       "      <td>0</td>\n",
       "      <td>...</td>\n",
       "      <td>0</td>\n",
       "      <td>0</td>\n",
       "      <td>0</td>\n",
       "      <td>0</td>\n",
       "      <td>0</td>\n",
       "      <td>0</td>\n",
       "      <td>0</td>\n",
       "      <td>0</td>\n",
       "      <td>0</td>\n",
       "      <td>0</td>\n",
       "    </tr>\n",
       "    <tr>\n",
       "      <th>1391</th>\n",
       "      <td>0</td>\n",
       "      <td>0</td>\n",
       "      <td>0</td>\n",
       "      <td>0</td>\n",
       "      <td>0</td>\n",
       "      <td>0</td>\n",
       "      <td>0</td>\n",
       "      <td>0</td>\n",
       "      <td>0</td>\n",
       "      <td>0</td>\n",
       "      <td>...</td>\n",
       "      <td>0</td>\n",
       "      <td>0</td>\n",
       "      <td>0</td>\n",
       "      <td>0</td>\n",
       "      <td>0</td>\n",
       "      <td>0</td>\n",
       "      <td>0</td>\n",
       "      <td>0</td>\n",
       "      <td>0</td>\n",
       "      <td>0</td>\n",
       "    </tr>\n",
       "    <tr>\n",
       "      <th>1392</th>\n",
       "      <td>0</td>\n",
       "      <td>0</td>\n",
       "      <td>0</td>\n",
       "      <td>0</td>\n",
       "      <td>0</td>\n",
       "      <td>0</td>\n",
       "      <td>0</td>\n",
       "      <td>0</td>\n",
       "      <td>0</td>\n",
       "      <td>0</td>\n",
       "      <td>...</td>\n",
       "      <td>0</td>\n",
       "      <td>0</td>\n",
       "      <td>0</td>\n",
       "      <td>0</td>\n",
       "      <td>0</td>\n",
       "      <td>0</td>\n",
       "      <td>0</td>\n",
       "      <td>0</td>\n",
       "      <td>0</td>\n",
       "      <td>0</td>\n",
       "    </tr>\n",
       "  </tbody>\n",
       "</table>\n",
       "<p>1393 rows × 646 columns</p>\n",
       "</div>"
      ],
      "text/plain": [
       "      000  03  04  0800  08000839402  08000930705  10  100  1000  10p  ...  \\\n",
       "0       0   0   0     0            0            0   0    0     0    0  ...   \n",
       "1       0   0   0     0            0            0   0    0     0    0  ...   \n",
       "2       0   0   0     0            0            0   0    0     0    0  ...   \n",
       "3       0   0   0     0            0            0   0    0     0    0  ...   \n",
       "4       0   0   0     0            0            0   0    0     0    0  ...   \n",
       "...   ...  ..  ..   ...          ...          ...  ..  ...   ...  ...  ...   \n",
       "1388    0   0   0     0            0            0   0    0     0    0  ...   \n",
       "1389    0   0   0     0            0            0   0    0     0    0  ...   \n",
       "1390    0   0   0     0            0            0   0    0     0    0  ...   \n",
       "1391    0   0   0     0            0            0   0    0     0    0  ...   \n",
       "1392    0   0   0     0            0            0   0    0     0    0  ...   \n",
       "\n",
       "      ya  yar  yeah  year  years  yep  yes  yesterday  yo  yup  \n",
       "0      0    0     0     0      0    0    0          0   0    0  \n",
       "1      0    0     0     0      0    0    0          0   0    0  \n",
       "2      0    0     0     0      0    0    0          0   0    0  \n",
       "3      0    0     0     0      0    0    0          0   0    0  \n",
       "4      0    0     0     0      0    0    0          0   0    0  \n",
       "...   ..  ...   ...   ...    ...  ...  ...        ...  ..  ...  \n",
       "1388   0    0     0     0      0    0    0          0   0    0  \n",
       "1389   0    0     0     0      0    0    0          0   0    0  \n",
       "1390   0    0     0     0      0    0    0          0   0    0  \n",
       "1391   0    0     0     0      0    0    0          0   0    0  \n",
       "1392   0    0     0     0      0    0    0          0   0    0  \n",
       "\n",
       "[1393 rows x 646 columns]"
      ]
     },
     "execution_count": 93,
     "metadata": {},
     "output_type": "execute_result"
    }
   ],
   "source": [
    "demotest = pd.DataFrame(X_test_dtm.toarray())\n",
    "demotest.columns = vect.get_feature_names_out()\n",
    "demotest"
   ]
  },
  {
   "cell_type": "markdown",
   "metadata": {
    "id": "pVevvD2yV5Hd"
   },
   "source": [
    "- **ngram_range:** tuple (min_n, max_n)\n",
    "- The lower and upper boundary of the range of n-values for different n-grams to be extracted. All values of n such that min_n <= n <= max_n will be used."
   ]
  },
  {
   "cell_type": "code",
   "execution_count": 94,
   "metadata": {
    "colab": {
     "base_uri": "https://localhost:8080/"
    },
    "executionInfo": {
     "elapsed": 1389,
     "status": "ok",
     "timestamp": 1671467853016,
     "user": {
      "displayName": "Sayan Dey",
      "userId": "07932039372029331807"
     },
     "user_tz": -330
    },
    "id": "CqLV5TRPV5He",
    "outputId": "0fa2bf14-2a9a-40af-fee0-c9ecc930249d",
    "scrolled": true
   },
   "outputs": [
    {
     "name": "stdout",
     "output_type": "stream",
     "text": [
      "29937\n"
     ]
    }
   ],
   "source": [
    "# include 1-grams and 2-grams\n",
    "vect = CountVectorizer(ngram_range=(1, 2),stop_words='english',lowercase=True)\n",
    "vect.fit(X_train)\n",
    "print(len(vect.get_feature_names_out()))"
   ]
  },
  {
   "cell_type": "code",
   "execution_count": 95,
   "metadata": {
    "colab": {
     "base_uri": "https://localhost:8080/"
    },
    "executionInfo": {
     "elapsed": 72,
     "status": "ok",
     "timestamp": 1671467853017,
     "user": {
      "displayName": "Sayan Dey",
      "userId": "07932039372029331807"
     },
     "user_tz": -330
    },
    "id": "RaFuMYD0V5Hm",
    "outputId": "0d1b21d3-0975-4890-f721-8fe1712cd3bd",
    "scrolled": true
   },
   "outputs": [
    {
     "name": "stdout",
     "output_type": "stream",
     "text": [
      "['00' '00 easter' '00 sub' ... 'frnd' 'frnd 62468' 'frnd ashwini']\n"
     ]
    }
   ],
   "source": [
    "# last 50 features\n",
    "print(vect.get_feature_names_out()[0:10000])"
   ]
  },
  {
   "cell_type": "code",
   "execution_count": 96,
   "metadata": {
    "colab": {
     "base_uri": "https://localhost:8080/"
    },
    "executionInfo": {
     "elapsed": 61,
     "status": "ok",
     "timestamp": 1671467853019,
     "user": {
      "displayName": "Sayan Dey",
      "userId": "07932039372029331807"
     },
     "user_tz": -330
    },
    "id": "Uh7CpIftGxTW",
    "outputId": "d2fb523e-5c0b-419f-dcfb-7d5024b54e45",
    "scrolled": true
   },
   "outputs": [
    {
     "data": {
      "text/plain": [
       "3343    I haven't forgotten you, i might have a couple...\n",
       "4230                              And several to you sir.\n",
       "4732                  Wat time r ü going to xin's hostel?\n",
       "1796    Hey, can you tell me blake's address? Carlos w...\n",
       "3766                              Yes.mum lookin strong:)\n",
       "                              ...                        \n",
       "905     Hey what's up charles sorry about the late reply.\n",
       "5192                It's wylie, you in tampa or sarasota?\n",
       "3980                                   ringtoneking 84484\n",
       "235     I have printed it oh. So  &lt;#&gt;  come upst...\n",
       "5157    I will come with karnan car. Please wait till ...\n",
       "Name: message, Length: 4178, dtype: object"
      ]
     },
     "execution_count": 96,
     "metadata": {},
     "output_type": "execute_result"
    }
   ],
   "source": [
    "X_train"
   ]
  },
  {
   "cell_type": "code",
   "execution_count": 97,
   "metadata": {
    "colab": {
     "base_uri": "https://localhost:8080/"
    },
    "executionInfo": {
     "elapsed": 748,
     "status": "ok",
     "timestamp": 1671467853761,
     "user": {
      "displayName": "Sayan Dey",
      "userId": "07932039372029331807"
     },
     "user_tz": -330
    },
    "id": "7FOv-gMbV5Hw",
    "outputId": "a1c9dfe2-1089-4f25-c8b9-c47bde23b977",
    "scrolled": false
   },
   "outputs": [
    {
     "name": "stdout",
     "output_type": "stream",
     "text": [
      "(4178, 646)\n",
      "(1393, 646)\n",
      "Number of Features\n",
      "646\n",
      "Training Accuracy\n",
      "0.9818094782192437\n",
      "Testing Accuracy\n",
      "0.9741564967695621\n",
      "Confusion Matrix\n",
      "[[1188   18]\n",
      " [  18  169]]\n",
      "Classifcation Report\n",
      "              precision    recall  f1-score   support\n",
      "\n",
      "         ham       0.99      0.99      0.99      1206\n",
      "        spam       0.90      0.90      0.90       187\n",
      "\n",
      "    accuracy                           0.97      1393\n",
      "   macro avg       0.94      0.94      0.94      1393\n",
      "weighted avg       0.97      0.97      0.97      1393\n",
      "\n"
     ]
    }
   ],
   "source": [
    "from sklearn.metrics import confusion_matrix,classification_report\n",
    "vect = CountVectorizer(stop_words='english',lowercase=True,min_df=10)\n",
    "X_train_dtm = vect.fit_transform(X_train)\n",
    "X_test_dtm = vect.transform(X_test)\n",
    "print(X_train_dtm.shape)\n",
    "print(X_test_dtm.shape)\n",
    "from sklearn.linear_model import LogisticRegression\n",
    "nb = MultinomialNB()\n",
    "nb.fit(X_train_dtm, y_train)\n",
    "y_pred_class = nb.predict(X_test_dtm)\n",
    "print(\"Number of Features\")\n",
    "print(X_train_dtm.shape[1])\n",
    "print(\"Training Accuracy\")\n",
    "print(nb.score(X_train_dtm,y_train))\n",
    "print(\"Testing Accuracy\")\n",
    "print(nb.score(X_test_dtm,y_test))\n",
    "print(\"Confusion Matrix\")\n",
    "print(confusion_matrix(y_test,y_pred_class))\n",
    "print(\"Classifcation Report\")\n",
    "print(classification_report(y_test,y_pred_class))"
   ]
  },
  {
   "cell_type": "code",
   "execution_count": 99,
   "metadata": {
    "colab": {
     "base_uri": "https://localhost:8080/"
    },
    "executionInfo": {
     "elapsed": 1701,
     "status": "ok",
     "timestamp": 1689925206212,
     "user": {
      "displayName": "Sayan Dey",
      "userId": "07932039372029331807"
     },
     "user_tz": -330
    },
    "id": "DvpF7v6DGxTX",
    "outputId": "1e17e1a4-2a8c-46a4-954e-d1f9fb3b1967"
   },
   "outputs": [
    {
     "name": "stdout",
     "output_type": "stream",
     "text": [
      "Training Accuracy\n",
      "0.9947343226424127\n",
      "Testing Accuracy\n",
      "0.9798994974874372\n",
      "Confusion Matrix\n",
      "[[1192   14]\n",
      " [  14  173]]\n",
      "Classifcation Report\n",
      "              precision    recall  f1-score   support\n",
      "\n",
      "         ham       0.99      0.99      0.99      1206\n",
      "        spam       0.93      0.93      0.93       187\n",
      "\n",
      "    accuracy                           0.98      1393\n",
      "   macro avg       0.96      0.96      0.96      1393\n",
      "weighted avg       0.98      0.98      0.98      1393\n",
      "\n"
     ]
    }
   ],
   "source": [
    "from sklearn.metrics import confusion_matrix,classification_report\n",
    "from sklearn.pipeline import Pipeline\n",
    "from sklearn.naive_bayes import MultinomialNB\n",
    "pipe = Pipeline((\n",
    "(\"vect\",CountVectorizer(stop_words='english',lowercase=True)),\n",
    "(\"nb\",MultinomialNB()) ,\n",
    "))\n",
    "pipe.fit(X_train,y_train)\n",
    "y_pred_class = pipe.predict(X_test)\n",
    "\n",
    "print(\"Training Accuracy\")\n",
    "print(pipe.score(X_train,y_train))\n",
    "print(\"Testing Accuracy\")\n",
    "print(pipe.score(X_test,y_test))\n",
    "print(\"Confusion Matrix\")\n",
    "print(confusion_matrix(y_test,y_pred_class))\n",
    "print(\"Classifcation Report\")\n",
    "print(classification_report(y_test,y_pred_class))"
   ]
  },
  {
   "cell_type": "markdown",
   "metadata": {
    "id": "rE6sCTxjhPxR"
   },
   "source": [
    "### 7. Building a Deep Learning Model"
   ]
  },
  {
   "cell_type": "code",
   "execution_count": 60,
   "metadata": {
    "executionInfo": {
     "elapsed": 1859,
     "status": "ok",
     "timestamp": 1618745307630,
     "user": {
      "displayName": "Sayan Dey",
      "photoUrl": "https://lh3.googleusercontent.com/a-/AOh14GgqVHJ9o6-7idGiRbNNd4iVc1VjzvuPnwmAnvEtD6U=s64",
      "userId": "03603580465490055794"
     },
     "user_tz": -330
    },
    "id": "EqtuVcCOGxTY",
    "outputId": "b7d0fe9b-1118-49b8-b75f-3d7431f09dac"
   },
   "outputs": [
    {
     "data": {
      "text/html": [
       "<div>\n",
       "<style scoped>\n",
       "    .dataframe tbody tr th:only-of-type {\n",
       "        vertical-align: middle;\n",
       "    }\n",
       "\n",
       "    .dataframe tbody tr th {\n",
       "        vertical-align: top;\n",
       "    }\n",
       "\n",
       "    .dataframe thead th {\n",
       "        text-align: right;\n",
       "    }\n",
       "</style>\n",
       "<table border=\"1\" class=\"dataframe\">\n",
       "  <thead>\n",
       "    <tr style=\"text-align: right;\">\n",
       "      <th></th>\n",
       "      <th>ham</th>\n",
       "      <th>Go until jurong point, crazy.. Available only in bugis n great world la e buffet... Cine there got amore wat...</th>\n",
       "    </tr>\n",
       "  </thead>\n",
       "  <tbody>\n",
       "    <tr>\n",
       "      <th>0</th>\n",
       "      <td>ham</td>\n",
       "      <td>Ok lar... Joking wif u oni...</td>\n",
       "    </tr>\n",
       "    <tr>\n",
       "      <th>1</th>\n",
       "      <td>spam</td>\n",
       "      <td>Free entry in 2 a wkly comp to win FA Cup fina...</td>\n",
       "    </tr>\n",
       "    <tr>\n",
       "      <th>2</th>\n",
       "      <td>ham</td>\n",
       "      <td>U dun say so early hor... U c already then say...</td>\n",
       "    </tr>\n",
       "    <tr>\n",
       "      <th>3</th>\n",
       "      <td>ham</td>\n",
       "      <td>Nah I don't think he goes to usf, he lives aro...</td>\n",
       "    </tr>\n",
       "    <tr>\n",
       "      <th>4</th>\n",
       "      <td>spam</td>\n",
       "      <td>FreeMsg Hey there darling it's been 3 week's n...</td>\n",
       "    </tr>\n",
       "  </tbody>\n",
       "</table>\n",
       "</div>"
      ],
      "text/plain": [
       "    ham  \\\n",
       "0   ham   \n",
       "1  spam   \n",
       "2   ham   \n",
       "3   ham   \n",
       "4  spam   \n",
       "\n",
       "  Go until jurong point, crazy.. Available only in bugis n great world la e buffet... Cine there got amore wat...  \n",
       "0                      Ok lar... Joking wif u oni...                                                               \n",
       "1  Free entry in 2 a wkly comp to win FA Cup fina...                                                               \n",
       "2  U dun say so early hor... U c already then say...                                                               \n",
       "3  Nah I don't think he goes to usf, he lives aro...                                                               \n",
       "4  FreeMsg Hey there darling it's been 3 week's n...                                                               "
      ]
     },
     "execution_count": 60,
     "metadata": {},
     "output_type": "execute_result"
    }
   ],
   "source": [
    "yelp = pd.read_table('sms.tsv')\n",
    "yelp.head()"
   ]
  },
  {
   "cell_type": "code",
   "execution_count": 61,
   "metadata": {},
   "outputs": [],
   "source": [
    "yelp.columns = ['y','message']\n",
    "# define X and y\n",
    "X = yelp.message\n",
    "y = yelp.y"
   ]
  },
  {
   "cell_type": "code",
   "execution_count": 62,
   "metadata": {
    "id": "UjcM0UljGxTZ"
   },
   "outputs": [],
   "source": [
    "# split the new DataFrame into training and testing sets\n",
    "X_train, X_test, y_train, y_test = train_test_split(X, y, random_state=1)"
   ]
  },
  {
   "cell_type": "code",
   "execution_count": 63,
   "metadata": {
    "id": "q8qNPabMGxTZ",
    "outputId": "6e5a7f47-e44b-4c45-f688-25e193902aaa"
   },
   "outputs": [
    {
     "name": "stdout",
     "output_type": "stream",
     "text": [
      "Number of Features\n",
      "716\n"
     ]
    }
   ],
   "source": [
    "vect = CountVectorizer(ngram_range=(1, 2),stop_words='english',lowercase=True,min_df=10)\n",
    "X_train_dtm = vect.fit_transform(X_train)\n",
    "X_test_dtm = vect.transform(X_test)\n",
    "print(\"Number of Features\")\n",
    "print(X_train_dtm.shape[1])"
   ]
  },
  {
   "cell_type": "code",
   "execution_count": 1,
   "metadata": {},
   "outputs": [],
   "source": [
    "# pip install tensorflow"
   ]
  },
  {
   "cell_type": "code",
   "execution_count": 2,
   "metadata": {
    "id": "pXcQt_TchaNW"
   },
   "outputs": [],
   "source": [
    "import tensorflow as tf"
   ]
  },
  {
   "cell_type": "markdown",
   "metadata": {
    "id": "MofkwztZheaj"
   },
   "source": [
    "We will use CountVectorizer features in this case. This can be replaced by TF-IDF features"
   ]
  },
  {
   "cell_type": "code",
   "execution_count": null,
   "metadata": {
    "id": "Qwt45bfbhcur"
   },
   "outputs": [],
   "source": [
    "#Start building a Keras Sequential Model\n",
    "tf.keras.backend.clear_session()\n",
    "model = tf.keras.Sequential()"
   ]
  },
  {
   "cell_type": "code",
   "execution_count": null,
   "metadata": {
    "id": "ApucZKmMGxTa",
    "outputId": "22588772-3fde-4bfc-9583-209e8b88cee3"
   },
   "outputs": [
    {
     "data": {
      "text/plain": [
       "\"Rosie, Dakota, and I LOVE Chaparral Dog Park!!! It's very convenient and surrounded by a lot of paths, a desert xeriscape, baseball fields, ballparks, and a lake with ducks.\\n\\nThe Scottsdale Park and Rec Dept. does a wonderful job of keeping the park clean and shaded.  You can find trash cans and poopy-pick up mitts located all over the park and paths.\\n\\nThe fenced in area is huge to let the dogs run, play, and sniff!\""
      ]
     },
     "execution_count": 112,
     "metadata": {},
     "output_type": "execute_result"
    }
   ],
   "source": [
    "X_train[3]"
   ]
  },
  {
   "cell_type": "code",
   "execution_count": null,
   "metadata": {
    "id": "e5aQAM6DGxTa",
    "outputId": "817149cd-8c8c-4412-87a2-939cf151964c"
   },
   "outputs": [
    {
     "data": {
      "text/plain": [
       "array([0., 0., 0., 0., 1.], dtype=float32)"
      ]
     },
     "execution_count": 113,
     "metadata": {},
     "output_type": "execute_result"
    }
   ],
   "source": [
    "y_train[3]"
   ]
  },
  {
   "cell_type": "code",
   "execution_count": null,
   "metadata": {
    "id": "0oqVNmp1GxTa"
   },
   "outputs": [],
   "source": [
    "y_train = tf.keras.utils.to_categorical(y_train, num_classes=5)\n",
    "y_test = tf.keras.utils.to_categorical(y_test, num_classes=5)"
   ]
  },
  {
   "cell_type": "code",
   "execution_count": null,
   "metadata": {
    "id": "SqKkoW0FGxTb",
    "outputId": "b14de33e-6949-4af4-dbf0-41e57a9e62fd"
   },
   "outputs": [
    {
     "data": {
      "text/plain": [
       "array([[1., 0., 0., 0., 0.],\n",
       "       [1., 0., 0., 0., 0.],\n",
       "       [1., 0., 0., 0., 0.],\n",
       "       [1., 0., 0., 0., 0.],\n",
       "       [0., 1., 0., 0., 0.]], dtype=float32)"
      ]
     },
     "execution_count": 115,
     "metadata": {},
     "output_type": "execute_result"
    }
   ],
   "source": [
    "y_train[3]"
   ]
  },
  {
   "cell_type": "code",
   "execution_count": null,
   "metadata": {
    "id": "jmYjSF9Mh11J"
   },
   "outputs": [],
   "source": [
    "model = tf.keras.models.Sequential()\n",
    "model.add(tf.keras.layers.Reshape((6772,),input_shape=(6772,)))\n",
    "model.add(tf.keras.layers.BatchNormalization())\n",
    "model.add(tf.keras.layers.Dense(100, activation='relu'))\n",
    "model.add(tf.keras.layers.Dense(10, activation='relu'))\n",
    "model.add(tf.keras.layers.Dense(5, activation='softmax'))"
   ]
  },
  {
   "cell_type": "code",
   "execution_count": null,
   "metadata": {
    "id": "SgedKYQBQVNE",
    "outputId": "18cef328-cd96-4033-e1da-4cbba05df28c"
   },
   "outputs": [
    {
     "name": "stdout",
     "output_type": "stream",
     "text": [
      "Model: \"sequential_1\"\n",
      "_________________________________________________________________\n",
      "Layer (type)                 Output Shape              Param #   \n",
      "=================================================================\n",
      "reshape (Reshape)            (None, 6772)              0         \n",
      "_________________________________________________________________\n",
      "batch_normalization (BatchNo (None, 6772)              27088     \n",
      "_________________________________________________________________\n",
      "dense (Dense)                (None, 100)               677300    \n",
      "_________________________________________________________________\n",
      "dense_1 (Dense)              (None, 10)                1010      \n",
      "_________________________________________________________________\n",
      "dense_2 (Dense)              (None, 5)                 55        \n",
      "=================================================================\n",
      "Total params: 705,453\n",
      "Trainable params: 691,909\n",
      "Non-trainable params: 13,544\n",
      "_________________________________________________________________\n"
     ]
    }
   ],
   "source": [
    "model.summary()"
   ]
  },
  {
   "cell_type": "code",
   "execution_count": null,
   "metadata": {
    "id": "MUPy_5VIiUG9"
   },
   "outputs": [],
   "source": [
    "adam_op = tf.keras.optimizers.Adam(lr=0.001)\n",
    "#model.compile(optimizer=adam_op, loss='binary_crossentropy', metrics=['acc'])\n",
    "model.compile(optimizer=adam_op, loss='categorical_crossentropy', metrics=[tf.keras.metrics.Recall()])"
   ]
  },
  {
   "cell_type": "code",
   "execution_count": null,
   "metadata": {
    "id": "7HTSt1LIkbQh"
   },
   "outputs": [],
   "source": [
    "#X_train_ct_array = X_train_ct.toarray()\n",
    "#X_test_ct_array = X_test_ct.toarray()"
   ]
  },
  {
   "cell_type": "code",
   "execution_count": null,
   "metadata": {
    "colab": {
     "base_uri": "https://localhost:8080/"
    },
    "executionInfo": {
     "elapsed": 188870,
     "status": "ok",
     "timestamp": 1618747921673,
     "user": {
      "displayName": "Sayan Dey",
      "photoUrl": "https://lh3.googleusercontent.com/a-/AOh14GgqVHJ9o6-7idGiRbNNd4iVc1VjzvuPnwmAnvEtD6U=s64",
      "userId": "03603580465490055794"
     },
     "user_tz": -330
    },
    "id": "zH-LnFyXiXqc",
    "outputId": "a24f293d-caad-4e31-9fce-81b20c7c3a59",
    "scrolled": true
   },
   "outputs": [
    {
     "name": "stdout",
     "output_type": "stream",
     "text": [
      "Epoch 1/50\n",
      "59/59 [==============================] - 1s 11ms/step - loss: 0.4011 - recall: 0.8221 - val_loss: 3.5646 - val_recall: 0.4176\n",
      "Epoch 2/50\n",
      "59/59 [==============================] - 1s 12ms/step - loss: 0.3700 - recall: 0.8228 - val_loss: 3.4450 - val_recall: 0.4104\n",
      "Epoch 3/50\n",
      "59/59 [==============================] - 1s 11ms/step - loss: 0.3584 - recall: 0.8361 - val_loss: 3.3972 - val_recall: 0.4256\n",
      "Epoch 4/50\n",
      "59/59 [==============================] - 1s 11ms/step - loss: 0.3606 - recall: 0.8249 - val_loss: 3.3644 - val_recall: 0.4068\n",
      "Epoch 5/50\n",
      "59/59 [==============================] - 1s 13ms/step - loss: 0.3646 - recall: 0.8263 - val_loss: 3.3406 - val_recall: 0.4156\n",
      "Epoch 6/50\n",
      "59/59 [==============================] - 1s 11ms/step - loss: 0.3390 - recall: 0.8387 - val_loss: 3.3316 - val_recall: 0.4116\n",
      "Epoch 7/50\n",
      "59/59 [==============================] - 1s 11ms/step - loss: 0.3586 - recall: 0.8277 - val_loss: 3.2625 - val_recall: 0.4272\n",
      "Epoch 8/50\n",
      "59/59 [==============================] - 1s 11ms/step - loss: 0.3506 - recall: 0.8357 - val_loss: 3.2563 - val_recall: 0.4228\n",
      "Epoch 9/50\n",
      "59/59 [==============================] - 1s 12ms/step - loss: 0.3475 - recall: 0.8341 - val_loss: 3.2759 - val_recall: 0.4164\n",
      "Epoch 10/50\n",
      "59/59 [==============================] - 1s 11ms/step - loss: 0.3574 - recall: 0.8308 - val_loss: 3.2329 - val_recall: 0.4240\n",
      "Epoch 11/50\n",
      "59/59 [==============================] - 1s 12ms/step - loss: 0.3556 - recall: 0.8335 - val_loss: 3.1801 - val_recall: 0.4228\n",
      "Epoch 12/50\n",
      "59/59 [==============================] - 1s 10ms/step - loss: 0.3519 - recall: 0.8323 - val_loss: 3.2023 - val_recall: 0.4200\n",
      "Epoch 13/50\n",
      "59/59 [==============================] - 1s 11ms/step - loss: 0.3614 - recall: 0.8347 - val_loss: 3.1850 - val_recall: 0.4260\n",
      "Epoch 14/50\n",
      "59/59 [==============================] - 1s 10ms/step - loss: 0.3483 - recall: 0.8329 - val_loss: 3.1781 - val_recall: 0.4180\n",
      "Epoch 15/50\n",
      "59/59 [==============================] - 1s 11ms/step - loss: 0.3443 - recall: 0.8328 - val_loss: 3.1347 - val_recall: 0.4100\n",
      "Epoch 16/50\n",
      "59/59 [==============================] - 1s 10ms/step - loss: 0.3553 - recall: 0.8353 - val_loss: 3.1541 - val_recall: 0.4096\n",
      "Epoch 17/50\n",
      "59/59 [==============================] - 1s 11ms/step - loss: 0.3366 - recall: 0.8355 - val_loss: 3.1427 - val_recall: 0.4192\n",
      "Epoch 18/50\n",
      "59/59 [==============================] - 1s 10ms/step - loss: 0.3394 - recall: 0.8423 - val_loss: 3.1300 - val_recall: 0.4212\n",
      "Epoch 19/50\n",
      "59/59 [==============================] - 1s 11ms/step - loss: 0.3436 - recall: 0.8365 - val_loss: 3.1448 - val_recall: 0.4232\n",
      "Epoch 20/50\n",
      "59/59 [==============================] - 1s 11ms/step - loss: 0.3203 - recall: 0.8421 - val_loss: 3.2096 - val_recall: 0.4204\n",
      "Epoch 21/50\n",
      "59/59 [==============================] - 1s 11ms/step - loss: 0.3242 - recall: 0.8449 - val_loss: 3.2252 - val_recall: 0.4228\n",
      "Epoch 22/50\n",
      "59/59 [==============================] - 1s 11ms/step - loss: 0.3394 - recall: 0.8380 - val_loss: 3.2054 - val_recall: 0.4172\n",
      "Epoch 23/50\n",
      "59/59 [==============================] - 1s 11ms/step - loss: 0.3266 - recall: 0.8399 - val_loss: 3.1877 - val_recall: 0.4224\n",
      "Epoch 24/50\n",
      "59/59 [==============================] - 1s 11ms/step - loss: 0.3284 - recall: 0.8399 - val_loss: 3.2428 - val_recall: 0.4224\n",
      "Epoch 25/50\n",
      "59/59 [==============================] - 1s 11ms/step - loss: 0.3238 - recall: 0.8485 - val_loss: 3.2504 - val_recall: 0.4256\n",
      "Epoch 26/50\n",
      "59/59 [==============================] - 1s 11ms/step - loss: 0.3214 - recall: 0.8513 - val_loss: 3.2626 - val_recall: 0.4264\n",
      "Epoch 27/50\n",
      "59/59 [==============================] - 1s 10ms/step - loss: 0.3374 - recall: 0.8425 - val_loss: 3.1910 - val_recall: 0.4276\n",
      "Epoch 28/50\n",
      "59/59 [==============================] - 1s 12ms/step - loss: 0.3175 - recall: 0.8536 - val_loss: 3.1803 - val_recall: 0.4344\n",
      "Epoch 29/50\n",
      "59/59 [==============================] - 1s 11ms/step - loss: 0.3252 - recall: 0.8495 - val_loss: 3.2035 - val_recall: 0.4320\n",
      "Epoch 30/50\n",
      "59/59 [==============================] - 1s 12ms/step - loss: 0.3200 - recall: 0.8432 - val_loss: 3.2407 - val_recall: 0.4260\n",
      "Epoch 31/50\n",
      "59/59 [==============================] - 1s 12ms/step - loss: 0.3233 - recall: 0.8485 - val_loss: 3.2856 - val_recall: 0.4360\n",
      "Epoch 32/50\n",
      "59/59 [==============================] - 1s 11ms/step - loss: 0.3151 - recall: 0.8439 - val_loss: 3.3234 - val_recall: 0.4356\n",
      "Epoch 33/50\n",
      "59/59 [==============================] - 1s 10ms/step - loss: 0.3175 - recall: 0.8517 - val_loss: 3.3146 - val_recall: 0.4332\n",
      "Epoch 34/50\n",
      "59/59 [==============================] - 1s 11ms/step - loss: 0.3319 - recall: 0.8427 - val_loss: 3.3426 - val_recall: 0.4368\n",
      "Epoch 35/50\n",
      "59/59 [==============================] - 1s 11ms/step - loss: 0.3202 - recall: 0.8489 - val_loss: 3.3027 - val_recall: 0.4344\n",
      "Epoch 36/50\n",
      "59/59 [==============================] - 1s 11ms/step - loss: 0.3244 - recall: 0.8491 - val_loss: 3.3085 - val_recall: 0.4368\n",
      "Epoch 37/50\n",
      "59/59 [==============================] - 1s 11ms/step - loss: 0.3146 - recall: 0.8567 - val_loss: 3.2716 - val_recall: 0.4340\n",
      "Epoch 38/50\n",
      "59/59 [==============================] - 1s 11ms/step - loss: 0.3166 - recall: 0.8505 - val_loss: 3.2646 - val_recall: 0.4312\n",
      "Epoch 39/50\n",
      "59/59 [==============================] - 1s 11ms/step - loss: 0.3292 - recall: 0.8455 - val_loss: 3.2671 - val_recall: 0.4316\n",
      "Epoch 40/50\n",
      "59/59 [==============================] - 1s 11ms/step - loss: 0.3188 - recall: 0.8500 - val_loss: 3.2561 - val_recall: 0.4300\n",
      "Epoch 41/50\n",
      "59/59 [==============================] - 1s 11ms/step - loss: 0.3225 - recall: 0.8451 - val_loss: 3.2029 - val_recall: 0.4316\n",
      "Epoch 42/50\n",
      "59/59 [==============================] - 1s 11ms/step - loss: 0.3012 - recall: 0.8511 - val_loss: 3.2909 - val_recall: 0.4312\n",
      "Epoch 43/50\n",
      "59/59 [==============================] - 1s 11ms/step - loss: 0.3126 - recall: 0.8564 - val_loss: 3.3937 - val_recall: 0.4384\n",
      "Epoch 44/50\n",
      "59/59 [==============================] - 1s 10ms/step - loss: 0.3194 - recall: 0.8493 - val_loss: 3.2714 - val_recall: 0.4300\n",
      "Epoch 45/50\n",
      "59/59 [==============================] - 1s 12ms/step - loss: 0.3156 - recall: 0.8505 - val_loss: 3.3747 - val_recall: 0.4268\n",
      "Epoch 46/50\n",
      "59/59 [==============================] - 1s 12ms/step - loss: 0.3135 - recall: 0.8472 - val_loss: 3.3599 - val_recall: 0.4252\n",
      "Epoch 47/50\n",
      "59/59 [==============================] - 1s 16ms/step - loss: 0.3193 - recall: 0.8527 - val_loss: 3.3049 - val_recall: 0.4252\n",
      "Epoch 48/50\n",
      "59/59 [==============================] - 1s 11ms/step - loss: 0.3042 - recall: 0.8545 - val_loss: 3.3333 - val_recall: 0.4248\n",
      "Epoch 49/50\n",
      "59/59 [==============================] - 1s 15ms/step - loss: 0.3153 - recall: 0.8461 - val_loss: 3.3733 - val_recall: 0.4256\n",
      "Epoch 50/50\n",
      "59/59 [==============================] - 1s 13ms/step - loss: 0.3215 - recall: 0.8500 - val_loss: 3.3342 - val_recall: 0.4228\n"
     ]
    },
    {
     "data": {
      "text/plain": [
       "<tensorflow.python.keras.callbacks.History at 0x1922c50c610>"
      ]
     },
     "execution_count": 270,
     "metadata": {},
     "output_type": "execute_result"
    }
   ],
   "source": [
    "model.fit(X_train_dtm.toarray(), y_train,\n",
    "           validation_data=(X_test_dtm.toarray(), y_test),\n",
    "           epochs=50, batch_size=128)"
   ]
  },
  {
   "cell_type": "code",
   "execution_count": null,
   "metadata": {
    "id": "0nH-uxlrGxTc"
   },
   "outputs": [],
   "source": []
  },
  {
   "cell_type": "code",
   "execution_count": null,
   "metadata": {
    "id": "b9XohmntGxTc"
   },
   "outputs": [],
   "source": []
  },
  {
   "cell_type": "code",
   "execution_count": null,
   "metadata": {
    "id": "T8xPOEwzGxTd"
   },
   "outputs": [],
   "source": []
  },
  {
   "cell_type": "code",
   "execution_count": null,
   "metadata": {
    "id": "4o7ag5eLGxTd"
   },
   "outputs": [],
   "source": []
  },
  {
   "cell_type": "code",
   "execution_count": null,
   "metadata": {
    "id": "yiulrsg5V5IO"
   },
   "outputs": [],
   "source": [
    "# define a function that accepts a vectorizer and calculates the accuracy\n",
    "def tokenize_test(vect):\n",
    "    vect.fit(X_train)\n",
    "    X_train_dtm = vect.transform(X_train)\n",
    "    print ('Features: ', X_train_dtm.shape[1])\n",
    "    X_test_dtm = vect.transform(X_test)\n",
    "    nb = MultinomialNB()\n",
    "    nb.fit(X_train_dtm, y_train)\n",
    "    y_pred_class = nb.predict(X_test_dtm)\n",
    "    print(\"Training Accuracy\")\n",
    "    print(nb.score(X_train_dtm,y_train))\n",
    "    print(\"Testing Accuracy\")\n",
    "    print(nb.score(X_test_dtm,y_test))\n",
    "    print(\"Confusion Matrix\")\n",
    "    print(confusion_matrix(y_test,y_pred_class))\n",
    "    print(\"Classifcation Report\")\n",
    "    print(classification_report(y_test,y_pred_class))"
   ]
  },
  {
   "cell_type": "code",
   "execution_count": null,
   "metadata": {
    "colab": {
     "base_uri": "https://localhost:8080/"
    },
    "executionInfo": {
     "elapsed": 1939,
     "status": "ok",
     "timestamp": 1618745320200,
     "user": {
      "displayName": "Sayan Dey",
      "photoUrl": "https://lh3.googleusercontent.com/a-/AOh14GgqVHJ9o6-7idGiRbNNd4iVc1VjzvuPnwmAnvEtD6U=s64",
      "userId": "03603580465490055794"
     },
     "user_tz": -330
    },
    "id": "vrfZoI6gV5IQ",
    "outputId": "cd2e6864-9705-4f7a-aba7-ac6fab312573"
   },
   "outputs": [
    {
     "name": "stdout",
     "output_type": "stream",
     "text": [
      "Features:  28847\n",
      "Training Accuracy\n",
      "0.9008\n",
      "Testing Accuracy\n",
      "0.5048\n",
      "Confusion Matrix\n",
      "[[ 78  40  17  31  19]\n",
      " [ 36  39  56  80  23]\n",
      " [ 14  20  81 196  54]\n",
      " [  9   3  44 565 263]\n",
      " [ 12   4  16 301 499]]\n",
      "Classifcation Report\n",
      "              precision    recall  f1-score   support\n",
      "\n",
      "           0       0.52      0.42      0.47       185\n",
      "           1       0.37      0.17      0.23       234\n",
      "           2       0.38      0.22      0.28       365\n",
      "           3       0.48      0.64      0.55       884\n",
      "           4       0.58      0.60      0.59       832\n",
      "\n",
      "    accuracy                           0.50      2500\n",
      "   macro avg       0.47      0.41      0.42      2500\n",
      "weighted avg       0.49      0.50      0.49      2500\n",
      "\n"
     ]
    }
   ],
   "source": [
    "# include 1-grams and 2-grams\n",
    "#vect = CountVectorizer(stop_words='english')\n",
    "vect = CountVectorizer(ngram_range=(1, 2),stop_words='english',min_df=3)\n",
    "tokenize_test(vect)"
   ]
  },
  {
   "cell_type": "markdown",
   "metadata": {
    "id": "JbWEPFDCV5IW"
   },
   "source": [
    "## 3: Stopword Removal"
   ]
  },
  {
   "cell_type": "markdown",
   "metadata": {
    "id": "xGitbsjTV5IW"
   },
   "source": [
    "- **What:** Remove common words that will likely appear in any text\n",
    "- **Why:** They don't tell you much about your text"
   ]
  },
  {
   "cell_type": "code",
   "execution_count": null,
   "metadata": {
    "colab": {
     "base_uri": "https://localhost:8080/"
    },
    "executionInfo": {
     "elapsed": 1179,
     "status": "ok",
     "timestamp": 1618745563548,
     "user": {
      "displayName": "Sayan Dey",
      "photoUrl": "https://lh3.googleusercontent.com/a-/AOh14GgqVHJ9o6-7idGiRbNNd4iVc1VjzvuPnwmAnvEtD6U=s64",
      "userId": "03603580465490055794"
     },
     "user_tz": -330
    },
    "id": "80WCnSJyV5IX",
    "outputId": "5120c283-9a11-46ed-a970-4f9e4be8127b"
   },
   "outputs": [
    {
     "data": {
      "text/plain": [
       "CountVectorizer(min_df=3, ngram_range=(1, 2), stop_words='english')"
      ]
     },
     "execution_count": 38,
     "metadata": {},
     "output_type": "execute_result"
    }
   ],
   "source": [
    "# show vectorizer options\n",
    "vect"
   ]
  },
  {
   "cell_type": "markdown",
   "metadata": {
    "id": "kdoTaYcvV5IZ"
   },
   "source": [
    "- **stop_words:** string {'english'}, list, or None (default)\n",
    "- If 'english', a built-in stop word list for English is used.\n",
    "- If a list, that list is assumed to contain stop words, all of which will be removed from the resulting tokens.\n",
    "- If None, no stop words will be used."
   ]
  },
  {
   "cell_type": "code",
   "execution_count": null,
   "metadata": {
    "id": "RlekrQUUV5IZ"
   },
   "outputs": [],
   "source": [
    "vect = CountVectorizer(stop_words='english')"
   ]
  },
  {
   "cell_type": "code",
   "execution_count": null,
   "metadata": {
    "colab": {
     "base_uri": "https://localhost:8080/"
    },
    "executionInfo": {
     "elapsed": 750,
     "status": "ok",
     "timestamp": 1618745567699,
     "user": {
      "displayName": "Sayan Dey",
      "photoUrl": "https://lh3.googleusercontent.com/a-/AOh14GgqVHJ9o6-7idGiRbNNd4iVc1VjzvuPnwmAnvEtD6U=s64",
      "userId": "03603580465490055794"
     },
     "user_tz": -330
    },
    "id": "KT5eRuwYV5Ic",
    "outputId": "d1aa3b48-33aa-4194-b26b-eb7acb0c836f"
   },
   "outputs": [
    {
     "name": "stdout",
     "output_type": "stream",
     "text": [
      "frozenset({'each', 'be', 'or', 'yourselves', 'inc', 'side', 'someone', 'sometime', 'so', 'find', 'you', 'beyond', 'do', 'to', 'up', 'thence', 'my', 'also', 'with', 're', 'whatever', 'our', 'four', 'that', 'somewhere', 'moreover', 'thereby', 'were', 'hasnt', 'eight', 'part', 'yet', 'twelve', 'together', 'have', 'among', 'very', 'again', 'elsewhere', 'last', 'go', 'may', 'might', 'interest', 'him', 'cannot', 'made', 'any', 'whom', 'everywhere', 'done', 'much', 'something', 'as', 'but', 'thru', 'most', 'else', 'whence', 'will', 'these', 'after', 'co', 'her', 'which', 'seems', 'almost', 'cant', 'an', 'towards', 'himself', 'former', 'twenty', 'ten', 'noone', 'through', 'by', 'can', 'those', 'front', 'everything', 'always', 'ie', 'ours', 'whereas', 'when', 'herein', 'two', 'across', 'out', 'yours', 'nevertheless', 'their', 'whenever', 'what', 'me', 'become', 'is', 'thereafter', 'whereafter', 'the', 'because', 'while', 'fifteen', 'often', 'until', 'they', 'throughout', 'otherwise', 'latter', 'top', 'call', 'of', 'on', 'whoever', 'show', 'found', 'further', 'amoungst', 'put', 'could', 'would', 'and', 'are', 'should', 'i', 'meanwhile', 'name', 'although', 'couldnt', 'had', 'therein', 'either', 'bottom', 'neither', 'anything', 'along', 'why', 'still', 'please', 'every', 'them', 'around', 'ourselves', 'one', 'must', 'nobody', 'under', 'fill', 'many', 'beside', 'a', 'for', 'it', 'within', 'how', 'indeed', 'de', 'itself', 'during', 'he', 'afterwards', 'next', 'not', 'ever', 'about', 'ltd', 'beforehand', 'seeming', 'onto', 'without', 'per', 'hundred', 'same', 'in', 'least', 'other', 'no', 'cry', 'seem', 'all', 'well', 'against', 'hereafter', 'keep', 'hers', 'several', 'behind', 'amount', 'she', 'between', 'some', 'eleven', 'full', 'eg', 'over', 'themselves', 'fifty', 'upon', 'myself', 'too', 'due', 'own', 'only', 'became', 'via', 'namely', 'becomes', 'describe', 'whereupon', 'however', 'another', 'wherever', 'never', 'hence', 'above', 'whereby', 'thin', 'fire', 'anyway', 'anyhow', 'five', 'few', 'besides', 'see', 'third', 'here', 'we', 'sincere', 'sometimes', 'if', 'alone', 'where', 'except', 'herself', 'thus', 'whether', 'hereupon', 'into', 'from', 'get', 'whose', 'rather', 'whither', 'though', 'this', 'already', 'thick', 'seemed', 'becoming', 'am', 'down', 'serious', 'toward', 'nor', 'your', 'even', 'nowhere', 'everyone', 'empty', 'give', 'none', 'three', 'before', 'bill', 'sixty', 'take', 'was', 'somehow', 'off', 'mill', 'both', 'once', 'move', 'his', 'anywhere', 'now', 'wherein', 'yourself', 'there', 'than', 'being', 'anyone', 'whole', 'mine', 'un', 'its', 'mostly', 'back', 'us', 'forty', 'has', 'latterly', 'first', 'others', 'con', 'six', 'thereupon', 'nothing', 'then', 'below', 'such', 'at', 'nine', 'been', 'perhaps', 'formerly', 'enough', 'who', 'detail', 'therefore', 'amongst', 'more', 'system', 'since', 'etc', 'hereby', 'less'})\n"
     ]
    }
   ],
   "source": [
    "# set of stop words\n",
    "print(vect.get_stop_words())"
   ]
  },
  {
   "cell_type": "code",
   "execution_count": null,
   "metadata": {
    "id": "ranyDJnjGxTg",
    "outputId": "c523292d-344b-4c0c-c0be-b892a55044d5"
   },
   "outputs": [
    {
     "data": {
      "text/plain": [
       "318"
      ]
     },
     "execution_count": 41,
     "metadata": {},
     "output_type": "execute_result"
    }
   ],
   "source": [
    "len(vect.get_stop_words())"
   ]
  },
  {
   "cell_type": "code",
   "execution_count": null,
   "metadata": {
    "colab": {
     "base_uri": "https://localhost:8080/"
    },
    "executionInfo": {
     "elapsed": 2173,
     "status": "ok",
     "timestamp": 1618745569142,
     "user": {
      "displayName": "Sayan Dey",
      "photoUrl": "https://lh3.googleusercontent.com/a-/AOh14GgqVHJ9o6-7idGiRbNNd4iVc1VjzvuPnwmAnvEtD6U=s64",
      "userId": "03603580465490055794"
     },
     "user_tz": -330
    },
    "id": "SS5x5aFnV5Ih",
    "outputId": "23939f9d-3182-4e6f-dbc9-038642244150"
   },
   "outputs": [
    {
     "name": "stdout",
     "output_type": "stream",
     "text": [
      "Features:  25496\n",
      "Training Accuracy\n",
      "0.7914666666666667\n",
      "Testing Accuracy\n",
      "0.4672\n",
      "Confusion Matrix\n",
      "[[ 56  20  24  59  26]\n",
      " [ 23  21  38 130  22]\n",
      " [  6   6  37 270  46]\n",
      " [  7   1  16 635 225]\n",
      " [ 10   4  10 389 419]]\n",
      "Classifcation Report\n",
      "              precision    recall  f1-score   support\n",
      "\n",
      "           0       0.55      0.30      0.39       185\n",
      "           1       0.40      0.09      0.15       234\n",
      "           2       0.30      0.10      0.15       365\n",
      "           3       0.43      0.72      0.54       884\n",
      "           4       0.57      0.50      0.53       832\n",
      "\n",
      "    accuracy                           0.47      2500\n",
      "   macro avg       0.45      0.34      0.35      2500\n",
      "weighted avg       0.46      0.47      0.43      2500\n",
      "\n"
     ]
    }
   ],
   "source": [
    "# remove English stop words\n",
    "vect = CountVectorizer(stop_words='english')\n",
    "tokenize_test(vect)"
   ]
  },
  {
   "cell_type": "code",
   "execution_count": null,
   "metadata": {
    "colab": {
     "base_uri": "https://localhost:8080/"
    },
    "executionInfo": {
     "elapsed": 2824,
     "status": "ok",
     "timestamp": 1618745569808,
     "user": {
      "displayName": "Sayan Dey",
      "photoUrl": "https://lh3.googleusercontent.com/a-/AOh14GgqVHJ9o6-7idGiRbNNd4iVc1VjzvuPnwmAnvEtD6U=s64",
      "userId": "03603580465490055794"
     },
     "user_tz": -330
    },
    "id": "kCUJqWIwV5Io",
    "outputId": "45e2c869-2afd-4801-db30-b9241e9adf7a"
   },
   "outputs": [
    {
     "data": {
      "text/plain": [
       "<7500x25797 sparse matrix of type '<class 'numpy.int64'>'\n",
       "\twith 622700 stored elements in Compressed Sparse Row format>"
      ]
     },
     "execution_count": 47,
     "metadata": {},
     "output_type": "execute_result"
    }
   ],
   "source": [
    "# without stopwords, dtm size\n",
    "vect = CountVectorizer()\n",
    "vect.fit(X_train)\n",
    "vect.transform(X_train)"
   ]
  },
  {
   "cell_type": "code",
   "execution_count": null,
   "metadata": {
    "colab": {
     "base_uri": "https://localhost:8080/"
    },
    "executionInfo": {
     "elapsed": 1407,
     "status": "ok",
     "timestamp": 1618745571690,
     "user": {
      "displayName": "Sayan Dey",
      "photoUrl": "https://lh3.googleusercontent.com/a-/AOh14GgqVHJ9o6-7idGiRbNNd4iVc1VjzvuPnwmAnvEtD6U=s64",
      "userId": "03603580465490055794"
     },
     "user_tz": -330
    },
    "id": "uRUAneRIV5Ir",
    "outputId": "fdd80e5f-156f-4380-847f-5b7152f1907f"
   },
   "outputs": [
    {
     "data": {
      "text/plain": [
       "<7500x25496 sparse matrix of type '<class 'numpy.int64'>'\n",
       "\twith 378882 stored elements in Compressed Sparse Row format>"
      ]
     },
     "execution_count": 48,
     "metadata": {},
     "output_type": "execute_result"
    }
   ],
   "source": [
    "# with stopwords, dtm size\n",
    "vect = CountVectorizer(stop_words='english')\n",
    "vect.fit(X_train)\n",
    "vect.transform(X_train)"
   ]
  },
  {
   "cell_type": "code",
   "execution_count": null,
   "metadata": {
    "id": "wMN7IyRNV5Iv"
   },
   "outputs": [],
   "source": [
    "my_additional_stop_words = ['place','zumba']"
   ]
  },
  {
   "cell_type": "code",
   "execution_count": null,
   "metadata": {
    "id": "oCQmKC3kV5Iy"
   },
   "outputs": [],
   "source": [
    "from sklearn.feature_extraction import text\n",
    "my_stop_words = text.ENGLISH_STOP_WORDS.union(my_additional_stop_words)"
   ]
  },
  {
   "cell_type": "code",
   "execution_count": null,
   "metadata": {
    "id": "NDlvPFRrGxTi",
    "outputId": "92ac2768-0e8e-4192-f88a-578d8835cef9"
   },
   "outputs": [
    {
     "data": {
      "text/plain": [
       "320"
      ]
     },
     "execution_count": 51,
     "metadata": {},
     "output_type": "execute_result"
    }
   ],
   "source": [
    "len(my_stop_words)"
   ]
  },
  {
   "cell_type": "code",
   "execution_count": null,
   "metadata": {
    "colab": {
     "base_uri": "https://localhost:8080/"
    },
    "executionInfo": {
     "elapsed": 1513,
     "status": "ok",
     "timestamp": 1618745629348,
     "user": {
      "displayName": "Sayan Dey",
      "photoUrl": "https://lh3.googleusercontent.com/a-/AOh14GgqVHJ9o6-7idGiRbNNd4iVc1VjzvuPnwmAnvEtD6U=s64",
      "userId": "03603580465490055794"
     },
     "user_tz": -330
    },
    "id": "E5wWa8e1V5I7",
    "outputId": "36fc4306-0a6a-4fdd-a61c-2c7cd70fc324"
   },
   "outputs": [
    {
     "data": {
      "text/plain": [
       "<7500x25494 sparse matrix of type '<class 'numpy.int64'>'\n",
       "\twith 375648 stored elements in Compressed Sparse Row format>"
      ]
     },
     "execution_count": 52,
     "metadata": {},
     "output_type": "execute_result"
    }
   ],
   "source": [
    "# with stopwords, dtm size\n",
    "vect = CountVectorizer(stop_words=my_stop_words)\n",
    "vect.fit(X_train)\n",
    "vect.transform(X_train)"
   ]
  },
  {
   "cell_type": "code",
   "execution_count": null,
   "metadata": {
    "colab": {
     "base_uri": "https://localhost:8080/"
    },
    "executionInfo": {
     "elapsed": 1927,
     "status": "ok",
     "timestamp": 1618745646960,
     "user": {
      "displayName": "Sayan Dey",
      "photoUrl": "https://lh3.googleusercontent.com/a-/AOh14GgqVHJ9o6-7idGiRbNNd4iVc1VjzvuPnwmAnvEtD6U=s64",
      "userId": "03603580465490055794"
     },
     "user_tz": -330
    },
    "id": "rU6QLgT4V5JJ",
    "outputId": "ddd56589-55b2-4d48-ba4b-d7e6d26914ff"
   },
   "outputs": [
    {
     "name": "stdout",
     "output_type": "stream",
     "text": [
      "Features:  25494\n",
      "Training Accuracy\n",
      "0.7924\n",
      "Testing Accuracy\n",
      "0.4672\n",
      "Confusion Matrix\n",
      "[[ 58  20  26  57  24]\n",
      " [ 24  22  37 130  21]\n",
      " [  6   5  36 273  45]\n",
      " [  7   1  16 633 227]\n",
      " [ 10   5   9 389 419]]\n",
      "Classifcation Report\n",
      "              precision    recall  f1-score   support\n",
      "\n",
      "           1       0.55      0.31      0.40       185\n",
      "           2       0.42      0.09      0.15       234\n",
      "           3       0.29      0.10      0.15       365\n",
      "           4       0.43      0.72      0.54       884\n",
      "           5       0.57      0.50      0.53       832\n",
      "\n",
      "    accuracy                           0.47      2500\n",
      "   macro avg       0.45      0.35      0.35      2500\n",
      "weighted avg       0.46      0.47      0.43      2500\n",
      "\n"
     ]
    }
   ],
   "source": [
    "# remove updated stop words\n",
    "vect = CountVectorizer(stop_words=my_stop_words)\n",
    "tokenize_test(vect)"
   ]
  },
  {
   "cell_type": "markdown",
   "metadata": {
    "id": "2oXo-TymV5JM"
   },
   "source": [
    "## 4: Other CountVectorizer Options"
   ]
  },
  {
   "cell_type": "markdown",
   "metadata": {
    "id": "U6eceZ7TV5JN"
   },
   "source": [
    "- **max_features:** int or None, default=None\n",
    "- If not None, build a vocabulary that only consider the top max_features ordered by term frequency across the corpus."
   ]
  },
  {
   "cell_type": "code",
   "execution_count": null,
   "metadata": {
    "colab": {
     "base_uri": "https://localhost:8080/"
    },
    "executionInfo": {
     "elapsed": 1537,
     "status": "ok",
     "timestamp": 1618745653110,
     "user": {
      "displayName": "Sayan Dey",
      "photoUrl": "https://lh3.googleusercontent.com/a-/AOh14GgqVHJ9o6-7idGiRbNNd4iVc1VjzvuPnwmAnvEtD6U=s64",
      "userId": "03603580465490055794"
     },
     "user_tz": -330
    },
    "id": "yP4T-UqeV5JN",
    "outputId": "af54c2af-a8bc-4e84-80ff-9b933aac3a64"
   },
   "outputs": [
    {
     "name": "stdout",
     "output_type": "stream",
     "text": [
      "Features:  100\n",
      "Training Accuracy\n",
      "0.4688\n",
      "Testing Accuracy\n",
      "0.4516\n",
      "Confusion Matrix\n",
      "[[ 61  21  15  49  39]\n",
      " [ 54  36  28  71  45]\n",
      " [ 22  28  62 185  68]\n",
      " [ 33  24  60 472 295]\n",
      " [ 34  17  14 269 498]]\n",
      "Classifcation Report\n",
      "              precision    recall  f1-score   support\n",
      "\n",
      "           1       0.30      0.33      0.31       185\n",
      "           2       0.29      0.15      0.20       234\n",
      "           3       0.35      0.17      0.23       365\n",
      "           4       0.45      0.53      0.49       884\n",
      "           5       0.53      0.60      0.56       832\n",
      "\n",
      "    accuracy                           0.45      2500\n",
      "   macro avg       0.38      0.36      0.36      2500\n",
      "weighted avg       0.43      0.45      0.43      2500\n",
      "\n"
     ]
    }
   ],
   "source": [
    "# remove English stop words and only keep 100 features\n",
    "vect = CountVectorizer(stop_words='english', max_features=100)\n",
    "tokenize_test(vect)"
   ]
  },
  {
   "cell_type": "code",
   "execution_count": null,
   "metadata": {
    "colab": {
     "base_uri": "https://localhost:8080/"
    },
    "executionInfo": {
     "elapsed": 1438,
     "status": "ok",
     "timestamp": 1618745653110,
     "user": {
      "displayName": "Sayan Dey",
      "photoUrl": "https://lh3.googleusercontent.com/a-/AOh14GgqVHJ9o6-7idGiRbNNd4iVc1VjzvuPnwmAnvEtD6U=s64",
      "userId": "03603580465490055794"
     },
     "user_tz": -330
    },
    "id": "bYlvK8caV5JV",
    "outputId": "d091f7c7-a858-4985-86c9-000e93329ddc"
   },
   "outputs": [
    {
     "name": "stdout",
     "output_type": "stream",
     "text": [
      "['amazing', 'area', 'atmosphere', 'awesome', 'bad', 'bar', 'beer', 'best', 'better', 'big', 'bit', 'bread', 'burger', 'came', 'cheese', 'chicken', 'coffee', 'come', 'day', 'definitely', 'delicious', 'did', 'didn', 'dinner', 'don', 'drink', 'drinks', 'eat', 'experience', 'favorite', 'feel', 'food', 'fresh', 'friendly', 'fries', 'going', 'good', 'got', 'great', 'happy', 'home', 'hot', 'hour', 'just', 'know', 'like', 'little', 'll', 'location', 'long', 'looking', 'lot', 'love', 'lunch', 'make', 'meal', 'menu', 'minutes', 'new', 'nice', 'night', 'order', 'ordered', 'people', 'phoenix', 'pizza', 'place', 'pretty', 'price', 'prices', 'really', 'restaurant', 'right', 'said', 'salad', 'sandwich', 'sauce', 'say', 'service', 'small', 'staff', 'stars', 'sure', 'sweet', 'table', 'tasty', 'thing', 'things', 'think', 'time', 'times', 'try', 've', 'wait', 'want', 'wasn', 'way', 'went', 'wine', 'worth']\n"
     ]
    }
   ],
   "source": [
    "# all 100 features\n",
    "print(vect.get_feature_names())"
   ]
  },
  {
   "cell_type": "code",
   "execution_count": null,
   "metadata": {
    "colab": {
     "base_uri": "https://localhost:8080/"
    },
    "executionInfo": {
     "elapsed": 2999,
     "status": "ok",
     "timestamp": 1618745655075,
     "user": {
      "displayName": "Sayan Dey",
      "photoUrl": "https://lh3.googleusercontent.com/a-/AOh14GgqVHJ9o6-7idGiRbNNd4iVc1VjzvuPnwmAnvEtD6U=s64",
      "userId": "03603580465490055794"
     },
     "user_tz": -330
    },
    "id": "c_Hv3qo0V5Jm",
    "outputId": "32b1ff58-7381-4e60-b059-02cd76ce5306"
   },
   "outputs": [
    {
     "name": "stdout",
     "output_type": "stream",
     "text": [
      "Features:  100000\n",
      "Training Accuracy\n",
      "0.9398666666666666\n",
      "Testing Accuracy\n",
      "0.4868\n",
      "Confusion Matrix\n",
      "[[ 51  16  16  73  29]\n",
      " [ 21  17  30 143  23]\n",
      " [  1   3  26 293  42]\n",
      " [  0   0   9 659 216]\n",
      " [  4   0   0 364 464]]\n",
      "Classifcation Report\n",
      "              precision    recall  f1-score   support\n",
      "\n",
      "           1       0.66      0.28      0.39       185\n",
      "           2       0.47      0.07      0.13       234\n",
      "           3       0.32      0.07      0.12       365\n",
      "           4       0.43      0.75      0.55       884\n",
      "           5       0.60      0.56      0.58       832\n",
      "\n",
      "    accuracy                           0.49      2500\n",
      "   macro avg       0.50      0.34      0.35      2500\n",
      "weighted avg       0.49      0.49      0.44      2500\n",
      "\n"
     ]
    }
   ],
   "source": [
    "# include 1-grams and 2-grams, and limit the number of features\n",
    "vect = CountVectorizer(ngram_range=(1, 2), max_features=100000)\n",
    "tokenize_test(vect)"
   ]
  },
  {
   "cell_type": "markdown",
   "metadata": {
    "id": "4S_r7h4HV5Jw"
   },
   "source": [
    "- **min_df:** float in range [0.0, 1.0] or int, default=1\n",
    "- When building the vocabulary ignore terms that have a document frequency strictly lower than the given threshold. This value is also called cut-off in the literature. If float, the parameter represents a proportion of documents, integer absolute counts."
   ]
  },
  {
   "cell_type": "code",
   "execution_count": null,
   "metadata": {
    "colab": {
     "base_uri": "https://localhost:8080/"
    },
    "executionInfo": {
     "elapsed": 3565,
     "status": "ok",
     "timestamp": 1618745656619,
     "user": {
      "displayName": "Sayan Dey",
      "photoUrl": "https://lh3.googleusercontent.com/a-/AOh14GgqVHJ9o6-7idGiRbNNd4iVc1VjzvuPnwmAnvEtD6U=s64",
      "userId": "03603580465490055794"
     },
     "user_tz": -330
    },
    "id": "xh3tI5vKV5Jx",
    "outputId": "927bc642-ae7b-4392-fccf-47d60d3deffd"
   },
   "outputs": [
    {
     "name": "stdout",
     "output_type": "stream",
     "text": [
      "Features:  95504\n",
      "Training Accuracy\n",
      "0.9410666666666667\n",
      "Testing Accuracy\n",
      "0.4908\n",
      "Confusion Matrix\n",
      "[[ 58  16  19  63  29]\n",
      " [ 24  22  30 135  23]\n",
      " [  1   3  32 285  44]\n",
      " [  0   1  10 649 224]\n",
      " [  4   0   0 362 466]]\n",
      "Classifcation Report\n",
      "              precision    recall  f1-score   support\n",
      "\n",
      "           1       0.67      0.31      0.43       185\n",
      "           2       0.52      0.09      0.16       234\n",
      "           3       0.35      0.09      0.14       365\n",
      "           4       0.43      0.73      0.55       884\n",
      "           5       0.59      0.56      0.58       832\n",
      "\n",
      "    accuracy                           0.49      2500\n",
      "   macro avg       0.51      0.36      0.37      2500\n",
      "weighted avg       0.50      0.49      0.45      2500\n",
      "\n"
     ]
    }
   ],
   "source": [
    "# include 1-grams and 2-grams, and only include terms that appear at least 2 times\n",
    "vect = CountVectorizer(ngram_range=(1, 2), min_df=2)\n",
    "tokenize_test(vect)"
   ]
  },
  {
   "cell_type": "markdown",
   "metadata": {
    "id": "2fFobBUOV5J4"
   },
   "source": [
    "##  5: Introduction to TextBlob"
   ]
  },
  {
   "cell_type": "markdown",
   "metadata": {
    "id": "2l-iSErRV5J7"
   },
   "source": [
    "TextBlob: \"Simplified Text Processing\""
   ]
  },
  {
   "cell_type": "code",
   "execution_count": null,
   "metadata": {
    "colab": {
     "base_uri": "https://localhost:8080/",
     "height": 158
    },
    "executionInfo": {
     "elapsed": 3917,
     "status": "ok",
     "timestamp": 1601642810209,
     "user": {
      "displayName": "Sayan Dey",
      "photoUrl": "https://lh3.googleusercontent.com/a-/AOh14GgqVHJ9o6-7idGiRbNNd4iVc1VjzvuPnwmAnvEtD6U=s64",
      "userId": "03603580465490055794"
     },
     "user_tz": -330
    },
    "id": "EL9t4i9HV5J8",
    "outputId": "1ccfc4e5-2e81-42d7-937f-ecfee9ab6b6c"
   },
   "outputs": [
    {
     "name": "stdout",
     "output_type": "stream",
     "text": [
      "My wife took me here on my birthday for breakfast and it was excellent.  The weather was perfect which made sitting outside overlooking their grounds an absolute pleasure.  Our waitress was excellent and our food arrived quickly on the semi-busy Saturday morning.  It looked like the place fills up pretty quickly so the earlier you get here the better.\n",
      "\n",
      "Do yourself a favor and get their Bloody Mary.  It was phenomenal and simply the best I've ever had.  I'm pretty sure they only use ingredients from their garden and blend them fresh when you order it.  It was amazing.\n",
      "\n",
      "While EVERYTHING on the menu looks excellent, I had the white truffle scrambled eggs vegetable skillet and it was tasty and delicious.  It came with 2 pieces of their griddled bread with was amazing and it absolutely made the meal complete.  It was the best \"toast\" I've ever had.\n",
      "\n",
      "Anyway, I can't wait to go back!\n"
     ]
    }
   ],
   "source": [
    "# print the first review\n",
    "print (yelp_best_worst.text[0])"
   ]
  },
  {
   "cell_type": "code",
   "execution_count": null,
   "metadata": {
    "id": "jf3EVmMdGxTn",
    "outputId": "f667bcc6-e2a0-4dcb-bf1e-04256a0d9b01"
   },
   "outputs": [
    {
     "data": {
      "text/plain": [
       "4"
      ]
     },
     "execution_count": 54,
     "metadata": {},
     "output_type": "execute_result"
    }
   ],
   "source": [
    "yelp_best_worst.stars[0]"
   ]
  },
  {
   "cell_type": "code",
   "execution_count": null,
   "metadata": {
    "id": "maanVCcaV5J_"
   },
   "outputs": [],
   "source": [
    "# save it as a TextBlob object\n",
    "review = TextBlob(yelp_best_worst.text[0])"
   ]
  },
  {
   "cell_type": "code",
   "execution_count": null,
   "metadata": {
    "colab": {
     "base_uri": "https://localhost:8080/",
     "height": 69
    },
    "executionInfo": {
     "elapsed": 2001,
     "status": "ok",
     "timestamp": 1601642819612,
     "user": {
      "displayName": "Sayan Dey",
      "photoUrl": "https://lh3.googleusercontent.com/a-/AOh14GgqVHJ9o6-7idGiRbNNd4iVc1VjzvuPnwmAnvEtD6U=s64",
      "userId": "03603580465490055794"
     },
     "user_tz": -330
    },
    "id": "5U0ZPAtys7W-",
    "outputId": "2f949910-eb29-4210-bae4-1a1ad764cdfb",
    "scrolled": false
   },
   "outputs": [
    {
     "name": "stderr",
     "output_type": "stream",
     "text": [
      "[nltk_data] Downloading package punkt to\n",
      "[nltk_data]     C:\\Users\\sayan\\AppData\\Roaming\\nltk_data...\n",
      "[nltk_data]   Package punkt is already up-to-date!\n"
     ]
    },
    {
     "data": {
      "text/plain": [
       "True"
      ]
     },
     "execution_count": 56,
     "metadata": {},
     "output_type": "execute_result"
    }
   ],
   "source": [
    "nltk.download('punkt')"
   ]
  },
  {
   "cell_type": "code",
   "execution_count": null,
   "metadata": {
    "colab": {
     "base_uri": "https://localhost:8080/",
     "height": 54
    },
    "executionInfo": {
     "elapsed": 1073,
     "status": "ok",
     "timestamp": 1601642819614,
     "user": {
      "displayName": "Sayan Dey",
      "photoUrl": "https://lh3.googleusercontent.com/a-/AOh14GgqVHJ9o6-7idGiRbNNd4iVc1VjzvuPnwmAnvEtD6U=s64",
      "userId": "03603580465490055794"
     },
     "user_tz": -330
    },
    "id": "ng0v0gULV5KD",
    "outputId": "de095912-77b5-47a8-bf07-ee0c3ca44e69"
   },
   "outputs": [
    {
     "data": {
      "text/plain": [
       "WordList(['My', 'wife', 'took', 'me', 'here', 'on', 'my', 'birthday', 'for', 'breakfast', 'and', 'it', 'was', 'excellent', 'The', 'weather', 'was', 'perfect', 'which', 'made', 'sitting', 'outside', 'overlooking', 'their', 'grounds', 'an', 'absolute', 'pleasure', 'Our', 'waitress', 'was', 'excellent', 'and', 'our', 'food', 'arrived', 'quickly', 'on', 'the', 'semi-busy', 'Saturday', 'morning', 'It', 'looked', 'like', 'the', 'place', 'fills', 'up', 'pretty', 'quickly', 'so', 'the', 'earlier', 'you', 'get', 'here', 'the', 'better', 'Do', 'yourself', 'a', 'favor', 'and', 'get', 'their', 'Bloody', 'Mary', 'It', 'was', 'phenomenal', 'and', 'simply', 'the', 'best', 'I', \"'ve\", 'ever', 'had', 'I', \"'m\", 'pretty', 'sure', 'they', 'only', 'use', 'ingredients', 'from', 'their', 'garden', 'and', 'blend', 'them', 'fresh', 'when', 'you', 'order', 'it', 'It', 'was', 'amazing', 'While', 'EVERYTHING', 'on', 'the', 'menu', 'looks', 'excellent', 'I', 'had', 'the', 'white', 'truffle', 'scrambled', 'eggs', 'vegetable', 'skillet', 'and', 'it', 'was', 'tasty', 'and', 'delicious', 'It', 'came', 'with', '2', 'pieces', 'of', 'their', 'griddled', 'bread', 'with', 'was', 'amazing', 'and', 'it', 'absolutely', 'made', 'the', 'meal', 'complete', 'It', 'was', 'the', 'best', 'toast', 'I', \"'ve\", 'ever', 'had', 'Anyway', 'I', 'ca', \"n't\", 'wait', 'to', 'go', 'back'])"
      ]
     },
     "execution_count": 57,
     "metadata": {},
     "output_type": "execute_result"
    }
   ],
   "source": [
    "# list the words\n",
    "review.words"
   ]
  },
  {
   "cell_type": "code",
   "execution_count": null,
   "metadata": {
    "colab": {
     "base_uri": "https://localhost:8080/",
     "height": 224
    },
    "executionInfo": {
     "elapsed": 1601,
     "status": "ok",
     "timestamp": 1601642820892,
     "user": {
      "displayName": "Sayan Dey",
      "photoUrl": "https://lh3.googleusercontent.com/a-/AOh14GgqVHJ9o6-7idGiRbNNd4iVc1VjzvuPnwmAnvEtD6U=s64",
      "userId": "03603580465490055794"
     },
     "user_tz": -330
    },
    "id": "1FVxOp2vV5KK",
    "outputId": "74ed5340-b38e-4792-e783-33752c85861d",
    "scrolled": true
   },
   "outputs": [
    {
     "data": {
      "text/plain": [
       "[Sentence(\"My wife took me here on my birthday for breakfast and it was excellent.\"),\n",
       " Sentence(\"The weather was perfect which made sitting outside overlooking their grounds an absolute pleasure.\"),\n",
       " Sentence(\"Our waitress was excellent and our food arrived quickly on the semi-busy Saturday morning.\"),\n",
       " Sentence(\"It looked like the place fills up pretty quickly so the earlier you get here the better.\"),\n",
       " Sentence(\"Do yourself a favor and get their Bloody Mary.\"),\n",
       " Sentence(\"It was phenomenal and simply the best I've ever had.\"),\n",
       " Sentence(\"I'm pretty sure they only use ingredients from their garden and blend them fresh when you order it.\"),\n",
       " Sentence(\"It was amazing.\"),\n",
       " Sentence(\"While EVERYTHING on the menu looks excellent, I had the white truffle scrambled eggs vegetable skillet and it was tasty and delicious.\"),\n",
       " Sentence(\"It came with 2 pieces of their griddled bread with was amazing and it absolutely made the meal complete.\"),\n",
       " Sentence(\"It was the best \"toast\" I've ever had.\"),\n",
       " Sentence(\"Anyway, I can't wait to go back!\")]"
      ]
     },
     "execution_count": 58,
     "metadata": {},
     "output_type": "execute_result"
    }
   ],
   "source": [
    "# list the sentences\n",
    "review.sentences"
   ]
  },
  {
   "cell_type": "code",
   "execution_count": null,
   "metadata": {
    "colab": {
     "base_uri": "https://localhost:8080/",
     "height": 158
    },
    "executionInfo": {
     "elapsed": 1390,
     "status": "ok",
     "timestamp": 1601642820901,
     "user": {
      "displayName": "Sayan Dey",
      "photoUrl": "https://lh3.googleusercontent.com/a-/AOh14GgqVHJ9o6-7idGiRbNNd4iVc1VjzvuPnwmAnvEtD6U=s64",
      "userId": "03603580465490055794"
     },
     "user_tz": -330
    },
    "id": "WXXf-MqsV5KN",
    "outputId": "617916c0-078b-4f56-caf8-9406301415a4"
   },
   "outputs": [
    {
     "data": {
      "text/plain": [
       "TextBlob(\"my wife took me here on my birthday for breakfast and it was excellent.  the weather was perfect which made sitting outside overlooking their grounds an absolute pleasure.  our waitress was excellent and our food arrived quickly on the semi-busy saturday morning.  it looked like the place fills up pretty quickly so the earlier you get here the better.\n",
       "\n",
       "do yourself a favor and get their bloody mary.  it was phenomenal and simply the best i've ever had.  i'm pretty sure they only use ingredients from their garden and blend them fresh when you order it.  it was amazing.\n",
       "\n",
       "while everything on the menu looks excellent, i had the white truffle scrambled eggs vegetable skillet and it was tasty and delicious.  it came with 2 pieces of their griddled bread with was amazing and it absolutely made the meal complete.  it was the best \"toast\" i've ever had.\n",
       "\n",
       "anyway, i can't wait to go back!\")"
      ]
     },
     "execution_count": 59,
     "metadata": {},
     "output_type": "execute_result"
    }
   ],
   "source": [
    "# some string methods are available\n",
    "review.lower()"
   ]
  },
  {
   "cell_type": "markdown",
   "metadata": {
    "id": "Nr4-EPt2V5KX"
   },
   "source": [
    "##  6: Stemming and Lemmatization"
   ]
  },
  {
   "cell_type": "markdown",
   "metadata": {
    "id": "hCBb6A6KV5KX"
   },
   "source": [
    "**Stemming:**\n",
    "\n",
    "- **What:** Reduce a word to its base/stem/root form\n",
    "- **Why:** Often makes sense to treat related words the same way\n",
    "- **Notes:**\n",
    "    - Uses a \"simple\" and fast rule-based approach\n",
    "    - Stemmed words are usually not shown to users (used for analysis/indexing)\n",
    "    - Some search engines treat words with the same stem as synonyms"
   ]
  },
  {
   "cell_type": "code",
   "execution_count": null,
   "metadata": {
    "id": "PCbhgStuGxTp",
    "outputId": "44394623-85bc-4111-aa88-8fa835b69572"
   },
   "outputs": [
    {
     "data": {
      "text/plain": [
       "WordList(['My', 'wife', 'took', 'me', 'here', 'on', 'my', 'birthday', 'for', 'breakfast', 'and', 'it', 'was', 'excellent', 'The', 'weather', 'was', 'perfect', 'which', 'made', 'sitting', 'outside', 'overlooking', 'their', 'grounds', 'an', 'absolute', 'pleasure', 'Our', 'waitress', 'was', 'excellent', 'and', 'our', 'food', 'arrived', 'quickly', 'on', 'the', 'semi-busy', 'Saturday', 'morning', 'It', 'looked', 'like', 'the', 'place', 'fills', 'up', 'pretty', 'quickly', 'so', 'the', 'earlier', 'you', 'get', 'here', 'the', 'better', 'Do', 'yourself', 'a', 'favor', 'and', 'get', 'their', 'Bloody', 'Mary', 'It', 'was', 'phenomenal', 'and', 'simply', 'the', 'best', 'I', \"'ve\", 'ever', 'had', 'I', \"'m\", 'pretty', 'sure', 'they', 'only', 'use', 'ingredients', 'from', 'their', 'garden', 'and', 'blend', 'them', 'fresh', 'when', 'you', 'order', 'it', 'It', 'was', 'amazing', 'While', 'EVERYTHING', 'on', 'the', 'menu', 'looks', 'excellent', 'I', 'had', 'the', 'white', 'truffle', 'scrambled', 'eggs', 'vegetable', 'skillet', 'and', 'it', 'was', 'tasty', 'and', 'delicious', 'It', 'came', 'with', '2', 'pieces', 'of', 'their', 'griddled', 'bread', 'with', 'was', 'amazing', 'and', 'it', 'absolutely', 'made', 'the', 'meal', 'complete', 'It', 'was', 'the', 'best', 'toast', 'I', \"'ve\", 'ever', 'had', 'Anyway', 'I', 'ca', \"n't\", 'wait', 'to', 'go', 'back'])"
      ]
     },
     "execution_count": 208,
     "metadata": {},
     "output_type": "execute_result"
    }
   ],
   "source": [
    "review.words"
   ]
  },
  {
   "cell_type": "code",
   "execution_count": null,
   "metadata": {
    "id": "SaV9SrVUV5KY"
   },
   "outputs": [],
   "source": [
    "# initialize stemmer\n",
    "stemmer = SnowballStemmer('english')"
   ]
  },
  {
   "cell_type": "code",
   "execution_count": null,
   "metadata": {
    "colab": {
     "base_uri": "https://localhost:8080/",
     "height": 54
    },
    "executionInfo": {
     "elapsed": 1381,
     "status": "ok",
     "timestamp": 1601642827650,
     "user": {
      "displayName": "Sayan Dey",
      "photoUrl": "https://lh3.googleusercontent.com/a-/AOh14GgqVHJ9o6-7idGiRbNNd4iVc1VjzvuPnwmAnvEtD6U=s64",
      "userId": "03603580465490055794"
     },
     "user_tz": -330
    },
    "id": "R5NMPmnBV5Ko",
    "outputId": "8d359b62-3705-4cfd-e55d-340aad5ac6bb"
   },
   "outputs": [
    {
     "name": "stdout",
     "output_type": "stream",
     "text": [
      "['my', 'wife', 'took', 'me', 'here', 'on', 'my', 'birthday', 'for', 'breakfast', 'and', 'it', 'was', 'excel', 'the', 'weather', 'was', 'perfect', 'which', 'made', 'sit', 'outsid', 'overlook', 'their', 'ground', 'an', 'absolut', 'pleasur', 'our', 'waitress', 'was', 'excel', 'and', 'our', 'food', 'arriv', 'quick', 'on', 'the', 'semi-busi', 'saturday', 'morn', 'it', 'look', 'like', 'the', 'place', 'fill', 'up', 'pretti', 'quick', 'so', 'the', 'earlier', 'you', 'get', 'here', 'the', 'better', 'do', 'yourself', 'a', 'favor', 'and', 'get', 'their', 'bloodi', 'mari', 'it', 'was', 'phenomen', 'and', 'simpli', 'the', 'best', 'i', 've', 'ever', 'had', 'i', \"'m\", 'pretti', 'sure', 'they', 'onli', 'use', 'ingredi', 'from', 'their', 'garden', 'and', 'blend', 'them', 'fresh', 'when', 'you', 'order', 'it', 'it', 'was', 'amaz', 'while', 'everyth', 'on', 'the', 'menu', 'look', 'excel', 'i', 'had', 'the', 'white', 'truffl', 'scrambl', 'egg', 'veget', 'skillet', 'and', 'it', 'was', 'tasti', 'and', 'delici', 'it', 'came', 'with', '2', 'piec', 'of', 'their', 'griddl', 'bread', 'with', 'was', 'amaz', 'and', 'it', 'absolut', 'made', 'the', 'meal', 'complet', 'it', 'was', 'the', 'best', 'toast', 'i', 've', 'ever', 'had', 'anyway', 'i', 'ca', \"n't\", 'wait', 'to', 'go', 'back']\n"
     ]
    }
   ],
   "source": [
    "# stem each word\n",
    "print ([stemmer.stem(word) for word in review.words])"
   ]
  },
  {
   "cell_type": "markdown",
   "metadata": {
    "id": "IhGK9CaeV5Kq"
   },
   "source": [
    "**Lemmatization**\n",
    "\n",
    "- **What:** Derive the canonical form ('lemma') of a word\n",
    "- **Why:** Can be better than stemming\n",
    "- **Notes:** Uses a dictionary-based approach (slower than stemming)"
   ]
  },
  {
   "cell_type": "code",
   "execution_count": null,
   "metadata": {
    "colab": {
     "base_uri": "https://localhost:8080/",
     "height": 69
    },
    "executionInfo": {
     "elapsed": 1806,
     "status": "ok",
     "timestamp": 1601642833965,
     "user": {
      "displayName": "Sayan Dey",
      "photoUrl": "https://lh3.googleusercontent.com/a-/AOh14GgqVHJ9o6-7idGiRbNNd4iVc1VjzvuPnwmAnvEtD6U=s64",
      "userId": "03603580465490055794"
     },
     "user_tz": -330
    },
    "id": "xjqUkz7eV5Kq",
    "outputId": "7c080994-6966-4ee0-c258-4f29ffddc072"
   },
   "outputs": [
    {
     "name": "stderr",
     "output_type": "stream",
     "text": [
      "[nltk_data] Downloading package wordnet to\n",
      "[nltk_data]     C:\\Users\\Sayan\\AppData\\Roaming\\nltk_data...\n",
      "[nltk_data]   Package wordnet is already up-to-date!\n"
     ]
    },
    {
     "data": {
      "text/plain": [
       "True"
      ]
     },
     "execution_count": 211,
     "metadata": {},
     "output_type": "execute_result"
    }
   ],
   "source": [
    "nltk.download('wordnet')"
   ]
  },
  {
   "cell_type": "code",
   "execution_count": null,
   "metadata": {
    "colab": {
     "base_uri": "https://localhost:8080/",
     "height": 54
    },
    "executionInfo": {
     "elapsed": 3225,
     "status": "ok",
     "timestamp": 1601642840331,
     "user": {
      "displayName": "Sayan Dey",
      "photoUrl": "https://lh3.googleusercontent.com/a-/AOh14GgqVHJ9o6-7idGiRbNNd4iVc1VjzvuPnwmAnvEtD6U=s64",
      "userId": "03603580465490055794"
     },
     "user_tz": -330
    },
    "id": "JdF1yxbXV5Ku",
    "outputId": "326fc5e0-8815-4568-8bf4-6bfd2f788c3f"
   },
   "outputs": [
    {
     "name": "stdout",
     "output_type": "stream",
     "text": [
      "['My', 'wife', 'took', 'me', 'here', 'on', 'my', 'birthday', 'for', 'breakfast', 'and', 'it', 'wa', 'excellent', 'The', 'weather', 'wa', 'perfect', 'which', 'made', 'sitting', 'outside', 'overlooking', 'their', 'ground', 'an', 'absolute', 'pleasure', 'Our', 'waitress', 'wa', 'excellent', 'and', 'our', 'food', 'arrived', 'quickly', 'on', 'the', 'semi-busy', 'Saturday', 'morning', 'It', 'looked', 'like', 'the', 'place', 'fill', 'up', 'pretty', 'quickly', 'so', 'the', 'earlier', 'you', 'get', 'here', 'the', 'better', 'Do', 'yourself', 'a', 'favor', 'and', 'get', 'their', 'Bloody', 'Mary', 'It', 'wa', 'phenomenal', 'and', 'simply', 'the', 'best', 'I', \"'ve\", 'ever', 'had', 'I', \"'m\", 'pretty', 'sure', 'they', 'only', 'use', 'ingredient', 'from', 'their', 'garden', 'and', 'blend', 'them', 'fresh', 'when', 'you', 'order', 'it', 'It', 'wa', 'amazing', 'While', 'EVERYTHING', 'on', 'the', 'menu', 'look', 'excellent', 'I', 'had', 'the', 'white', 'truffle', 'scrambled', 'egg', 'vegetable', 'skillet', 'and', 'it', 'wa', 'tasty', 'and', 'delicious', 'It', 'came', 'with', '2', 'piece', 'of', 'their', 'griddled', 'bread', 'with', 'wa', 'amazing', 'and', 'it', 'absolutely', 'made', 'the', 'meal', 'complete', 'It', 'wa', 'the', 'best', 'toast', 'I', \"'ve\", 'ever', 'had', 'Anyway', 'I', 'ca', \"n't\", 'wait', 'to', 'go', 'back']\n"
     ]
    }
   ],
   "source": [
    "# assume every word is a noun\n",
    "print ([word.lemmatize() for word in review.words])"
   ]
  },
  {
   "cell_type": "code",
   "execution_count": null,
   "metadata": {
    "colab": {
     "base_uri": "https://localhost:8080/",
     "height": 54
    },
    "executionInfo": {
     "elapsed": 1230,
     "status": "ok",
     "timestamp": 1601642840922,
     "user": {
      "displayName": "Sayan Dey",
      "photoUrl": "https://lh3.googleusercontent.com/a-/AOh14GgqVHJ9o6-7idGiRbNNd4iVc1VjzvuPnwmAnvEtD6U=s64",
      "userId": "03603580465490055794"
     },
     "user_tz": -330
    },
    "id": "hHuL6R_MV5Kw",
    "outputId": "57354b1b-3bd6-403e-f6d6-430349a4d01c"
   },
   "outputs": [
    {
     "name": "stdout",
     "output_type": "stream",
     "text": [
      "['My', 'wife', 'take', 'me', 'here', 'on', 'my', 'birthday', 'for', 'breakfast', 'and', 'it', 'be', 'excellent', 'The', 'weather', 'be', 'perfect', 'which', 'make', 'sit', 'outside', 'overlook', 'their', 'ground', 'an', 'absolute', 'pleasure', 'Our', 'waitress', 'be', 'excellent', 'and', 'our', 'food', 'arrive', 'quickly', 'on', 'the', 'semi-busy', 'Saturday', 'morning', 'It', 'look', 'like', 'the', 'place', 'fill', 'up', 'pretty', 'quickly', 'so', 'the', 'earlier', 'you', 'get', 'here', 'the', 'better', 'Do', 'yourself', 'a', 'favor', 'and', 'get', 'their', 'Bloody', 'Mary', 'It', 'be', 'phenomenal', 'and', 'simply', 'the', 'best', 'I', \"'ve\", 'ever', 'have', 'I', \"'m\", 'pretty', 'sure', 'they', 'only', 'use', 'ingredients', 'from', 'their', 'garden', 'and', 'blend', 'them', 'fresh', 'when', 'you', 'order', 'it', 'It', 'be', 'amaze', 'While', 'EVERYTHING', 'on', 'the', 'menu', 'look', 'excellent', 'I', 'have', 'the', 'white', 'truffle', 'scramble', 'egg', 'vegetable', 'skillet', 'and', 'it', 'be', 'tasty', 'and', 'delicious', 'It', 'come', 'with', '2', 'piece', 'of', 'their', 'griddle', 'bread', 'with', 'be', 'amaze', 'and', 'it', 'absolutely', 'make', 'the', 'meal', 'complete', 'It', 'be', 'the', 'best', 'toast', 'I', \"'ve\", 'ever', 'have', 'Anyway', 'I', 'ca', \"n't\", 'wait', 'to', 'go', 'back']\n"
     ]
    }
   ],
   "source": [
    "# assume every word is a verb\n",
    "print ([word.lemmatize(pos='v') for word in review.words])"
   ]
  },
  {
   "cell_type": "code",
   "execution_count": null,
   "metadata": {
    "id": "fKlUSLVnV5K1"
   },
   "outputs": [],
   "source": []
  },
  {
   "cell_type": "code",
   "execution_count": null,
   "metadata": {
    "id": "WNFJ87DUV5K8"
   },
   "outputs": [],
   "source": [
    "# define a function that accepts text and returns a list of lemmas\n",
    "def split_into_lemmas(text):\n",
    "    text = text.lower()\n",
    "    words = TextBlob(text).words\n",
    "    return [word.lemmatize() for word in words]"
   ]
  },
  {
   "cell_type": "code",
   "execution_count": null,
   "metadata": {
    "colab": {
     "base_uri": "https://localhost:8080/",
     "height": 34
    },
    "executionInfo": {
     "elapsed": 1180,
     "status": "ok",
     "timestamp": 1601642841450,
     "user": {
      "displayName": "Sayan Dey",
      "photoUrl": "https://lh3.googleusercontent.com/a-/AOh14GgqVHJ9o6-7idGiRbNNd4iVc1VjzvuPnwmAnvEtD6U=s64",
      "userId": "03603580465490055794"
     },
     "user_tz": -330
    },
    "id": "qP0De5cwV5K_",
    "outputId": "42868b8b-d768-4a5b-ef1f-a1a3c8cce734"
   },
   "outputs": [
    {
     "data": {
      "text/plain": [
       "<function __main__.split_into_lemmas(text)>"
      ]
     },
     "execution_count": 215,
     "metadata": {},
     "output_type": "execute_result"
    }
   ],
   "source": [
    "split_into_lemmas"
   ]
  },
  {
   "cell_type": "code",
   "execution_count": null,
   "metadata": {
    "id": "cO24Uf7UV5LD"
   },
   "outputs": [],
   "source": [
    "# use split_into_lemmas as the feature extraction function (WARNING: SLOW!)\n",
    "vect = CountVectorizer(analyzer=split_into_lemmas,stop_words='english',ngram_range=(1, 1),min_df=5)\n",
    "#vect = CountVectorizer(stop_words='english',ngram_range=(1, 1),min_df=1)"
   ]
  },
  {
   "cell_type": "code",
   "execution_count": null,
   "metadata": {
    "colab": {
     "base_uri": "https://localhost:8080/",
     "height": 327
    },
    "executionInfo": {
     "elapsed": 21551,
     "status": "ok",
     "timestamp": 1601642863751,
     "user": {
      "displayName": "Sayan Dey",
      "photoUrl": "https://lh3.googleusercontent.com/a-/AOh14GgqVHJ9o6-7idGiRbNNd4iVc1VjzvuPnwmAnvEtD6U=s64",
      "userId": "03603580465490055794"
     },
     "user_tz": -330
    },
    "id": "MI8GqLEvV5LG",
    "outputId": "a6256f9a-5964-42d1-e753-c9cdde6f2fd8"
   },
   "outputs": [
    {
     "name": "stdout",
     "output_type": "stream",
     "text": [
      "Features:  6845\n",
      "Training Accuracy\n",
      "0.7425333333333334\n",
      "Testing Accuracy\n",
      "0.498\n",
      "Confusion Matrix\n",
      "[[ 93  40  25  13  14]\n",
      " [ 53  65  67  36  13]\n",
      " [ 24  29 122 148  42]\n",
      " [ 22  20  83 498 261]\n",
      " [ 28  14  25 298 467]]\n",
      "Classifcation Report\n",
      "              precision    recall  f1-score   support\n",
      "\n",
      "           1       0.42      0.50      0.46       185\n",
      "           2       0.39      0.28      0.32       234\n",
      "           3       0.38      0.33      0.36       365\n",
      "           4       0.50      0.56      0.53       884\n",
      "           5       0.59      0.56      0.57       832\n",
      "\n",
      "    accuracy                           0.50      2500\n",
      "   macro avg       0.46      0.45      0.45      2500\n",
      "weighted avg       0.50      0.50      0.49      2500\n",
      "\n"
     ]
    }
   ],
   "source": [
    "tokenize_test(vect)"
   ]
  },
  {
   "cell_type": "markdown",
   "metadata": {
    "id": "vhjGSxOKV5LS"
   },
   "source": [
    "## 7: Term Frequency-Inverse Document Frequency (TF-IDF)"
   ]
  },
  {
   "cell_type": "markdown",
   "metadata": {
    "id": "WcjmyYa2V5LT"
   },
   "source": [
    "- **What:** Computes \"relative frequency\" that a word appears in a document compared to its frequency across all documents\n",
    "- **Why:** More useful than \"term frequency\" for identifying \"important\" words in each document (high frequency in that document, low frequency in other documents)\n",
    "- **Notes:** Used for search engine scoring, text summarization, document clustering"
   ]
  },
  {
   "cell_type": "code",
   "execution_count": null,
   "metadata": {
    "id": "WG0y6By0V5LT"
   },
   "outputs": [],
   "source": [
    "# example documents\n",
    "simple_train = ['call you tonight', 'Call me a cab', 'please call me... PLEASE!']"
   ]
  },
  {
   "cell_type": "code",
   "execution_count": null,
   "metadata": {
    "colab": {
     "base_uri": "https://localhost:8080/",
     "height": 140
    },
    "executionInfo": {
     "elapsed": 18989,
     "status": "ok",
     "timestamp": 1601642864280,
     "user": {
      "displayName": "Sayan Dey",
      "photoUrl": "https://lh3.googleusercontent.com/a-/AOh14GgqVHJ9o6-7idGiRbNNd4iVc1VjzvuPnwmAnvEtD6U=s64",
      "userId": "03603580465490055794"
     },
     "user_tz": -330
    },
    "id": "xHUfTpV5V5LV",
    "outputId": "e5d42e8f-3944-4df2-c4c2-8ad7c8ba2d83"
   },
   "outputs": [
    {
     "data": {
      "text/html": [
       "<div>\n",
       "<style scoped>\n",
       "    .dataframe tbody tr th:only-of-type {\n",
       "        vertical-align: middle;\n",
       "    }\n",
       "\n",
       "    .dataframe tbody tr th {\n",
       "        vertical-align: top;\n",
       "    }\n",
       "\n",
       "    .dataframe thead th {\n",
       "        text-align: right;\n",
       "    }\n",
       "</style>\n",
       "<table border=\"1\" class=\"dataframe\">\n",
       "  <thead>\n",
       "    <tr style=\"text-align: right;\">\n",
       "      <th></th>\n",
       "      <th>cab</th>\n",
       "      <th>call</th>\n",
       "      <th>me</th>\n",
       "      <th>please</th>\n",
       "      <th>tonight</th>\n",
       "      <th>you</th>\n",
       "    </tr>\n",
       "  </thead>\n",
       "  <tbody>\n",
       "    <tr>\n",
       "      <th>0</th>\n",
       "      <td>0</td>\n",
       "      <td>1</td>\n",
       "      <td>0</td>\n",
       "      <td>0</td>\n",
       "      <td>1</td>\n",
       "      <td>1</td>\n",
       "    </tr>\n",
       "    <tr>\n",
       "      <th>1</th>\n",
       "      <td>1</td>\n",
       "      <td>1</td>\n",
       "      <td>1</td>\n",
       "      <td>0</td>\n",
       "      <td>0</td>\n",
       "      <td>0</td>\n",
       "    </tr>\n",
       "    <tr>\n",
       "      <th>2</th>\n",
       "      <td>0</td>\n",
       "      <td>1</td>\n",
       "      <td>1</td>\n",
       "      <td>2</td>\n",
       "      <td>0</td>\n",
       "      <td>0</td>\n",
       "    </tr>\n",
       "  </tbody>\n",
       "</table>\n",
       "</div>"
      ],
      "text/plain": [
       "   cab  call  me  please  tonight  you\n",
       "0    0     1   0       0        1    1\n",
       "1    1     1   1       0        0    0\n",
       "2    0     1   1       2        0    0"
      ]
     },
     "execution_count": 219,
     "metadata": {},
     "output_type": "execute_result"
    }
   ],
   "source": [
    "# Term Frequency\n",
    "vect = CountVectorizer()\n",
    "tf = pd.DataFrame(vect.fit_transform(simple_train).toarray(), columns=vect.get_feature_names())\n",
    "tf"
   ]
  },
  {
   "cell_type": "code",
   "execution_count": null,
   "metadata": {
    "colab": {
     "base_uri": "https://localhost:8080/",
     "height": 79
    },
    "executionInfo": {
     "elapsed": 18838,
     "status": "ok",
     "timestamp": 1601642864281,
     "user": {
      "displayName": "Sayan Dey",
      "photoUrl": "https://lh3.googleusercontent.com/a-/AOh14GgqVHJ9o6-7idGiRbNNd4iVc1VjzvuPnwmAnvEtD6U=s64",
      "userId": "03603580465490055794"
     },
     "user_tz": -330
    },
    "id": "JRQnGW0sV5LY",
    "outputId": "62d145cc-9f6e-4423-bfe8-0b5d85bfba8e"
   },
   "outputs": [
    {
     "data": {
      "text/html": [
       "<div>\n",
       "<style scoped>\n",
       "    .dataframe tbody tr th:only-of-type {\n",
       "        vertical-align: middle;\n",
       "    }\n",
       "\n",
       "    .dataframe tbody tr th {\n",
       "        vertical-align: top;\n",
       "    }\n",
       "\n",
       "    .dataframe thead th {\n",
       "        text-align: right;\n",
       "    }\n",
       "</style>\n",
       "<table border=\"1\" class=\"dataframe\">\n",
       "  <thead>\n",
       "    <tr style=\"text-align: right;\">\n",
       "      <th></th>\n",
       "      <th>cab</th>\n",
       "      <th>call</th>\n",
       "      <th>me</th>\n",
       "      <th>please</th>\n",
       "      <th>tonight</th>\n",
       "      <th>you</th>\n",
       "    </tr>\n",
       "  </thead>\n",
       "  <tbody>\n",
       "    <tr>\n",
       "      <th>0</th>\n",
       "      <td>1</td>\n",
       "      <td>3</td>\n",
       "      <td>2</td>\n",
       "      <td>1</td>\n",
       "      <td>1</td>\n",
       "      <td>1</td>\n",
       "    </tr>\n",
       "  </tbody>\n",
       "</table>\n",
       "</div>"
      ],
      "text/plain": [
       "   cab  call  me  please  tonight  you\n",
       "0    1     3   2       1        1    1"
      ]
     },
     "execution_count": 220,
     "metadata": {},
     "output_type": "execute_result"
    }
   ],
   "source": [
    "# Document Frequency\n",
    "vect = CountVectorizer(binary=True)\n",
    "df = vect.fit_transform(simple_train).toarray().sum(axis=0)\n",
    "pd.DataFrame(df.reshape(1, 6), columns=vect.get_feature_names())"
   ]
  },
  {
   "cell_type": "code",
   "execution_count": null,
   "metadata": {
    "colab": {
     "base_uri": "https://localhost:8080/",
     "height": 140
    },
    "executionInfo": {
     "elapsed": 18740,
     "status": "ok",
     "timestamp": 1601642864281,
     "user": {
      "displayName": "Sayan Dey",
      "photoUrl": "https://lh3.googleusercontent.com/a-/AOh14GgqVHJ9o6-7idGiRbNNd4iVc1VjzvuPnwmAnvEtD6U=s64",
      "userId": "03603580465490055794"
     },
     "user_tz": -330
    },
    "id": "Jht-LGnTV5La",
    "outputId": "c1de6fe0-2494-47c2-ca56-f8e6173df114"
   },
   "outputs": [
    {
     "data": {
      "text/html": [
       "<div>\n",
       "<style scoped>\n",
       "    .dataframe tbody tr th:only-of-type {\n",
       "        vertical-align: middle;\n",
       "    }\n",
       "\n",
       "    .dataframe tbody tr th {\n",
       "        vertical-align: top;\n",
       "    }\n",
       "\n",
       "    .dataframe thead th {\n",
       "        text-align: right;\n",
       "    }\n",
       "</style>\n",
       "<table border=\"1\" class=\"dataframe\">\n",
       "  <thead>\n",
       "    <tr style=\"text-align: right;\">\n",
       "      <th></th>\n",
       "      <th>cab</th>\n",
       "      <th>call</th>\n",
       "      <th>me</th>\n",
       "      <th>please</th>\n",
       "      <th>tonight</th>\n",
       "      <th>you</th>\n",
       "    </tr>\n",
       "  </thead>\n",
       "  <tbody>\n",
       "    <tr>\n",
       "      <th>0</th>\n",
       "      <td>0.000000</td>\n",
       "      <td>0.385372</td>\n",
       "      <td>0.000000</td>\n",
       "      <td>0.000000</td>\n",
       "      <td>0.652491</td>\n",
       "      <td>0.652491</td>\n",
       "    </tr>\n",
       "    <tr>\n",
       "      <th>1</th>\n",
       "      <td>0.720333</td>\n",
       "      <td>0.425441</td>\n",
       "      <td>0.547832</td>\n",
       "      <td>0.000000</td>\n",
       "      <td>0.000000</td>\n",
       "      <td>0.000000</td>\n",
       "    </tr>\n",
       "    <tr>\n",
       "      <th>2</th>\n",
       "      <td>0.000000</td>\n",
       "      <td>0.266075</td>\n",
       "      <td>0.342620</td>\n",
       "      <td>0.901008</td>\n",
       "      <td>0.000000</td>\n",
       "      <td>0.000000</td>\n",
       "    </tr>\n",
       "  </tbody>\n",
       "</table>\n",
       "</div>"
      ],
      "text/plain": [
       "        cab      call        me    please   tonight       you\n",
       "0  0.000000  0.385372  0.000000  0.000000  0.652491  0.652491\n",
       "1  0.720333  0.425441  0.547832  0.000000  0.000000  0.000000\n",
       "2  0.000000  0.266075  0.342620  0.901008  0.000000  0.000000"
      ]
     },
     "execution_count": 221,
     "metadata": {},
     "output_type": "execute_result"
    }
   ],
   "source": [
    "# TfidfVectorizer\n",
    "vect = TfidfVectorizer()\n",
    "pd.DataFrame(vect.fit_transform(simple_train).toarray(), columns=vect.get_feature_names())"
   ]
  },
  {
   "cell_type": "markdown",
   "metadata": {
    "id": "M2vSpkRMV5Le"
   },
   "source": [
    "## Classify Yelp Review with TFIDF?"
   ]
  },
  {
   "cell_type": "markdown",
   "metadata": {
    "id": "-6s3ljAyV5Le"
   },
   "source": [
    "1. Separate data into train and test"
   ]
  },
  {
   "cell_type": "code",
   "execution_count": null,
   "metadata": {
    "id": "c92JPdG7V5Lf"
   },
   "outputs": [],
   "source": []
  },
  {
   "cell_type": "markdown",
   "metadata": {
    "id": "AlXM6iumV5Lh"
   },
   "source": [
    "2. Create DTM using TFIDF"
   ]
  },
  {
   "cell_type": "code",
   "execution_count": null,
   "metadata": {
    "id": "4sk1Vw3GV5Lh"
   },
   "outputs": [],
   "source": []
  },
  {
   "cell_type": "markdown",
   "metadata": {
    "collapsed": true,
    "id": "jOcpQTtMV5Lk"
   },
   "source": [
    "3. Build classification model with Naive Bayes"
   ]
  },
  {
   "cell_type": "code",
   "execution_count": null,
   "metadata": {
    "id": "89EfCwC6V5Lq"
   },
   "outputs": [],
   "source": []
  },
  {
   "cell_type": "markdown",
   "metadata": {
    "id": "W7lZO5qzV5Lz"
   },
   "source": [
    "4. Calculate classification score"
   ]
  },
  {
   "cell_type": "code",
   "execution_count": null,
   "metadata": {
    "id": "zCOeKq3dV5L0"
   },
   "outputs": [],
   "source": []
  },
  {
   "cell_type": "markdown",
   "metadata": {
    "id": "qObC9Tn4V5L3"
   },
   "source": [
    "5. Compare it with CountVectorizer"
   ]
  },
  {
   "cell_type": "code",
   "execution_count": null,
   "metadata": {
    "id": "ECzGNh1JV5L4"
   },
   "outputs": [],
   "source": []
  },
  {
   "cell_type": "markdown",
   "metadata": {
    "id": "xeoZYoGKV5L7"
   },
   "source": [
    "6. Lemmatization Vs. Stemming when using in TFIDF"
   ]
  },
  {
   "cell_type": "code",
   "execution_count": null,
   "metadata": {
    "id": "NR8Z68DQV5L7"
   },
   "outputs": [],
   "source": []
  },
  {
   "cell_type": "markdown",
   "metadata": {
    "id": "H1jiqGGVV5MC"
   },
   "source": [
    "## 9: Sentiment Analysis"
   ]
  },
  {
   "cell_type": "code",
   "execution_count": null,
   "metadata": {
    "id": "HxFOtDyJW2Oi"
   },
   "outputs": [],
   "source": [
    "review = TextBlob(\"Sayan is teaching amazingly well !!!\")"
   ]
  },
  {
   "cell_type": "code",
   "execution_count": null,
   "metadata": {
    "colab": {
     "base_uri": "https://localhost:8080/",
     "height": 158
    },
    "executionInfo": {
     "elapsed": 1280,
     "status": "ok",
     "timestamp": 1601642972942,
     "user": {
      "displayName": "Sayan Dey",
      "photoUrl": "https://lh3.googleusercontent.com/a-/AOh14GgqVHJ9o6-7idGiRbNNd4iVc1VjzvuPnwmAnvEtD6U=s64",
      "userId": "03603580465490055794"
     },
     "user_tz": -330
    },
    "id": "lAUB6q2cV5MD",
    "outputId": "ce322afb-5b1c-44ed-ccbc-894e98bc3645"
   },
   "outputs": [
    {
     "name": "stdout",
     "output_type": "stream",
     "text": [
      "Sayan is teaching amazingly well !!!\n"
     ]
    }
   ],
   "source": [
    "print (review)"
   ]
  },
  {
   "cell_type": "code",
   "execution_count": null,
   "metadata": {
    "colab": {
     "base_uri": "https://localhost:8080/",
     "height": 34
    },
    "executionInfo": {
     "elapsed": 1277,
     "status": "ok",
     "timestamp": 1601642978571,
     "user": {
      "displayName": "Sayan Dey",
      "photoUrl": "https://lh3.googleusercontent.com/a-/AOh14GgqVHJ9o6-7idGiRbNNd4iVc1VjzvuPnwmAnvEtD6U=s64",
      "userId": "03603580465490055794"
     },
     "user_tz": -330
    },
    "id": "y3kGiXcmV5ME",
    "outputId": "27a20b5c-3dd2-4336-e345-97e4c0ff0b1b"
   },
   "outputs": [
    {
     "data": {
      "text/plain": [
       "1.0"
      ]
     },
     "execution_count": 57,
     "metadata": {},
     "output_type": "execute_result"
    }
   ],
   "source": [
    "# polarity ranges from -1 (most negative) to 1 (most positive)\n",
    "review.sentiment.polarity"
   ]
  },
  {
   "cell_type": "code",
   "execution_count": null,
   "metadata": {
    "id": "bERTxU75GxT3",
    "outputId": "0257d732-acd6-4720-f07d-30a59e59e995"
   },
   "outputs": [
    {
     "data": {
      "text/html": [
       "<div>\n",
       "<style scoped>\n",
       "    .dataframe tbody tr th:only-of-type {\n",
       "        vertical-align: middle;\n",
       "    }\n",
       "\n",
       "    .dataframe tbody tr th {\n",
       "        vertical-align: top;\n",
       "    }\n",
       "\n",
       "    .dataframe thead th {\n",
       "        text-align: right;\n",
       "    }\n",
       "</style>\n",
       "<table border=\"1\" class=\"dataframe\">\n",
       "  <thead>\n",
       "    <tr style=\"text-align: right;\">\n",
       "      <th></th>\n",
       "      <th>business_id</th>\n",
       "      <th>date</th>\n",
       "      <th>review_id</th>\n",
       "      <th>stars</th>\n",
       "      <th>text</th>\n",
       "      <th>type</th>\n",
       "      <th>user_id</th>\n",
       "      <th>cool</th>\n",
       "      <th>useful</th>\n",
       "      <th>funny</th>\n",
       "    </tr>\n",
       "  </thead>\n",
       "  <tbody>\n",
       "    <tr>\n",
       "      <th>0</th>\n",
       "      <td>9yKzy9PApeiPPOUJEtnvkg</td>\n",
       "      <td>2011-01-26</td>\n",
       "      <td>fWKvX83p0-ka4JS3dc6E5A</td>\n",
       "      <td>5</td>\n",
       "      <td>My wife took me here on my birthday for breakf...</td>\n",
       "      <td>review</td>\n",
       "      <td>rLtl8ZkDX5vH5nAx9C3q5Q</td>\n",
       "      <td>2</td>\n",
       "      <td>5</td>\n",
       "      <td>0</td>\n",
       "    </tr>\n",
       "    <tr>\n",
       "      <th>1</th>\n",
       "      <td>ZRJwVLyzEJq1VAihDhYiow</td>\n",
       "      <td>2011-07-27</td>\n",
       "      <td>IjZ33sJrzXqU-0X6U8NwyA</td>\n",
       "      <td>5</td>\n",
       "      <td>I have no idea why some people give bad review...</td>\n",
       "      <td>review</td>\n",
       "      <td>0a2KyEL0d3Yb1V6aivbIuQ</td>\n",
       "      <td>0</td>\n",
       "      <td>0</td>\n",
       "      <td>0</td>\n",
       "    </tr>\n",
       "    <tr>\n",
       "      <th>2</th>\n",
       "      <td>6oRAC4uyJCsJl1X0WZpVSA</td>\n",
       "      <td>2012-06-14</td>\n",
       "      <td>IESLBzqUCLdSzSqm0eCSxQ</td>\n",
       "      <td>4</td>\n",
       "      <td>love the gyro plate. Rice is so good and I als...</td>\n",
       "      <td>review</td>\n",
       "      <td>0hT2KtfLiobPvh6cDC8JQg</td>\n",
       "      <td>0</td>\n",
       "      <td>1</td>\n",
       "      <td>0</td>\n",
       "    </tr>\n",
       "    <tr>\n",
       "      <th>3</th>\n",
       "      <td>_1QQZuf4zZOyFCvXc0o6Vg</td>\n",
       "      <td>2010-05-27</td>\n",
       "      <td>G-WvGaISbqqaMHlNnByodA</td>\n",
       "      <td>5</td>\n",
       "      <td>Rosie, Dakota, and I LOVE Chaparral Dog Park!!...</td>\n",
       "      <td>review</td>\n",
       "      <td>uZetl9T0NcROGOyFfughhg</td>\n",
       "      <td>1</td>\n",
       "      <td>2</td>\n",
       "      <td>0</td>\n",
       "    </tr>\n",
       "    <tr>\n",
       "      <th>4</th>\n",
       "      <td>6ozycU1RpktNG2-1BroVtw</td>\n",
       "      <td>2012-01-05</td>\n",
       "      <td>1uJFq2r5QfJG_6ExMRCaGw</td>\n",
       "      <td>5</td>\n",
       "      <td>General Manager Scott Petello is a good egg!!!...</td>\n",
       "      <td>review</td>\n",
       "      <td>vYmM4KTsC8ZfQBg-j5MWkw</td>\n",
       "      <td>0</td>\n",
       "      <td>0</td>\n",
       "      <td>0</td>\n",
       "    </tr>\n",
       "    <tr>\n",
       "      <th>5</th>\n",
       "      <td>-yxfBYGB6SEqszmxJxd97A</td>\n",
       "      <td>2007-12-13</td>\n",
       "      <td>m2CKSsepBCoRYWxiRUsxAg</td>\n",
       "      <td>4</td>\n",
       "      <td>Quiessence is, simply put, beautiful.  Full wi...</td>\n",
       "      <td>review</td>\n",
       "      <td>sqYN3lNgvPbPCTRsMFu27g</td>\n",
       "      <td>4</td>\n",
       "      <td>3</td>\n",
       "      <td>1</td>\n",
       "    </tr>\n",
       "    <tr>\n",
       "      <th>6</th>\n",
       "      <td>zp713qNhx8d9KCJJnrw1xA</td>\n",
       "      <td>2010-02-12</td>\n",
       "      <td>riFQ3vxNpP4rWLk_CSri2A</td>\n",
       "      <td>5</td>\n",
       "      <td>Drop what you're doing and drive here. After I...</td>\n",
       "      <td>review</td>\n",
       "      <td>wFweIWhv2fREZV_dYkz_1g</td>\n",
       "      <td>7</td>\n",
       "      <td>7</td>\n",
       "      <td>4</td>\n",
       "    </tr>\n",
       "    <tr>\n",
       "      <th>7</th>\n",
       "      <td>hW0Ne_HTHEAgGF1rAdmR-g</td>\n",
       "      <td>2012-07-12</td>\n",
       "      <td>JL7GXJ9u4YMx7Rzs05NfiQ</td>\n",
       "      <td>4</td>\n",
       "      <td>Luckily, I didn't have to travel far to make m...</td>\n",
       "      <td>review</td>\n",
       "      <td>1ieuYcKS7zeAv_U15AB13A</td>\n",
       "      <td>0</td>\n",
       "      <td>1</td>\n",
       "      <td>0</td>\n",
       "    </tr>\n",
       "    <tr>\n",
       "      <th>8</th>\n",
       "      <td>wNUea3IXZWD63bbOQaOH-g</td>\n",
       "      <td>2012-08-17</td>\n",
       "      <td>XtnfnYmnJYi71yIuGsXIUA</td>\n",
       "      <td>4</td>\n",
       "      <td>Definitely come for Happy hour! Prices are ama...</td>\n",
       "      <td>review</td>\n",
       "      <td>Vh_DlizgGhSqQh4qfZ2h6A</td>\n",
       "      <td>0</td>\n",
       "      <td>0</td>\n",
       "      <td>0</td>\n",
       "    </tr>\n",
       "    <tr>\n",
       "      <th>9</th>\n",
       "      <td>nMHhuYan8e3cONo3PornJA</td>\n",
       "      <td>2010-08-11</td>\n",
       "      <td>jJAIXA46pU1swYyRCdfXtQ</td>\n",
       "      <td>5</td>\n",
       "      <td>Nobuo shows his unique talents with everything...</td>\n",
       "      <td>review</td>\n",
       "      <td>sUNkXg8-KFtCMQDV6zRzQg</td>\n",
       "      <td>0</td>\n",
       "      <td>1</td>\n",
       "      <td>0</td>\n",
       "    </tr>\n",
       "    <tr>\n",
       "      <th>10</th>\n",
       "      <td>AsSCv0q_BWqIe3mX2JqsOQ</td>\n",
       "      <td>2010-06-16</td>\n",
       "      <td>E11jzpKz9Kw5K7fuARWfRw</td>\n",
       "      <td>5</td>\n",
       "      <td>The oldish man who owns the store is as sweet ...</td>\n",
       "      <td>review</td>\n",
       "      <td>-OMlS6yWkYjVldNhC31wYg</td>\n",
       "      <td>1</td>\n",
       "      <td>3</td>\n",
       "      <td>1</td>\n",
       "    </tr>\n",
       "    <tr>\n",
       "      <th>11</th>\n",
       "      <td>e9nN4XxjdHj4qtKCOPq_vg</td>\n",
       "      <td>2011-10-21</td>\n",
       "      <td>3rPt0LxF7rgmEUrznoH22w</td>\n",
       "      <td>5</td>\n",
       "      <td>Wonderful Vietnamese sandwich shoppe. Their ba...</td>\n",
       "      <td>review</td>\n",
       "      <td>C1rHp3dmepNea7XiouwB6Q</td>\n",
       "      <td>1</td>\n",
       "      <td>1</td>\n",
       "      <td>0</td>\n",
       "    </tr>\n",
       "    <tr>\n",
       "      <th>12</th>\n",
       "      <td>h53YuCiIDfEFSJCQpk8v1g</td>\n",
       "      <td>2010-01-11</td>\n",
       "      <td>cGnKNX3I9rthE0-TH24-qA</td>\n",
       "      <td>5</td>\n",
       "      <td>They have a limited time thing going on right ...</td>\n",
       "      <td>review</td>\n",
       "      <td>UPtysDF6cUDUxq2KY-6Dcg</td>\n",
       "      <td>1</td>\n",
       "      <td>2</td>\n",
       "      <td>0</td>\n",
       "    </tr>\n",
       "    <tr>\n",
       "      <th>13</th>\n",
       "      <td>WGNIYMeXPyoWav1APUq7jA</td>\n",
       "      <td>2011-12-23</td>\n",
       "      <td>FvEEw1_OsrYdvwLV5Hrliw</td>\n",
       "      <td>4</td>\n",
       "      <td>Good tattoo shop. Clean space, multiple artist...</td>\n",
       "      <td>review</td>\n",
       "      <td>Xm8HXE1JHqscXe5BKf0GFQ</td>\n",
       "      <td>1</td>\n",
       "      <td>2</td>\n",
       "      <td>0</td>\n",
       "    </tr>\n",
       "    <tr>\n",
       "      <th>14</th>\n",
       "      <td>yc5AH9H71xJidA_J2mChLA</td>\n",
       "      <td>2010-05-20</td>\n",
       "      <td>pfUwBKYYmUXeiwrhDluQcw</td>\n",
       "      <td>4</td>\n",
       "      <td>I'm 2 weeks new to Phoenix. I looked up Irish ...</td>\n",
       "      <td>review</td>\n",
       "      <td>JOG-4G4e8ae3lx_szHtR8g</td>\n",
       "      <td>1</td>\n",
       "      <td>1</td>\n",
       "      <td>0</td>\n",
       "    </tr>\n",
       "    <tr>\n",
       "      <th>15</th>\n",
       "      <td>Vb9FPCEL6Ly24PNxLBaAFw</td>\n",
       "      <td>2011-03-20</td>\n",
       "      <td>HvqmdqWcerVWO3Gs6zbrOw</td>\n",
       "      <td>2</td>\n",
       "      <td>Was it worth the 21$ for a salad and small piz...</td>\n",
       "      <td>review</td>\n",
       "      <td>ylWOj2y7TV2e3yYeWhu2QA</td>\n",
       "      <td>0</td>\n",
       "      <td>2</td>\n",
       "      <td>0</td>\n",
       "    </tr>\n",
       "    <tr>\n",
       "      <th>16</th>\n",
       "      <td>supigcPNO9IKo6olaTNV-g</td>\n",
       "      <td>2008-10-12</td>\n",
       "      <td>HXP_0Ul-FCmA4f-k9CqvaQ</td>\n",
       "      <td>3</td>\n",
       "      <td>We went here on a Saturday afternoon and this ...</td>\n",
       "      <td>review</td>\n",
       "      <td>SBbftLzfYYKItOMFwOTIJg</td>\n",
       "      <td>3</td>\n",
       "      <td>4</td>\n",
       "      <td>2</td>\n",
       "    </tr>\n",
       "    <tr>\n",
       "      <th>17</th>\n",
       "      <td>O510Re68mOy9dU490JTKCg</td>\n",
       "      <td>2010-05-03</td>\n",
       "      <td>j4SIzrIy0WrmW4yr4--Khg</td>\n",
       "      <td>5</td>\n",
       "      <td>okay this is the best place EVER! i grew up sh...</td>\n",
       "      <td>review</td>\n",
       "      <td>u1KWcbPMvXFEEYkZZ0Yktg</td>\n",
       "      <td>0</td>\n",
       "      <td>0</td>\n",
       "      <td>0</td>\n",
       "    </tr>\n",
       "    <tr>\n",
       "      <th>18</th>\n",
       "      <td>b5cEoKR8iQliq-yT2_O0LQ</td>\n",
       "      <td>2009-03-06</td>\n",
       "      <td>v0cTd3PNpYCkTyGKSpOfGA</td>\n",
       "      <td>3</td>\n",
       "      <td>I met a friend for lunch yesterday. \\n\\nLoved ...</td>\n",
       "      <td>review</td>\n",
       "      <td>UsULgP4bKA8RMzs8dQzcsA</td>\n",
       "      <td>5</td>\n",
       "      <td>6</td>\n",
       "      <td>4</td>\n",
       "    </tr>\n",
       "    <tr>\n",
       "      <th>19</th>\n",
       "      <td>4JzzbSbK9wmlOBJZWYfuCg</td>\n",
       "      <td>2011-11-17</td>\n",
       "      <td>a0lCu-j2Sk_kHQsZi_eNgw</td>\n",
       "      <td>4</td>\n",
       "      <td>They've gotten better and better for me in the...</td>\n",
       "      <td>review</td>\n",
       "      <td>nDBly08j5URmrHQ2JCbyiw</td>\n",
       "      <td>1</td>\n",
       "      <td>1</td>\n",
       "      <td>1</td>\n",
       "    </tr>\n",
       "  </tbody>\n",
       "</table>\n",
       "</div>"
      ],
      "text/plain": [
       "               business_id        date               review_id  stars  \\\n",
       "0   9yKzy9PApeiPPOUJEtnvkg  2011-01-26  fWKvX83p0-ka4JS3dc6E5A      5   \n",
       "1   ZRJwVLyzEJq1VAihDhYiow  2011-07-27  IjZ33sJrzXqU-0X6U8NwyA      5   \n",
       "2   6oRAC4uyJCsJl1X0WZpVSA  2012-06-14  IESLBzqUCLdSzSqm0eCSxQ      4   \n",
       "3   _1QQZuf4zZOyFCvXc0o6Vg  2010-05-27  G-WvGaISbqqaMHlNnByodA      5   \n",
       "4   6ozycU1RpktNG2-1BroVtw  2012-01-05  1uJFq2r5QfJG_6ExMRCaGw      5   \n",
       "5   -yxfBYGB6SEqszmxJxd97A  2007-12-13  m2CKSsepBCoRYWxiRUsxAg      4   \n",
       "6   zp713qNhx8d9KCJJnrw1xA  2010-02-12  riFQ3vxNpP4rWLk_CSri2A      5   \n",
       "7   hW0Ne_HTHEAgGF1rAdmR-g  2012-07-12  JL7GXJ9u4YMx7Rzs05NfiQ      4   \n",
       "8   wNUea3IXZWD63bbOQaOH-g  2012-08-17  XtnfnYmnJYi71yIuGsXIUA      4   \n",
       "9   nMHhuYan8e3cONo3PornJA  2010-08-11  jJAIXA46pU1swYyRCdfXtQ      5   \n",
       "10  AsSCv0q_BWqIe3mX2JqsOQ  2010-06-16  E11jzpKz9Kw5K7fuARWfRw      5   \n",
       "11  e9nN4XxjdHj4qtKCOPq_vg  2011-10-21  3rPt0LxF7rgmEUrznoH22w      5   \n",
       "12  h53YuCiIDfEFSJCQpk8v1g  2010-01-11  cGnKNX3I9rthE0-TH24-qA      5   \n",
       "13  WGNIYMeXPyoWav1APUq7jA  2011-12-23  FvEEw1_OsrYdvwLV5Hrliw      4   \n",
       "14  yc5AH9H71xJidA_J2mChLA  2010-05-20  pfUwBKYYmUXeiwrhDluQcw      4   \n",
       "15  Vb9FPCEL6Ly24PNxLBaAFw  2011-03-20  HvqmdqWcerVWO3Gs6zbrOw      2   \n",
       "16  supigcPNO9IKo6olaTNV-g  2008-10-12  HXP_0Ul-FCmA4f-k9CqvaQ      3   \n",
       "17  O510Re68mOy9dU490JTKCg  2010-05-03  j4SIzrIy0WrmW4yr4--Khg      5   \n",
       "18  b5cEoKR8iQliq-yT2_O0LQ  2009-03-06  v0cTd3PNpYCkTyGKSpOfGA      3   \n",
       "19  4JzzbSbK9wmlOBJZWYfuCg  2011-11-17  a0lCu-j2Sk_kHQsZi_eNgw      4   \n",
       "\n",
       "                                                 text    type  \\\n",
       "0   My wife took me here on my birthday for breakf...  review   \n",
       "1   I have no idea why some people give bad review...  review   \n",
       "2   love the gyro plate. Rice is so good and I als...  review   \n",
       "3   Rosie, Dakota, and I LOVE Chaparral Dog Park!!...  review   \n",
       "4   General Manager Scott Petello is a good egg!!!...  review   \n",
       "5   Quiessence is, simply put, beautiful.  Full wi...  review   \n",
       "6   Drop what you're doing and drive here. After I...  review   \n",
       "7   Luckily, I didn't have to travel far to make m...  review   \n",
       "8   Definitely come for Happy hour! Prices are ama...  review   \n",
       "9   Nobuo shows his unique talents with everything...  review   \n",
       "10  The oldish man who owns the store is as sweet ...  review   \n",
       "11  Wonderful Vietnamese sandwich shoppe. Their ba...  review   \n",
       "12  They have a limited time thing going on right ...  review   \n",
       "13  Good tattoo shop. Clean space, multiple artist...  review   \n",
       "14  I'm 2 weeks new to Phoenix. I looked up Irish ...  review   \n",
       "15  Was it worth the 21$ for a salad and small piz...  review   \n",
       "16  We went here on a Saturday afternoon and this ...  review   \n",
       "17  okay this is the best place EVER! i grew up sh...  review   \n",
       "18  I met a friend for lunch yesterday. \\n\\nLoved ...  review   \n",
       "19  They've gotten better and better for me in the...  review   \n",
       "\n",
       "                   user_id  cool  useful  funny  \n",
       "0   rLtl8ZkDX5vH5nAx9C3q5Q     2       5      0  \n",
       "1   0a2KyEL0d3Yb1V6aivbIuQ     0       0      0  \n",
       "2   0hT2KtfLiobPvh6cDC8JQg     0       1      0  \n",
       "3   uZetl9T0NcROGOyFfughhg     1       2      0  \n",
       "4   vYmM4KTsC8ZfQBg-j5MWkw     0       0      0  \n",
       "5   sqYN3lNgvPbPCTRsMFu27g     4       3      1  \n",
       "6   wFweIWhv2fREZV_dYkz_1g     7       7      4  \n",
       "7   1ieuYcKS7zeAv_U15AB13A     0       1      0  \n",
       "8   Vh_DlizgGhSqQh4qfZ2h6A     0       0      0  \n",
       "9   sUNkXg8-KFtCMQDV6zRzQg     0       1      0  \n",
       "10  -OMlS6yWkYjVldNhC31wYg     1       3      1  \n",
       "11  C1rHp3dmepNea7XiouwB6Q     1       1      0  \n",
       "12  UPtysDF6cUDUxq2KY-6Dcg     1       2      0  \n",
       "13  Xm8HXE1JHqscXe5BKf0GFQ     1       2      0  \n",
       "14  JOG-4G4e8ae3lx_szHtR8g     1       1      0  \n",
       "15  ylWOj2y7TV2e3yYeWhu2QA     0       2      0  \n",
       "16  SBbftLzfYYKItOMFwOTIJg     3       4      2  \n",
       "17  u1KWcbPMvXFEEYkZZ0Yktg     0       0      0  \n",
       "18  UsULgP4bKA8RMzs8dQzcsA     5       6      4  \n",
       "19  nDBly08j5URmrHQ2JCbyiw     1       1      1  "
      ]
     },
     "execution_count": 58,
     "metadata": {},
     "output_type": "execute_result"
    }
   ],
   "source": [
    "yelp_best_worst.head(20)"
   ]
  },
  {
   "cell_type": "code",
   "execution_count": null,
   "metadata": {
    "id": "f-JN5H_CGxT3"
   },
   "outputs": [],
   "source": [
    "# save it as a TextBlob object\n",
    "review = TextBlob(yelp_best_worst.text[12])"
   ]
  },
  {
   "cell_type": "code",
   "execution_count": null,
   "metadata": {
    "colab": {
     "base_uri": "https://localhost:8080/",
     "height": 158
    },
    "executionInfo": {
     "elapsed": 1280,
     "status": "ok",
     "timestamp": 1601642972942,
     "user": {
      "displayName": "Sayan Dey",
      "photoUrl": "https://lh3.googleusercontent.com/a-/AOh14GgqVHJ9o6-7idGiRbNNd4iVc1VjzvuPnwmAnvEtD6U=s64",
      "userId": "03603580465490055794"
     },
     "user_tz": -330
    },
    "id": "4HJTYiekGxT4",
    "outputId": "ce322afb-5b1c-44ed-ccbc-894e98bc3645"
   },
   "outputs": [
    {
     "name": "stdout",
     "output_type": "stream",
     "text": [
      "They have a limited time thing going on right now with BBQ chicken pizza (not sure how long it's going to last) but let me just say it was amazing.  Probably THE best BBQ Chicken pizza I have ever had.  I have tried other things too, like the tomato basil soup, and many of their sandwiches ... very good, very fresh - every time.  \n",
      "\n",
      "The 5 stars is for the pizza, but if I were to rate Jason's Deli over all they would get about a 4.\n"
     ]
    }
   ],
   "source": [
    "print (review)"
   ]
  },
  {
   "cell_type": "code",
   "execution_count": null,
   "metadata": {
    "colab": {
     "base_uri": "https://localhost:8080/",
     "height": 34
    },
    "executionInfo": {
     "elapsed": 1277,
     "status": "ok",
     "timestamp": 1601642978571,
     "user": {
      "displayName": "Sayan Dey",
      "photoUrl": "https://lh3.googleusercontent.com/a-/AOh14GgqVHJ9o6-7idGiRbNNd4iVc1VjzvuPnwmAnvEtD6U=s64",
      "userId": "03603580465490055794"
     },
     "user_tz": -330
    },
    "id": "TGdY7o5KGxT4",
    "outputId": "27a20b5c-3dd2-4336-e345-97e4c0ff0b1b"
   },
   "outputs": [
    {
     "data": {
      "text/plain": [
       "0.15302197802197803"
      ]
     },
     "execution_count": 81,
     "metadata": {},
     "output_type": "execute_result"
    }
   ],
   "source": [
    "# polarity ranges from -1 (most negative) to 1 (most positive)\n",
    "review.sentiment.polarity"
   ]
  },
  {
   "cell_type": "code",
   "execution_count": null,
   "metadata": {
    "colab": {
     "base_uri": "https://localhost:8080/",
     "height": 96
    },
    "executionInfo": {
     "elapsed": 1984,
     "status": "ok",
     "timestamp": 1601643038590,
     "user": {
      "displayName": "Sayan Dey",
      "photoUrl": "https://lh3.googleusercontent.com/a-/AOh14GgqVHJ9o6-7idGiRbNNd4iVc1VjzvuPnwmAnvEtD6U=s64",
      "userId": "03603580465490055794"
     },
     "user_tz": -330
    },
    "id": "XOd0DYj-V5MG",
    "outputId": "af41f2ab-75c8-489f-9072-d2cd8f1a2d18"
   },
   "outputs": [
    {
     "data": {
      "text/html": [
       "<div>\n",
       "<style scoped>\n",
       "    .dataframe tbody tr th:only-of-type {\n",
       "        vertical-align: middle;\n",
       "    }\n",
       "\n",
       "    .dataframe tbody tr th {\n",
       "        vertical-align: top;\n",
       "    }\n",
       "\n",
       "    .dataframe thead th {\n",
       "        text-align: right;\n",
       "    }\n",
       "</style>\n",
       "<table border=\"1\" class=\"dataframe\">\n",
       "  <thead>\n",
       "    <tr style=\"text-align: right;\">\n",
       "      <th></th>\n",
       "      <th>business_id</th>\n",
       "      <th>date</th>\n",
       "      <th>review_id</th>\n",
       "      <th>stars</th>\n",
       "      <th>text</th>\n",
       "      <th>type</th>\n",
       "      <th>user_id</th>\n",
       "      <th>cool</th>\n",
       "      <th>useful</th>\n",
       "      <th>funny</th>\n",
       "      <th>length</th>\n",
       "    </tr>\n",
       "  </thead>\n",
       "  <tbody>\n",
       "    <tr>\n",
       "      <th>0</th>\n",
       "      <td>9yKzy9PApeiPPOUJEtnvkg</td>\n",
       "      <td>2011-01-26</td>\n",
       "      <td>fWKvX83p0-ka4JS3dc6E5A</td>\n",
       "      <td>5</td>\n",
       "      <td>My wife took me here on my birthday for breakf...</td>\n",
       "      <td>review</td>\n",
       "      <td>rLtl8ZkDX5vH5nAx9C3q5Q</td>\n",
       "      <td>2</td>\n",
       "      <td>5</td>\n",
       "      <td>0</td>\n",
       "      <td>889</td>\n",
       "    </tr>\n",
       "    <tr>\n",
       "      <th>1</th>\n",
       "      <td>ZRJwVLyzEJq1VAihDhYiow</td>\n",
       "      <td>2011-07-27</td>\n",
       "      <td>IjZ33sJrzXqU-0X6U8NwyA</td>\n",
       "      <td>5</td>\n",
       "      <td>I have no idea why some people give bad review...</td>\n",
       "      <td>review</td>\n",
       "      <td>0a2KyEL0d3Yb1V6aivbIuQ</td>\n",
       "      <td>0</td>\n",
       "      <td>0</td>\n",
       "      <td>0</td>\n",
       "      <td>1345</td>\n",
       "    </tr>\n",
       "    <tr>\n",
       "      <th>2</th>\n",
       "      <td>6oRAC4uyJCsJl1X0WZpVSA</td>\n",
       "      <td>2012-06-14</td>\n",
       "      <td>IESLBzqUCLdSzSqm0eCSxQ</td>\n",
       "      <td>4</td>\n",
       "      <td>love the gyro plate. Rice is so good and I als...</td>\n",
       "      <td>review</td>\n",
       "      <td>0hT2KtfLiobPvh6cDC8JQg</td>\n",
       "      <td>0</td>\n",
       "      <td>1</td>\n",
       "      <td>0</td>\n",
       "      <td>76</td>\n",
       "    </tr>\n",
       "    <tr>\n",
       "      <th>3</th>\n",
       "      <td>_1QQZuf4zZOyFCvXc0o6Vg</td>\n",
       "      <td>2010-05-27</td>\n",
       "      <td>G-WvGaISbqqaMHlNnByodA</td>\n",
       "      <td>5</td>\n",
       "      <td>Rosie, Dakota, and I LOVE Chaparral Dog Park!!...</td>\n",
       "      <td>review</td>\n",
       "      <td>uZetl9T0NcROGOyFfughhg</td>\n",
       "      <td>1</td>\n",
       "      <td>2</td>\n",
       "      <td>0</td>\n",
       "      <td>419</td>\n",
       "    </tr>\n",
       "    <tr>\n",
       "      <th>4</th>\n",
       "      <td>6ozycU1RpktNG2-1BroVtw</td>\n",
       "      <td>2012-01-05</td>\n",
       "      <td>1uJFq2r5QfJG_6ExMRCaGw</td>\n",
       "      <td>5</td>\n",
       "      <td>General Manager Scott Petello is a good egg!!!...</td>\n",
       "      <td>review</td>\n",
       "      <td>vYmM4KTsC8ZfQBg-j5MWkw</td>\n",
       "      <td>0</td>\n",
       "      <td>0</td>\n",
       "      <td>0</td>\n",
       "      <td>469</td>\n",
       "    </tr>\n",
       "  </tbody>\n",
       "</table>\n",
       "</div>"
      ],
      "text/plain": [
       "              business_id        date               review_id  stars  \\\n",
       "0  9yKzy9PApeiPPOUJEtnvkg  2011-01-26  fWKvX83p0-ka4JS3dc6E5A      5   \n",
       "1  ZRJwVLyzEJq1VAihDhYiow  2011-07-27  IjZ33sJrzXqU-0X6U8NwyA      5   \n",
       "2  6oRAC4uyJCsJl1X0WZpVSA  2012-06-14  IESLBzqUCLdSzSqm0eCSxQ      4   \n",
       "3  _1QQZuf4zZOyFCvXc0o6Vg  2010-05-27  G-WvGaISbqqaMHlNnByodA      5   \n",
       "4  6ozycU1RpktNG2-1BroVtw  2012-01-05  1uJFq2r5QfJG_6ExMRCaGw      5   \n",
       "\n",
       "                                                text    type  \\\n",
       "0  My wife took me here on my birthday for breakf...  review   \n",
       "1  I have no idea why some people give bad review...  review   \n",
       "2  love the gyro plate. Rice is so good and I als...  review   \n",
       "3  Rosie, Dakota, and I LOVE Chaparral Dog Park!!...  review   \n",
       "4  General Manager Scott Petello is a good egg!!!...  review   \n",
       "\n",
       "                  user_id  cool  useful  funny  length  \n",
       "0  rLtl8ZkDX5vH5nAx9C3q5Q     2       5      0     889  \n",
       "1  0a2KyEL0d3Yb1V6aivbIuQ     0       0      0    1345  \n",
       "2  0hT2KtfLiobPvh6cDC8JQg     0       1      0      76  \n",
       "3  uZetl9T0NcROGOyFfughhg     1       2      0     419  \n",
       "4  vYmM4KTsC8ZfQBg-j5MWkw     0       0      0     469  "
      ]
     },
     "execution_count": 82,
     "metadata": {},
     "output_type": "execute_result"
    }
   ],
   "source": [
    "# understanding the apply method\n",
    "yelp['length'] = yelp.text.apply(len)\n",
    "yelp.head()"
   ]
  },
  {
   "cell_type": "code",
   "execution_count": null,
   "metadata": {
    "id": "03GrT411V5MI"
   },
   "outputs": [],
   "source": [
    "# define a function that accepts text and returns the polarity\n",
    "def detect_sentiment(text):\n",
    "    return TextBlob(text).sentiment.polarity"
   ]
  },
  {
   "cell_type": "code",
   "execution_count": null,
   "metadata": {
    "id": "0C_OMvsgV5MM"
   },
   "outputs": [],
   "source": [
    "# create a new DataFrame column for sentiment (WARNING: SLOW!)\n",
    "yelp['sentiment'] = yelp.text.apply(detect_sentiment)"
   ]
  },
  {
   "cell_type": "code",
   "execution_count": null,
   "metadata": {
    "colab": {
     "base_uri": "https://localhost:8080/",
     "height": 287
    },
    "executionInfo": {
     "elapsed": 1693,
     "status": "ok",
     "timestamp": 1601643092017,
     "user": {
      "displayName": "Sayan Dey",
      "photoUrl": "https://lh3.googleusercontent.com/a-/AOh14GgqVHJ9o6-7idGiRbNNd4iVc1VjzvuPnwmAnvEtD6U=s64",
      "userId": "03603580465490055794"
     },
     "user_tz": -330
    },
    "id": "0g85fWfWXdwK",
    "outputId": "25eb044b-e3b2-4828-c8fd-39a9f4bd9fd0"
   },
   "outputs": [
    {
     "data": {
      "text/html": [
       "<div>\n",
       "<style scoped>\n",
       "    .dataframe tbody tr th:only-of-type {\n",
       "        vertical-align: middle;\n",
       "    }\n",
       "\n",
       "    .dataframe tbody tr th {\n",
       "        vertical-align: top;\n",
       "    }\n",
       "\n",
       "    .dataframe thead th {\n",
       "        text-align: right;\n",
       "    }\n",
       "</style>\n",
       "<table border=\"1\" class=\"dataframe\">\n",
       "  <thead>\n",
       "    <tr style=\"text-align: right;\">\n",
       "      <th></th>\n",
       "      <th>business_id</th>\n",
       "      <th>date</th>\n",
       "      <th>review_id</th>\n",
       "      <th>stars</th>\n",
       "      <th>text</th>\n",
       "      <th>type</th>\n",
       "      <th>user_id</th>\n",
       "      <th>cool</th>\n",
       "      <th>useful</th>\n",
       "      <th>funny</th>\n",
       "      <th>length</th>\n",
       "      <th>sentiment</th>\n",
       "    </tr>\n",
       "  </thead>\n",
       "  <tbody>\n",
       "    <tr>\n",
       "      <th>23</th>\n",
       "      <td>IJ0o6b8bJFAbG6MjGfBebQ</td>\n",
       "      <td>2010-09-05</td>\n",
       "      <td>Dx9sfFU6Zn0GYOckijom-g</td>\n",
       "      <td>1</td>\n",
       "      <td>U can go there n check the car out. If u wanna...</td>\n",
       "      <td>review</td>\n",
       "      <td>zRlQEDYd_HKp0VS3hnAffA</td>\n",
       "      <td>0</td>\n",
       "      <td>1</td>\n",
       "      <td>1</td>\n",
       "      <td>594</td>\n",
       "      <td>-0.264021</td>\n",
       "    </tr>\n",
       "    <tr>\n",
       "      <th>31</th>\n",
       "      <td>vvA3fbps4F9nGlAEYKk_sA</td>\n",
       "      <td>2012-05-04</td>\n",
       "      <td>S9OVpXat8k5YwWCn6FAgXg</td>\n",
       "      <td>1</td>\n",
       "      <td>Disgusting!  Had a Groupon so my daughter and ...</td>\n",
       "      <td>review</td>\n",
       "      <td>8AMn6644NmBf96xGO3w6OA</td>\n",
       "      <td>0</td>\n",
       "      <td>1</td>\n",
       "      <td>0</td>\n",
       "      <td>361</td>\n",
       "      <td>-0.099091</td>\n",
       "    </tr>\n",
       "    <tr>\n",
       "      <th>35</th>\n",
       "      <td>o1GIYYZJjM6nM03fQs_uEQ</td>\n",
       "      <td>2011-11-30</td>\n",
       "      <td>ApKbwpYJdnhhgP4NbjQw2Q</td>\n",
       "      <td>1</td>\n",
       "      <td>I've eaten here many times, but none as bad as...</td>\n",
       "      <td>review</td>\n",
       "      <td>iwUN95LIaEr75TZE_JC6bg</td>\n",
       "      <td>0</td>\n",
       "      <td>4</td>\n",
       "      <td>3</td>\n",
       "      <td>1198</td>\n",
       "      <td>-0.035973</td>\n",
       "    </tr>\n",
       "    <tr>\n",
       "      <th>61</th>\n",
       "      <td>l4vBbCL9QbGiwLuLKwD_bA</td>\n",
       "      <td>2011-11-22</td>\n",
       "      <td>DJVxOfj2Rw9zklC9tU3i1w</td>\n",
       "      <td>1</td>\n",
       "      <td>I have always been a fan of Burlington's deals...</td>\n",
       "      <td>review</td>\n",
       "      <td>EPROVap0M19Y6_4uf3eCmQ</td>\n",
       "      <td>0</td>\n",
       "      <td>0</td>\n",
       "      <td>0</td>\n",
       "      <td>569</td>\n",
       "      <td>-0.015278</td>\n",
       "    </tr>\n",
       "    <tr>\n",
       "      <th>64</th>\n",
       "      <td>CEswyP-9SsXRNLR9fFGKKw</td>\n",
       "      <td>2012-05-19</td>\n",
       "      <td>GXj4PNAi095-q9ynPYH3kg</td>\n",
       "      <td>1</td>\n",
       "      <td>Another night meeting friends here.  I have to...</td>\n",
       "      <td>review</td>\n",
       "      <td>MjLAe48XNfYlTeFYca5gMw</td>\n",
       "      <td>0</td>\n",
       "      <td>1</td>\n",
       "      <td>2</td>\n",
       "      <td>498</td>\n",
       "      <td>-0.063456</td>\n",
       "    </tr>\n",
       "    <tr>\n",
       "      <th>...</th>\n",
       "      <td>...</td>\n",
       "      <td>...</td>\n",
       "      <td>...</td>\n",
       "      <td>...</td>\n",
       "      <td>...</td>\n",
       "      <td>...</td>\n",
       "      <td>...</td>\n",
       "      <td>...</td>\n",
       "      <td>...</td>\n",
       "      <td>...</td>\n",
       "      <td>...</td>\n",
       "      <td>...</td>\n",
       "    </tr>\n",
       "    <tr>\n",
       "      <th>9924</th>\n",
       "      <td>mhQCxOiqp03qnhGRTtPduw</td>\n",
       "      <td>2012-07-07</td>\n",
       "      <td>PCjnn__E8AzNa2kXFXxTHQ</td>\n",
       "      <td>1</td>\n",
       "      <td>Horrible service.</td>\n",
       "      <td>review</td>\n",
       "      <td>rvaJcf5OIY2So_pkoqDHLQ</td>\n",
       "      <td>0</td>\n",
       "      <td>1</td>\n",
       "      <td>0</td>\n",
       "      <td>17</td>\n",
       "      <td>-1.000000</td>\n",
       "    </tr>\n",
       "    <tr>\n",
       "      <th>9931</th>\n",
       "      <td>C_eWAEOvkHZ_IZYGwjtpmg</td>\n",
       "      <td>2011-04-25</td>\n",
       "      <td>QfdoE-XqEeCsttJH8g0ugQ</td>\n",
       "      <td>1</td>\n",
       "      <td>I love Saddle Ranch for its casual night time ...</td>\n",
       "      <td>review</td>\n",
       "      <td>yhGfcKunPjcy-v-1ppr6oQ</td>\n",
       "      <td>0</td>\n",
       "      <td>2</td>\n",
       "      <td>0</td>\n",
       "      <td>995</td>\n",
       "      <td>-0.064238</td>\n",
       "    </tr>\n",
       "    <tr>\n",
       "      <th>9953</th>\n",
       "      <td>QCxXYA13PtkD3wec47_r8Q</td>\n",
       "      <td>2012-03-14</td>\n",
       "      <td>V2N2TCqnaqMYfg7zXGG-Rg</td>\n",
       "      <td>1</td>\n",
       "      <td>\"Hipster,Trendy\" ????-I think NOT !!!! Very di...</td>\n",
       "      <td>review</td>\n",
       "      <td>JEQ6el2-tLtKJU6k_SpE-w</td>\n",
       "      <td>0</td>\n",
       "      <td>2</td>\n",
       "      <td>0</td>\n",
       "      <td>296</td>\n",
       "      <td>0.049074</td>\n",
       "    </tr>\n",
       "    <tr>\n",
       "      <th>9984</th>\n",
       "      <td>wepFVY82q_tuDzG6lQjHWw</td>\n",
       "      <td>2012-02-12</td>\n",
       "      <td>spusZYROtBKw_5tv3gYm4Q</td>\n",
       "      <td>1</td>\n",
       "      <td>Went last night to Whore Foods to get basics t...</td>\n",
       "      <td>review</td>\n",
       "      <td>W7zmm1uzlyUkEqpSG7PlBw</td>\n",
       "      <td>0</td>\n",
       "      <td>1</td>\n",
       "      <td>2</td>\n",
       "      <td>1673</td>\n",
       "      <td>-0.071673</td>\n",
       "    </tr>\n",
       "    <tr>\n",
       "      <th>9987</th>\n",
       "      <td>r-a-Cn9hxdEnYTtVTB5bMQ</td>\n",
       "      <td>2012-04-07</td>\n",
       "      <td>j9HwZZoBBmJgOlqDSuJcxg</td>\n",
       "      <td>1</td>\n",
       "      <td>The food is delicious.  The service:  discrimi...</td>\n",
       "      <td>review</td>\n",
       "      <td>toPtsUtYoRB-5-ThrOy2Fg</td>\n",
       "      <td>0</td>\n",
       "      <td>0</td>\n",
       "      <td>0</td>\n",
       "      <td>200</td>\n",
       "      <td>0.333333</td>\n",
       "    </tr>\n",
       "  </tbody>\n",
       "</table>\n",
       "<p>749 rows × 12 columns</p>\n",
       "</div>"
      ],
      "text/plain": [
       "                 business_id        date               review_id  stars  \\\n",
       "23    IJ0o6b8bJFAbG6MjGfBebQ  2010-09-05  Dx9sfFU6Zn0GYOckijom-g      1   \n",
       "31    vvA3fbps4F9nGlAEYKk_sA  2012-05-04  S9OVpXat8k5YwWCn6FAgXg      1   \n",
       "35    o1GIYYZJjM6nM03fQs_uEQ  2011-11-30  ApKbwpYJdnhhgP4NbjQw2Q      1   \n",
       "61    l4vBbCL9QbGiwLuLKwD_bA  2011-11-22  DJVxOfj2Rw9zklC9tU3i1w      1   \n",
       "64    CEswyP-9SsXRNLR9fFGKKw  2012-05-19  GXj4PNAi095-q9ynPYH3kg      1   \n",
       "...                      ...         ...                     ...    ...   \n",
       "9924  mhQCxOiqp03qnhGRTtPduw  2012-07-07  PCjnn__E8AzNa2kXFXxTHQ      1   \n",
       "9931  C_eWAEOvkHZ_IZYGwjtpmg  2011-04-25  QfdoE-XqEeCsttJH8g0ugQ      1   \n",
       "9953  QCxXYA13PtkD3wec47_r8Q  2012-03-14  V2N2TCqnaqMYfg7zXGG-Rg      1   \n",
       "9984  wepFVY82q_tuDzG6lQjHWw  2012-02-12  spusZYROtBKw_5tv3gYm4Q      1   \n",
       "9987  r-a-Cn9hxdEnYTtVTB5bMQ  2012-04-07  j9HwZZoBBmJgOlqDSuJcxg      1   \n",
       "\n",
       "                                                   text    type  \\\n",
       "23    U can go there n check the car out. If u wanna...  review   \n",
       "31    Disgusting!  Had a Groupon so my daughter and ...  review   \n",
       "35    I've eaten here many times, but none as bad as...  review   \n",
       "61    I have always been a fan of Burlington's deals...  review   \n",
       "64    Another night meeting friends here.  I have to...  review   \n",
       "...                                                 ...     ...   \n",
       "9924                                  Horrible service.  review   \n",
       "9931  I love Saddle Ranch for its casual night time ...  review   \n",
       "9953  \"Hipster,Trendy\" ????-I think NOT !!!! Very di...  review   \n",
       "9984  Went last night to Whore Foods to get basics t...  review   \n",
       "9987  The food is delicious.  The service:  discrimi...  review   \n",
       "\n",
       "                     user_id  cool  useful  funny  length  sentiment  \n",
       "23    zRlQEDYd_HKp0VS3hnAffA     0       1      1     594  -0.264021  \n",
       "31    8AMn6644NmBf96xGO3w6OA     0       1      0     361  -0.099091  \n",
       "35    iwUN95LIaEr75TZE_JC6bg     0       4      3    1198  -0.035973  \n",
       "61    EPROVap0M19Y6_4uf3eCmQ     0       0      0     569  -0.015278  \n",
       "64    MjLAe48XNfYlTeFYca5gMw     0       1      2     498  -0.063456  \n",
       "...                      ...   ...     ...    ...     ...        ...  \n",
       "9924  rvaJcf5OIY2So_pkoqDHLQ     0       1      0      17  -1.000000  \n",
       "9931  yhGfcKunPjcy-v-1ppr6oQ     0       2      0     995  -0.064238  \n",
       "9953  JEQ6el2-tLtKJU6k_SpE-w     0       2      0     296   0.049074  \n",
       "9984  W7zmm1uzlyUkEqpSG7PlBw     0       1      2    1673  -0.071673  \n",
       "9987  toPtsUtYoRB-5-ThrOy2Fg     0       0      0     200   0.333333  \n",
       "\n",
       "[749 rows x 12 columns]"
      ]
     },
     "execution_count": 85,
     "metadata": {},
     "output_type": "execute_result"
    }
   ],
   "source": [
    "yelp[yelp['stars']==1]"
   ]
  },
  {
   "cell_type": "code",
   "execution_count": null,
   "metadata": {
    "colab": {
     "base_uri": "https://localhost:8080/",
     "height": 318
    },
    "executionInfo": {
     "elapsed": 13045,
     "status": "ok",
     "timestamp": 1601643069139,
     "user": {
      "displayName": "Sayan Dey",
      "photoUrl": "https://lh3.googleusercontent.com/a-/AOh14GgqVHJ9o6-7idGiRbNNd4iVc1VjzvuPnwmAnvEtD6U=s64",
      "userId": "03603580465490055794"
     },
     "user_tz": -330
    },
    "id": "i08kMot7V5MN",
    "outputId": "86afa7c3-ad7a-49d0-9e4e-d640524e3302"
   },
   "outputs": [
    {
     "data": {
      "text/plain": [
       "<matplotlib.axes._subplots.AxesSubplot at 0x23e47351400>"
      ]
     },
     "execution_count": 86,
     "metadata": {},
     "output_type": "execute_result"
    },
    {
     "data": {
      "image/png": "[encoded data removed]",
      "text/plain": [
       "<Figure size 432x288 with 1 Axes>"
      ]
     },
     "metadata": {
      "needs_background": "light"
     },
     "output_type": "display_data"
    }
   ],
   "source": [
    "# box plot of sentiment grouped by stars\n",
    "yelp.boxplot(column='sentiment', by='stars')"
   ]
  },
  {
   "cell_type": "code",
   "execution_count": null,
   "metadata": {
    "colab": {
     "base_uri": "https://localhost:8080/",
     "height": 293
    },
    "executionInfo": {
     "elapsed": 1235,
     "status": "ok",
     "timestamp": 1601643372300,
     "user": {
      "displayName": "Sayan Dey",
      "photoUrl": "https://lh3.googleusercontent.com/a-/AOh14GgqVHJ9o6-7idGiRbNNd4iVc1VjzvuPnwmAnvEtD6U=s64",
      "userId": "03603580465490055794"
     },
     "user_tz": -330
    },
    "id": "mFPbpIrZYEX3",
    "outputId": "3a6af35e-2ffe-4a53-e5c0-724a4b32ff55",
    "scrolled": true
   },
   "outputs": [
    {
     "data": {
      "text/html": [
       "<div>\n",
       "<style scoped>\n",
       "    .dataframe tbody tr th:only-of-type {\n",
       "        vertical-align: middle;\n",
       "    }\n",
       "\n",
       "    .dataframe tbody tr th {\n",
       "        vertical-align: top;\n",
       "    }\n",
       "\n",
       "    .dataframe thead th {\n",
       "        text-align: right;\n",
       "    }\n",
       "</style>\n",
       "<table border=\"1\" class=\"dataframe\">\n",
       "  <thead>\n",
       "    <tr style=\"text-align: right;\">\n",
       "      <th></th>\n",
       "      <th>stars</th>\n",
       "      <th>cool</th>\n",
       "      <th>useful</th>\n",
       "      <th>funny</th>\n",
       "      <th>length</th>\n",
       "      <th>sentiment</th>\n",
       "    </tr>\n",
       "  </thead>\n",
       "  <tbody>\n",
       "    <tr>\n",
       "      <th>count</th>\n",
       "      <td>749.0</td>\n",
       "      <td>749.000000</td>\n",
       "      <td>749.000000</td>\n",
       "      <td>749.000000</td>\n",
       "      <td>749.000000</td>\n",
       "      <td>749.000000</td>\n",
       "    </tr>\n",
       "    <tr>\n",
       "      <th>mean</th>\n",
       "      <td>1.0</td>\n",
       "      <td>0.576769</td>\n",
       "      <td>1.604806</td>\n",
       "      <td>1.056075</td>\n",
       "      <td>826.515354</td>\n",
       "      <td>-0.017906</td>\n",
       "    </tr>\n",
       "    <tr>\n",
       "      <th>std</th>\n",
       "      <td>0.0</td>\n",
       "      <td>1.474759</td>\n",
       "      <td>2.302354</td>\n",
       "      <td>2.480309</td>\n",
       "      <td>742.929304</td>\n",
       "      <td>0.210476</td>\n",
       "    </tr>\n",
       "    <tr>\n",
       "      <th>min</th>\n",
       "      <td>1.0</td>\n",
       "      <td>0.000000</td>\n",
       "      <td>0.000000</td>\n",
       "      <td>0.000000</td>\n",
       "      <td>11.000000</td>\n",
       "      <td>-1.000000</td>\n",
       "    </tr>\n",
       "    <tr>\n",
       "      <th>25%</th>\n",
       "      <td>1.0</td>\n",
       "      <td>0.000000</td>\n",
       "      <td>0.000000</td>\n",
       "      <td>0.000000</td>\n",
       "      <td>315.000000</td>\n",
       "      <td>-0.103379</td>\n",
       "    </tr>\n",
       "    <tr>\n",
       "      <th>50%</th>\n",
       "      <td>1.0</td>\n",
       "      <td>0.000000</td>\n",
       "      <td>1.000000</td>\n",
       "      <td>0.000000</td>\n",
       "      <td>600.000000</td>\n",
       "      <td>0.008523</td>\n",
       "    </tr>\n",
       "    <tr>\n",
       "      <th>75%</th>\n",
       "      <td>1.0</td>\n",
       "      <td>1.000000</td>\n",
       "      <td>2.000000</td>\n",
       "      <td>1.000000</td>\n",
       "      <td>1075.000000</td>\n",
       "      <td>0.094707</td>\n",
       "    </tr>\n",
       "    <tr>\n",
       "      <th>max</th>\n",
       "      <td>1.0</td>\n",
       "      <td>17.000000</td>\n",
       "      <td>20.000000</td>\n",
       "      <td>30.000000</td>\n",
       "      <td>4618.000000</td>\n",
       "      <td>1.000000</td>\n",
       "    </tr>\n",
       "  </tbody>\n",
       "</table>\n",
       "</div>"
      ],
      "text/plain": [
       "       stars        cool      useful       funny       length   sentiment\n",
       "count  749.0  749.000000  749.000000  749.000000   749.000000  749.000000\n",
       "mean     1.0    0.576769    1.604806    1.056075   826.515354   -0.017906\n",
       "std      0.0    1.474759    2.302354    2.480309   742.929304    0.210476\n",
       "min      1.0    0.000000    0.000000    0.000000    11.000000   -1.000000\n",
       "25%      1.0    0.000000    0.000000    0.000000   315.000000   -0.103379\n",
       "50%      1.0    0.000000    1.000000    0.000000   600.000000    0.008523\n",
       "75%      1.0    1.000000    2.000000    1.000000  1075.000000    0.094707\n",
       "max      1.0   17.000000   20.000000   30.000000  4618.000000    1.000000"
      ]
     },
     "execution_count": 87,
     "metadata": {},
     "output_type": "execute_result"
    }
   ],
   "source": [
    "onestar = yelp[yelp['stars']==1]\n",
    "onestar.describe()"
   ]
  },
  {
   "cell_type": "code",
   "execution_count": null,
   "metadata": {
    "colab": {
     "base_uri": "https://localhost:8080/",
     "height": 103
    },
    "executionInfo": {
     "elapsed": 1354,
     "status": "ok",
     "timestamp": 1601643651720,
     "user": {
      "displayName": "Sayan Dey",
      "photoUrl": "https://lh3.googleusercontent.com/a-/AOh14GgqVHJ9o6-7idGiRbNNd4iVc1VjzvuPnwmAnvEtD6U=s64",
      "userId": "03603580465490055794"
     },
     "user_tz": -330
    },
    "id": "F9hAyDnLYZFy",
    "outputId": "051dd078-12a1-47bc-ea12-8dbebe6f32a2"
   },
   "outputs": [
    {
     "data": {
      "text/plain": [
       "array([['iHmfkYeEsIxbAqEj3dloQQ', '2012-07-03', 'N_hL1-fyunhVpDDX6fz9Sg',\n",
       "        1,\n",
       "        \"The owner has changed hands & this place isn't what it used to be.  If you want up to date paper & quality product...go to Scrap Happy OR Crop Girls!\",\n",
       "        'review', 'HY9A-ShZQ1MvdFvEhNY4LQ', 0, 1, 0, 149, 1.0]],\n",
       "      dtype=object)"
      ]
     },
     "execution_count": 88,
     "metadata": {},
     "output_type": "execute_result"
    }
   ],
   "source": [
    "onestar[onestar['sentiment']==1].values"
   ]
  },
  {
   "cell_type": "code",
   "execution_count": null,
   "metadata": {
    "colab": {
     "base_uri": "https://localhost:8080/",
     "height": 120
    },
    "executionInfo": {
     "elapsed": 1943,
     "status": "ok",
     "timestamp": 1601643869275,
     "user": {
      "displayName": "Sayan Dey",
      "photoUrl": "https://lh3.googleusercontent.com/a-/AOh14GgqVHJ9o6-7idGiRbNNd4iVc1VjzvuPnwmAnvEtD6U=s64",
      "userId": "03603580465490055794"
     },
     "user_tz": -330
    },
    "id": "oUfHtrGcV5MP",
    "outputId": "13a56b4c-172e-47fc-bb05-9f9ca0ed8448"
   },
   "outputs": [
    {
     "data": {
      "text/plain": [
       "254    Our server Gary was awesome. Food was amazing....\n",
       "347    3 syllables for this place. \\nA-MAZ-ING!\\n\\nTh...\n",
       "420                                    LOVE the food!!!!\n",
       "459    Love it!!! Wish we still lived in Arizona as C...\n",
       "679                                     Excellent burger\n",
       "Name: text, dtype: object"
      ]
     },
     "execution_count": 89,
     "metadata": {},
     "output_type": "execute_result"
    }
   ],
   "source": [
    "# reviews with most positive sentiment\n",
    "yelp[yelp.sentiment == 1].text.head()"
   ]
  },
  {
   "cell_type": "code",
   "execution_count": null,
   "metadata": {
    "colab": {
     "base_uri": "https://localhost:8080/",
     "height": 120
    },
    "executionInfo": {
     "elapsed": 1475,
     "status": "ok",
     "timestamp": 1601643869277,
     "user": {
      "displayName": "Sayan Dey",
      "photoUrl": "https://lh3.googleusercontent.com/a-/AOh14GgqVHJ9o6-7idGiRbNNd4iVc1VjzvuPnwmAnvEtD6U=s64",
      "userId": "03603580465490055794"
     },
     "user_tz": -330
    },
    "id": "X5yMhX4ZV5MR",
    "outputId": "3738cde9-13dc-4b66-eaff-08f435f9050e"
   },
   "outputs": [
    {
     "data": {
      "text/plain": [
       "773     This was absolutely horrible. I got the suprem...\n",
       "1517                  Nasty workers and over priced trash\n",
       "3266    Absolutely awful... these guys have NO idea wh...\n",
       "4766                                       Very bad food!\n",
       "5812        I wouldn't send my worst enemy to this place.\n",
       "Name: text, dtype: object"
      ]
     },
     "execution_count": 90,
     "metadata": {},
     "output_type": "execute_result"
    }
   ],
   "source": [
    "# reviews with most negative sentiment\n",
    "yelp[yelp.sentiment == -1].text.head()"
   ]
  },
  {
   "cell_type": "code",
   "execution_count": null,
   "metadata": {
    "id": "TbrZtopwV5MS"
   },
   "outputs": [],
   "source": [
    "# widen the column display\n",
    "pd.set_option('max_colwidth', 500)"
   ]
  },
  {
   "cell_type": "code",
   "execution_count": null,
   "metadata": {
    "colab": {
     "base_uri": "https://localhost:8080/",
     "height": 130
    },
    "executionInfo": {
     "elapsed": 1428,
     "status": "ok",
     "timestamp": 1601643882010,
     "user": {
      "displayName": "Sayan Dey",
      "photoUrl": "https://lh3.googleusercontent.com/a-/AOh14GgqVHJ9o6-7idGiRbNNd4iVc1VjzvuPnwmAnvEtD6U=s64",
      "userId": "03603580465490055794"
     },
     "user_tz": -330
    },
    "id": "ZWcixu3nV5MU",
    "outputId": "ad2ee4a9-56f0-49c1-ff47-96e1801b654c"
   },
   "outputs": [
    {
     "data": {
      "text/html": [
       "<div>\n",
       "<style scoped>\n",
       "    .dataframe tbody tr th:only-of-type {\n",
       "        vertical-align: middle;\n",
       "    }\n",
       "\n",
       "    .dataframe tbody tr th {\n",
       "        vertical-align: top;\n",
       "    }\n",
       "\n",
       "    .dataframe thead th {\n",
       "        text-align: right;\n",
       "    }\n",
       "</style>\n",
       "<table border=\"1\" class=\"dataframe\">\n",
       "  <thead>\n",
       "    <tr style=\"text-align: right;\">\n",
       "      <th></th>\n",
       "      <th>business_id</th>\n",
       "      <th>date</th>\n",
       "      <th>review_id</th>\n",
       "      <th>stars</th>\n",
       "      <th>text</th>\n",
       "      <th>type</th>\n",
       "      <th>user_id</th>\n",
       "      <th>cool</th>\n",
       "      <th>useful</th>\n",
       "      <th>funny</th>\n",
       "      <th>length</th>\n",
       "      <th>sentiment</th>\n",
       "    </tr>\n",
       "  </thead>\n",
       "  <tbody>\n",
       "    <tr>\n",
       "      <th>1781</th>\n",
       "      <td>53YGfwmbW73JhFiemNeyzQ</td>\n",
       "      <td>2012-06-22</td>\n",
       "      <td>Gi-4O3EhE175vujbFGDIew</td>\n",
       "      <td>1</td>\n",
       "      <td>If you like the stuck up Scottsdale vibe this is a good place for you. The food isn't impressive. Nice outdoor seating.</td>\n",
       "      <td>review</td>\n",
       "      <td>Hqgx3IdJAAaoQjvrUnbNvw</td>\n",
       "      <td>0</td>\n",
       "      <td>1</td>\n",
       "      <td>2</td>\n",
       "      <td>119</td>\n",
       "      <td>0.766667</td>\n",
       "    </tr>\n",
       "    <tr>\n",
       "      <th>2353</th>\n",
       "      <td>3Srfy_VeCgwDbo4iyUFOtw</td>\n",
       "      <td>2006-08-23</td>\n",
       "      <td>K8tXedC2NMBEZ8p77zg23Q</td>\n",
       "      <td>1</td>\n",
       "      <td>My co-workers and I refer to this place as \"Pizza n' Ants\".  The staff will be happy to serve you with bare hands, right after using the till.  Also, as the nickname suggests, there has been a noticable insect problem. \\n\\n\\n\\nAs if that could all be overlooked, the pizza isn't even good.  If you are in this part of town, go to Z Pizza or Slices for great pizza instead!</td>\n",
       "      <td>review</td>\n",
       "      <td>rPGZttaVjRoVi3GYbs62cg</td>\n",
       "      <td>0</td>\n",
       "      <td>1</td>\n",
       "      <td>0</td>\n",
       "      <td>368</td>\n",
       "      <td>0.567143</td>\n",
       "    </tr>\n",
       "    <tr>\n",
       "      <th>5257</th>\n",
       "      <td>cXx-fHY11Se8rFHkkUeaUg</td>\n",
       "      <td>2009-10-27</td>\n",
       "      <td>2yHyr0N_XNZggmIfZ7JaHw</td>\n",
       "      <td>1</td>\n",
       "      <td>Remember how I said that the Trivia was the best thing about this place?  Well, they got rid of long time Triva host, Dave (who had been featured in the College Times and was the best thing about the trivia).  Without Dave's personality, this place just doesn't cut it.  Will never go here again. Bummer.</td>\n",
       "      <td>review</td>\n",
       "      <td>nx2PS25Qe3MCEFUdO_XOtw</td>\n",
       "      <td>2</td>\n",
       "      <td>4</td>\n",
       "      <td>0</td>\n",
       "      <td>304</td>\n",
       "      <td>0.650000</td>\n",
       "    </tr>\n",
       "    <tr>\n",
       "      <th>6222</th>\n",
       "      <td>fDZzCjlxaA4OOmnFO-i0vw</td>\n",
       "      <td>2012-07-09</td>\n",
       "      <td>F5aRE4oqmHthiHudmnShLQ</td>\n",
       "      <td>1</td>\n",
       "      <td>My mother always told me, if I didn't have anything nice to say, say nothing!</td>\n",
       "      <td>review</td>\n",
       "      <td>J92bzxYVmyoLHULzh9xNCA</td>\n",
       "      <td>1</td>\n",
       "      <td>2</td>\n",
       "      <td>1</td>\n",
       "      <td>77</td>\n",
       "      <td>0.750000</td>\n",
       "    </tr>\n",
       "    <tr>\n",
       "      <th>6702</th>\n",
       "      <td>77oW-QeIXbUoTbUbrdD2aA</td>\n",
       "      <td>2012-01-05</td>\n",
       "      <td>oVYk9Gxa3TY63FAeoeCEzg</td>\n",
       "      <td>1</td>\n",
       "      <td>Most livable city my eye!\\nPlastic yuppies around every corner looking for a reason to belong.  I can't wait for the homosexuals to take control of this dog park and give it some class.\\n\\nAvoid at all cost.</td>\n",
       "      <td>review</td>\n",
       "      <td>ek4GWXatDshMorJwGC2JAw</td>\n",
       "      <td>1</td>\n",
       "      <td>2</td>\n",
       "      <td>4</td>\n",
       "      <td>204</td>\n",
       "      <td>0.625000</td>\n",
       "    </tr>\n",
       "  </tbody>\n",
       "</table>\n",
       "</div>"
      ],
      "text/plain": [
       "                 business_id        date               review_id  stars  \\\n",
       "1781  53YGfwmbW73JhFiemNeyzQ  2012-06-22  Gi-4O3EhE175vujbFGDIew      1   \n",
       "2353  3Srfy_VeCgwDbo4iyUFOtw  2006-08-23  K8tXedC2NMBEZ8p77zg23Q      1   \n",
       "5257  cXx-fHY11Se8rFHkkUeaUg  2009-10-27  2yHyr0N_XNZggmIfZ7JaHw      1   \n",
       "6222  fDZzCjlxaA4OOmnFO-i0vw  2012-07-09  F5aRE4oqmHthiHudmnShLQ      1   \n",
       "6702  77oW-QeIXbUoTbUbrdD2aA  2012-01-05  oVYk9Gxa3TY63FAeoeCEzg      1   \n",
       "\n",
       "                                                                                                                                                                                                                                                                                                                                                                                      text  \\\n",
       "1781                                                                                                                                                                                                                                                               If you like the stuck up Scottsdale vibe this is a good place for you. The food isn't impressive. Nice outdoor seating.   \n",
       "2353  My co-workers and I refer to this place as \"Pizza n' Ants\".  The staff will be happy to serve you with bare hands, right after using the till.  Also, as the nickname suggests, there has been a noticable insect problem. \\n\\n\\n\\nAs if that could all be overlooked, the pizza isn't even good.  If you are in this part of town, go to Z Pizza or Slices for great pizza instead!   \n",
       "5257                                                                      Remember how I said that the Trivia was the best thing about this place?  Well, they got rid of long time Triva host, Dave (who had been featured in the College Times and was the best thing about the trivia).  Without Dave's personality, this place just doesn't cut it.  Will never go here again. Bummer.   \n",
       "6222                                                                                                                                                                                                                                                                                                         My mother always told me, if I didn't have anything nice to say, say nothing!   \n",
       "6702                                                                                                                                                                       Most livable city my eye!\\nPlastic yuppies around every corner looking for a reason to belong.  I can't wait for the homosexuals to take control of this dog park and give it some class.\\n\\nAvoid at all cost.   \n",
       "\n",
       "        type                 user_id  cool  useful  funny  length  sentiment  \n",
       "1781  review  Hqgx3IdJAAaoQjvrUnbNvw     0       1      2     119   0.766667  \n",
       "2353  review  rPGZttaVjRoVi3GYbs62cg     0       1      0     368   0.567143  \n",
       "5257  review  nx2PS25Qe3MCEFUdO_XOtw     2       4      0     304   0.650000  \n",
       "6222  review  J92bzxYVmyoLHULzh9xNCA     1       2      1      77   0.750000  \n",
       "6702  review  ek4GWXatDshMorJwGC2JAw     1       2      4     204   0.625000  "
      ]
     },
     "execution_count": 94,
     "metadata": {},
     "output_type": "execute_result"
    }
   ],
   "source": [
    "# negative sentiment in a 5-star review\n",
    "yelp[(yelp.stars == 1) & (yelp.sentiment > 0.5)].head()"
   ]
  },
  {
   "cell_type": "code",
   "execution_count": null,
   "metadata": {
    "colab": {
     "base_uri": "https://localhost:8080/",
     "height": 130
    },
    "executionInfo": {
     "elapsed": 1081,
     "status": "ok",
     "timestamp": 1601643882011,
     "user": {
      "displayName": "Sayan Dey",
      "photoUrl": "https://lh3.googleusercontent.com/a-/AOh14GgqVHJ9o6-7idGiRbNNd4iVc1VjzvuPnwmAnvEtD6U=s64",
      "userId": "03603580465490055794"
     },
     "user_tz": -330
    },
    "id": "LoljQ9UdV5MW",
    "outputId": "429e2d7e-90d8-4337-fbcc-227ce24424a7"
   },
   "outputs": [
    {
     "data": {
      "text/html": [
       "<div>\n",
       "<style scoped>\n",
       "    .dataframe tbody tr th:only-of-type {\n",
       "        vertical-align: middle;\n",
       "    }\n",
       "\n",
       "    .dataframe tbody tr th {\n",
       "        vertical-align: top;\n",
       "    }\n",
       "\n",
       "    .dataframe thead th {\n",
       "        text-align: right;\n",
       "    }\n",
       "</style>\n",
       "<table border=\"1\" class=\"dataframe\">\n",
       "  <thead>\n",
       "    <tr style=\"text-align: right;\">\n",
       "      <th></th>\n",
       "      <th>business_id</th>\n",
       "      <th>date</th>\n",
       "      <th>review_id</th>\n",
       "      <th>stars</th>\n",
       "      <th>text</th>\n",
       "      <th>type</th>\n",
       "      <th>user_id</th>\n",
       "      <th>cool</th>\n",
       "      <th>useful</th>\n",
       "      <th>funny</th>\n",
       "      <th>length</th>\n",
       "      <th>sentiment</th>\n",
       "    </tr>\n",
       "  </thead>\n",
       "  <tbody>\n",
       "    <tr>\n",
       "      <th>1781</th>\n",
       "      <td>53YGfwmbW73JhFiemNeyzQ</td>\n",
       "      <td>2012-06-22</td>\n",
       "      <td>Gi-4O3EhE175vujbFGDIew</td>\n",
       "      <td>1</td>\n",
       "      <td>If you like the stuck up Scottsdale vibe this is a good place for you. The food isn't impressive. Nice outdoor seating.</td>\n",
       "      <td>review</td>\n",
       "      <td>Hqgx3IdJAAaoQjvrUnbNvw</td>\n",
       "      <td>0</td>\n",
       "      <td>1</td>\n",
       "      <td>2</td>\n",
       "      <td>119</td>\n",
       "      <td>0.766667</td>\n",
       "    </tr>\n",
       "    <tr>\n",
       "      <th>2353</th>\n",
       "      <td>3Srfy_VeCgwDbo4iyUFOtw</td>\n",
       "      <td>2006-08-23</td>\n",
       "      <td>K8tXedC2NMBEZ8p77zg23Q</td>\n",
       "      <td>1</td>\n",
       "      <td>My co-workers and I refer to this place as \"Pizza n' Ants\".  The staff will be happy to serve you with bare hands, right after using the till.  Also, as the nickname suggests, there has been a noticable insect problem. \\n\\n\\n\\nAs if that could all be overlooked, the pizza isn't even good.  If you are in this part of town, go to Z Pizza or Slices for great pizza instead!</td>\n",
       "      <td>review</td>\n",
       "      <td>rPGZttaVjRoVi3GYbs62cg</td>\n",
       "      <td>0</td>\n",
       "      <td>1</td>\n",
       "      <td>0</td>\n",
       "      <td>368</td>\n",
       "      <td>0.567143</td>\n",
       "    </tr>\n",
       "    <tr>\n",
       "      <th>5257</th>\n",
       "      <td>cXx-fHY11Se8rFHkkUeaUg</td>\n",
       "      <td>2009-10-27</td>\n",
       "      <td>2yHyr0N_XNZggmIfZ7JaHw</td>\n",
       "      <td>1</td>\n",
       "      <td>Remember how I said that the Trivia was the best thing about this place?  Well, they got rid of long time Triva host, Dave (who had been featured in the College Times and was the best thing about the trivia).  Without Dave's personality, this place just doesn't cut it.  Will never go here again. Bummer.</td>\n",
       "      <td>review</td>\n",
       "      <td>nx2PS25Qe3MCEFUdO_XOtw</td>\n",
       "      <td>2</td>\n",
       "      <td>4</td>\n",
       "      <td>0</td>\n",
       "      <td>304</td>\n",
       "      <td>0.650000</td>\n",
       "    </tr>\n",
       "    <tr>\n",
       "      <th>6222</th>\n",
       "      <td>fDZzCjlxaA4OOmnFO-i0vw</td>\n",
       "      <td>2012-07-09</td>\n",
       "      <td>F5aRE4oqmHthiHudmnShLQ</td>\n",
       "      <td>1</td>\n",
       "      <td>My mother always told me, if I didn't have anything nice to say, say nothing!</td>\n",
       "      <td>review</td>\n",
       "      <td>J92bzxYVmyoLHULzh9xNCA</td>\n",
       "      <td>1</td>\n",
       "      <td>2</td>\n",
       "      <td>1</td>\n",
       "      <td>77</td>\n",
       "      <td>0.750000</td>\n",
       "    </tr>\n",
       "    <tr>\n",
       "      <th>6702</th>\n",
       "      <td>77oW-QeIXbUoTbUbrdD2aA</td>\n",
       "      <td>2012-01-05</td>\n",
       "      <td>oVYk9Gxa3TY63FAeoeCEzg</td>\n",
       "      <td>1</td>\n",
       "      <td>Most livable city my eye!\\nPlastic yuppies around every corner looking for a reason to belong.  I can't wait for the homosexuals to take control of this dog park and give it some class.\\n\\nAvoid at all cost.</td>\n",
       "      <td>review</td>\n",
       "      <td>ek4GWXatDshMorJwGC2JAw</td>\n",
       "      <td>1</td>\n",
       "      <td>2</td>\n",
       "      <td>4</td>\n",
       "      <td>204</td>\n",
       "      <td>0.625000</td>\n",
       "    </tr>\n",
       "  </tbody>\n",
       "</table>\n",
       "</div>"
      ],
      "text/plain": [
       "                 business_id        date               review_id  stars  \\\n",
       "1781  53YGfwmbW73JhFiemNeyzQ  2012-06-22  Gi-4O3EhE175vujbFGDIew      1   \n",
       "2353  3Srfy_VeCgwDbo4iyUFOtw  2006-08-23  K8tXedC2NMBEZ8p77zg23Q      1   \n",
       "5257  cXx-fHY11Se8rFHkkUeaUg  2009-10-27  2yHyr0N_XNZggmIfZ7JaHw      1   \n",
       "6222  fDZzCjlxaA4OOmnFO-i0vw  2012-07-09  F5aRE4oqmHthiHudmnShLQ      1   \n",
       "6702  77oW-QeIXbUoTbUbrdD2aA  2012-01-05  oVYk9Gxa3TY63FAeoeCEzg      1   \n",
       "\n",
       "                                                                                                                                                                                                                                                                                                                                                                                      text  \\\n",
       "1781                                                                                                                                                                                                                                                               If you like the stuck up Scottsdale vibe this is a good place for you. The food isn't impressive. Nice outdoor seating.   \n",
       "2353  My co-workers and I refer to this place as \"Pizza n' Ants\".  The staff will be happy to serve you with bare hands, right after using the till.  Also, as the nickname suggests, there has been a noticable insect problem. \\n\\n\\n\\nAs if that could all be overlooked, the pizza isn't even good.  If you are in this part of town, go to Z Pizza or Slices for great pizza instead!   \n",
       "5257                                                                      Remember how I said that the Trivia was the best thing about this place?  Well, they got rid of long time Triva host, Dave (who had been featured in the College Times and was the best thing about the trivia).  Without Dave's personality, this place just doesn't cut it.  Will never go here again. Bummer.   \n",
       "6222                                                                                                                                                                                                                                                                                                         My mother always told me, if I didn't have anything nice to say, say nothing!   \n",
       "6702                                                                                                                                                                       Most livable city my eye!\\nPlastic yuppies around every corner looking for a reason to belong.  I can't wait for the homosexuals to take control of this dog park and give it some class.\\n\\nAvoid at all cost.   \n",
       "\n",
       "        type                 user_id  cool  useful  funny  length  sentiment  \n",
       "1781  review  Hqgx3IdJAAaoQjvrUnbNvw     0       1      2     119   0.766667  \n",
       "2353  review  rPGZttaVjRoVi3GYbs62cg     0       1      0     368   0.567143  \n",
       "5257  review  nx2PS25Qe3MCEFUdO_XOtw     2       4      0     304   0.650000  \n",
       "6222  review  J92bzxYVmyoLHULzh9xNCA     1       2      1      77   0.750000  \n",
       "6702  review  ek4GWXatDshMorJwGC2JAw     1       2      4     204   0.625000  "
      ]
     },
     "execution_count": 131,
     "metadata": {},
     "output_type": "execute_result"
    }
   ],
   "source": [
    "# positive sentiment in a 1-star review\n",
    "yelp[(yelp.stars == 1) & (yelp.sentiment > 0.5)].head(5)"
   ]
  },
  {
   "cell_type": "code",
   "execution_count": null,
   "metadata": {
    "id": "M0oWYNHBV5Ma"
   },
   "outputs": [],
   "source": [
    "# reset the column display width\n",
    "pd.reset_option('max_colwidth')"
   ]
  },
  {
   "cell_type": "markdown",
   "metadata": {
    "id": "y5e1brrTV5Mf"
   },
   "source": [
    "## 10: Adding Features to a Document-Term Matrix"
   ]
  },
  {
   "cell_type": "code",
   "execution_count": null,
   "metadata": {
    "id": "6adXJtvNV5Mg"
   },
   "outputs": [],
   "source": [
    "# create a DataFrame that only contains the 5-star and 1-star reviews\n",
    "yelp_best_worst = yelp[(yelp.stars==5) | (yelp.stars==1)]"
   ]
  },
  {
   "cell_type": "code",
   "execution_count": null,
   "metadata": {
    "id": "tHWeMHM4V5Mi"
   },
   "outputs": [],
   "source": [
    "# define X and y\n",
    "feature_cols = ['text', 'sentiment', 'cool', 'useful', 'funny']\n",
    "X = yelp_best_worst[feature_cols]\n",
    "y = yelp_best_worst.stars"
   ]
  },
  {
   "cell_type": "code",
   "execution_count": null,
   "metadata": {
    "id": "qXONO1JtV5Ml"
   },
   "outputs": [],
   "source": [
    "# split into training and testing sets\n",
    "X_train, X_test, y_train, y_test = train_test_split(X, y, random_state=1)"
   ]
  },
  {
   "cell_type": "code",
   "execution_count": null,
   "metadata": {
    "id": "8IcCtypyV5Mn"
   },
   "outputs": [],
   "source": [
    "# use CountVectorizer with text column only\n",
    "vect = CountVectorizer()"
   ]
  },
  {
   "cell_type": "code",
   "execution_count": null,
   "metadata": {
    "id": "tkf9hAewV5Mp"
   },
   "outputs": [],
   "source": [
    "X_train_dtm = vect.fit_transform(X_train.text)"
   ]
  },
  {
   "cell_type": "code",
   "execution_count": null,
   "metadata": {
    "id": "QdibJZWvV5Mr"
   },
   "outputs": [],
   "source": [
    "X_test_dtm = vect.transform(X_test.text)"
   ]
  },
  {
   "cell_type": "code",
   "execution_count": null,
   "metadata": {
    "colab": {
     "base_uri": "https://localhost:8080/",
     "height": 51
    },
    "executionInfo": {
     "elapsed": 1485,
     "status": "ok",
     "timestamp": 1601643935664,
     "user": {
      "displayName": "Sayan Dey",
      "photoUrl": "https://lh3.googleusercontent.com/a-/AOh14GgqVHJ9o6-7idGiRbNNd4iVc1VjzvuPnwmAnvEtD6U=s64",
      "userId": "03603580465490055794"
     },
     "user_tz": -330
    },
    "id": "hozec-jXV5Mw",
    "outputId": "90908042-a345-4e8f-e13f-0733a222db5b"
   },
   "outputs": [
    {
     "name": "stdout",
     "output_type": "stream",
     "text": [
      "(3064, 16825)\n",
      "(1022, 16825)\n"
     ]
    }
   ],
   "source": [
    "print (X_train_dtm.shape)\n",
    "print (X_test_dtm.shape)"
   ]
  },
  {
   "cell_type": "code",
   "execution_count": null,
   "metadata": {
    "colab": {
     "base_uri": "https://localhost:8080/",
     "height": 34
    },
    "executionInfo": {
     "elapsed": 1221,
     "status": "ok",
     "timestamp": 1601643937857,
     "user": {
      "displayName": "Sayan Dey",
      "photoUrl": "https://lh3.googleusercontent.com/a-/AOh14GgqVHJ9o6-7idGiRbNNd4iVc1VjzvuPnwmAnvEtD6U=s64",
      "userId": "03603580465490055794"
     },
     "user_tz": -330
    },
    "id": "5aQb4U9wV5M5",
    "outputId": "7ac0a7d2-7a23-4366-f0fa-c9ab541d457c"
   },
   "outputs": [
    {
     "data": {
      "text/plain": [
       "(3064, 4)"
      ]
     },
     "execution_count": 140,
     "metadata": {},
     "output_type": "execute_result"
    }
   ],
   "source": [
    "# shape of other four feature columns\n",
    "X_train.drop('text', axis=1).shape"
   ]
  },
  {
   "cell_type": "code",
   "execution_count": null,
   "metadata": {
    "colab": {
     "base_uri": "https://localhost:8080/",
     "height": 34
    },
    "executionInfo": {
     "elapsed": 1311,
     "status": "ok",
     "timestamp": 1601643939429,
     "user": {
      "displayName": "Sayan Dey",
      "photoUrl": "https://lh3.googleusercontent.com/a-/AOh14GgqVHJ9o6-7idGiRbNNd4iVc1VjzvuPnwmAnvEtD6U=s64",
      "userId": "03603580465490055794"
     },
     "user_tz": -330
    },
    "id": "8A8nHnRMV5M8",
    "outputId": "54d7e399-6d93-4369-c415-b22a0bc8352d"
   },
   "outputs": [
    {
     "data": {
      "text/plain": [
       "(3064, 4)"
      ]
     },
     "execution_count": 141,
     "metadata": {},
     "output_type": "execute_result"
    }
   ],
   "source": [
    "# cast other feature columns to float and convert to a sparse matrix\n",
    "extra = sp.sparse.csr_matrix(X_train.drop('text', axis=1).astype(float))\n",
    "extra.shape"
   ]
  },
  {
   "cell_type": "code",
   "execution_count": null,
   "metadata": {
    "colab": {
     "base_uri": "https://localhost:8080/",
     "height": 34
    },
    "executionInfo": {
     "elapsed": 1059,
     "status": "ok",
     "timestamp": 1601643939432,
     "user": {
      "displayName": "Sayan Dey",
      "photoUrl": "https://lh3.googleusercontent.com/a-/AOh14GgqVHJ9o6-7idGiRbNNd4iVc1VjzvuPnwmAnvEtD6U=s64",
      "userId": "03603580465490055794"
     },
     "user_tz": -330
    },
    "id": "AjUVZKNKV5NA",
    "outputId": "26769c09-adbd-4119-f5f6-91cd02bfef41"
   },
   "outputs": [
    {
     "data": {
      "text/plain": [
       "(3064, 16829)"
      ]
     },
     "execution_count": 142,
     "metadata": {},
     "output_type": "execute_result"
    }
   ],
   "source": [
    "# combine sparse matrices\n",
    "X_train_dtm_extra = sp.sparse.hstack((X_train_dtm, extra))\n",
    "X_train_dtm_extra.shape"
   ]
  },
  {
   "cell_type": "code",
   "execution_count": null,
   "metadata": {
    "colab": {
     "base_uri": "https://localhost:8080/",
     "height": 34
    },
    "executionInfo": {
     "elapsed": 1447,
     "status": "ok",
     "timestamp": 1601643943240,
     "user": {
      "displayName": "Sayan Dey",
      "photoUrl": "https://lh3.googleusercontent.com/a-/AOh14GgqVHJ9o6-7idGiRbNNd4iVc1VjzvuPnwmAnvEtD6U=s64",
      "userId": "03603580465490055794"
     },
     "user_tz": -330
    },
    "id": "HEtySj5QV5NB",
    "outputId": "efb55ad3-be1b-4e52-c44c-599ac1374e87"
   },
   "outputs": [
    {
     "data": {
      "text/plain": [
       "(1022, 16829)"
      ]
     },
     "execution_count": 143,
     "metadata": {},
     "output_type": "execute_result"
    }
   ],
   "source": [
    "# repeat for testing set\n",
    "extra = sp.sparse.csr_matrix(X_test.drop('text', axis=1).astype(float))\n",
    "X_test_dtm_extra = sp.sparse.hstack((X_test_dtm, extra))\n",
    "X_test_dtm_extra.shape"
   ]
  },
  {
   "cell_type": "code",
   "execution_count": null,
   "metadata": {
    "colab": {
     "base_uri": "https://localhost:8080/",
     "height": 34
    },
    "executionInfo": {
     "elapsed": 2137,
     "status": "ok",
     "timestamp": 1601643944248,
     "user": {
      "displayName": "Sayan Dey",
      "photoUrl": "https://lh3.googleusercontent.com/a-/AOh14GgqVHJ9o6-7idGiRbNNd4iVc1VjzvuPnwmAnvEtD6U=s64",
      "userId": "03603580465490055794"
     },
     "user_tz": -330
    },
    "id": "4cUv5FvLV5NC",
    "outputId": "66fb6d7c-73e6-4468-f739-5402c0dc3d43"
   },
   "outputs": [
    {
     "name": "stdout",
     "output_type": "stream",
     "text": [
      "0.9246575342465754\n"
     ]
    }
   ],
   "source": [
    "# use logistic regression with text column only\n",
    "logreg = LogisticRegression(C=1e9)\n",
    "logreg.fit(X_train_dtm, y_train)\n",
    "y_pred_class = logreg.predict(X_test_dtm)\n",
    "print (metrics.accuracy_score(y_test, y_pred_class))"
   ]
  },
  {
   "cell_type": "code",
   "execution_count": null,
   "metadata": {
    "colab": {
     "base_uri": "https://localhost:8080/",
     "height": 34
    },
    "executionInfo": {
     "elapsed": 1684,
     "status": "ok",
     "timestamp": 1601643964183,
     "user": {
      "displayName": "Sayan Dey",
      "photoUrl": "https://lh3.googleusercontent.com/a-/AOh14GgqVHJ9o6-7idGiRbNNd4iVc1VjzvuPnwmAnvEtD6U=s64",
      "userId": "03603580465490055794"
     },
     "user_tz": -330
    },
    "id": "UnOIGjhKV5NE",
    "outputId": "566bfd03-f71d-4a63-99fd-1f05d926923d"
   },
   "outputs": [
    {
     "name": "stdout",
     "output_type": "stream",
     "text": [
      "0.9207436399217221\n"
     ]
    }
   ],
   "source": [
    "# use logistic regression with all features\n",
    "logreg = LogisticRegression(C=1e9)\n",
    "logreg.fit(X_train_dtm_extra, y_train)\n",
    "y_pred_class = logreg.predict(X_test_dtm_extra)\n",
    "print (metrics.accuracy_score(y_test, y_pred_class))"
   ]
  },
  {
   "cell_type": "markdown",
   "metadata": {
    "id": "awjaXucyV5NF"
   },
   "source": [
    "## 11: Fun TextBlob Features"
   ]
  },
  {
   "cell_type": "code",
   "execution_count": null,
   "metadata": {
    "colab": {
     "base_uri": "https://localhost:8080/",
     "height": 34
    },
    "executionInfo": {
     "elapsed": 1141,
     "status": "ok",
     "timestamp": 1601643981318,
     "user": {
      "displayName": "Sayan Dey",
      "photoUrl": "https://lh3.googleusercontent.com/a-/AOh14GgqVHJ9o6-7idGiRbNNd4iVc1VjzvuPnwmAnvEtD6U=s64",
      "userId": "03603580465490055794"
     },
     "user_tz": -330
    },
    "id": "4qzFpYPrV5NF",
    "outputId": "54431385-2963-4b5d-b2ae-52af8c48b45e"
   },
   "outputs": [
    {
     "data": {
      "text/plain": [
       "TextBlob(\"india is good counrteyz\")"
      ]
     },
     "execution_count": 117,
     "metadata": {},
     "output_type": "execute_result"
    }
   ],
   "source": [
    "# spelling correction\n",
    "TextBlob('indai is good counrteyz').correct()"
   ]
  },
  {
   "cell_type": "code",
   "execution_count": null,
   "metadata": {
    "colab": {
     "base_uri": "https://localhost:8080/",
     "height": 34
    },
    "executionInfo": {
     "elapsed": 1139,
     "status": "ok",
     "timestamp": 1601643985393,
     "user": {
      "displayName": "Sayan Dey",
      "photoUrl": "https://lh3.googleusercontent.com/a-/AOh14GgqVHJ9o6-7idGiRbNNd4iVc1VjzvuPnwmAnvEtD6U=s64",
      "userId": "03603580465490055794"
     },
     "user_tz": -330
    },
    "id": "tXbVysnAV5NH",
    "outputId": "8fa471fa-00c7-4dd2-8da5-90b32251f190"
   },
   "outputs": [
    {
     "data": {
      "text/plain": [
       "[('part', 0.9929478138222849), ('parrot', 0.007052186177715092)]"
      ]
     },
     "execution_count": 120,
     "metadata": {},
     "output_type": "execute_result"
    }
   ],
   "source": [
    "# spellcheck\n",
    "Word('parot').spellcheck()"
   ]
  },
  {
   "cell_type": "code",
   "execution_count": null,
   "metadata": {
    "colab": {
     "base_uri": "https://localhost:8080/",
     "height": 155
    },
    "executionInfo": {
     "elapsed": 1191,
     "status": "ok",
     "timestamp": 1601643988782,
     "user": {
      "displayName": "Sayan Dey",
      "photoUrl": "https://lh3.googleusercontent.com/a-/AOh14GgqVHJ9o6-7idGiRbNNd4iVc1VjzvuPnwmAnvEtD6U=s64",
      "userId": "03603580465490055794"
     },
     "user_tz": -330
    },
    "id": "hKXyJjQwV5NL",
    "outputId": "0dd660af-506c-4ac4-ec66-e6a2673f6d59"
   },
   "outputs": [
    {
     "data": {
      "text/plain": [
       "['tip laterally',\n",
       " 'enclose with a bank',\n",
       " 'do business with a bank or keep an account at a bank',\n",
       " 'act as the banker in a game or in gambling',\n",
       " 'be in the banking business',\n",
       " 'put into a bank account',\n",
       " 'cover with ashes so to control the rate of burning',\n",
       " 'have confidence or faith in']"
      ]
     },
     "execution_count": 122,
     "metadata": {},
     "output_type": "execute_result"
    }
   ],
   "source": [
    "# definitions\n",
    "Word('bank').define('v')"
   ]
  },
  {
   "cell_type": "code",
   "execution_count": null,
   "metadata": {
    "colab": {
     "base_uri": "https://localhost:8080/",
     "height": 35
    },
    "executionInfo": {
     "elapsed": 763,
     "status": "ok",
     "timestamp": 1601643991029,
     "user": {
      "displayName": "Sayan Dey",
      "photoUrl": "https://lh3.googleusercontent.com/a-/AOh14GgqVHJ9o6-7idGiRbNNd4iVc1VjzvuPnwmAnvEtD6U=s64",
      "userId": "03603580465490055794"
     },
     "user_tz": -330
    },
    "id": "TRHFZ8HdV5NO",
    "outputId": "d8f70fc8-7c98-4696-c900-11bde510c322"
   },
   "outputs": [
    {
     "data": {
      "text/plain": [
       "'ta'"
      ]
     },
     "execution_count": 7,
     "metadata": {},
     "output_type": "execute_result"
    }
   ],
   "source": [
    "# language identification\n",
    "TextBlob('விஜய் தனது புதிய யூடியூப் சேனலை திறக்கிறார்').detect_language()"
   ]
  },
  {
   "cell_type": "markdown",
   "metadata": {
    "id": "pVZLOpBIV5NQ"
   },
   "source": [
    "## Conclusion\n",
    "\n",
    "- NLP is a gigantic field\n",
    "- Understanding the basics broadens the types of data you can work with\n",
    "- Simple techniques go a long way\n",
    "- Use scikit-learn for NLP whenever possible"
   ]
  }
 ],
 "metadata": {
  "accelerator": "GPU",
  "colab": {
   "collapsed_sections": [
    "pVZLOpBIV5NQ"
   ],
   "provenance": []
  },
  "kernelspec": {
   "display_name": "Python 3 (ipykernel)",
   "language": "python",
   "name": "python3"
  },
  "language_info": {
   "codemirror_mode": {
    "name": "ipython",
    "version": 3
   },
   "file_extension": ".py",
   "mimetype": "text/x-python",
   "name": "python",
   "nbconvert_exporter": "python",
   "pygments_lexer": "ipython3",
   "version": "3.10.9"
  }
 },
 "nbformat": 4,
 "nbformat_minor": 1
}
