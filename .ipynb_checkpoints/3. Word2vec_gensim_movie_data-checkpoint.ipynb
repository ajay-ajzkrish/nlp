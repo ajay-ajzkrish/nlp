{
 "cells": [
  {
   "cell_type": "markdown",
   "metadata": {
    "id": "C2WAFZueaivk"
   },
   "source": [
    "### Load Gensim Library"
   ]
  },
  {
   "cell_type": "code",
   "execution_count": 1,
   "metadata": {
    "executionInfo": {
     "elapsed": 5,
     "status": "ok",
     "timestamp": 1692861476557,
     "user": {
      "displayName": "Sayan Dey",
      "userId": "07932039372029331807"
     },
     "user_tz": -330
    },
    "id": "WWg3i_ryddsA"
   },
   "outputs": [
    {
     "name": "stdout",
     "output_type": "stream",
     "text": [
      "Defaulting to user installation because normal site-packages is not writeable\n",
      "Requirement already satisfied: gensim in c:\\programdata\\anaconda3\\lib\\site-packages (4.3.0)\n",
      "Requirement already satisfied: numpy>=1.18.5 in c:\\programdata\\anaconda3\\lib\\site-packages (from gensim) (1.23.5)\n",
      "Requirement already satisfied: scipy>=1.7.0 in c:\\users\\akris\\appdata\\roaming\\python\\python310\\site-packages (from gensim) (1.10.1)\n",
      "Collecting FuzzyTM>=0.4.0\n",
      "  Downloading FuzzyTM-2.0.5-py3-none-any.whl (29 kB)\n",
      "Requirement already satisfied: smart-open>=1.8.1 in c:\\programdata\\anaconda3\\lib\\site-packages (from gensim) (5.2.1)\n",
      "Collecting pyfume\n",
      "  Downloading pyFUME-0.2.25-py3-none-any.whl (67 kB)\n",
      "     ---------------------------------------- 67.1/67.1 kB 3.8 MB/s eta 0:00:00\n",
      "Requirement already satisfied: pandas in c:\\programdata\\anaconda3\\lib\\site-packages (from FuzzyTM>=0.4.0->gensim) (1.5.3)\n",
      "Requirement already satisfied: python-dateutil>=2.8.1 in c:\\programdata\\anaconda3\\lib\\site-packages (from pandas->FuzzyTM>=0.4.0->gensim) (2.8.2)\n",
      "Requirement already satisfied: pytz>=2020.1 in c:\\programdata\\anaconda3\\lib\\site-packages (from pandas->FuzzyTM>=0.4.0->gensim) (2022.7)\n",
      "Collecting fst-pso\n",
      "  Downloading fst-pso-1.8.1.tar.gz (18 kB)\n",
      "  Preparing metadata (setup.py): started\n",
      "  Preparing metadata (setup.py): finished with status 'done'\n",
      "Collecting simpful\n",
      "  Downloading simpful-2.11.0-py3-none-any.whl (32 kB)\n",
      "Requirement already satisfied: six>=1.5 in c:\\programdata\\anaconda3\\lib\\site-packages (from python-dateutil>=2.8.1->pandas->FuzzyTM>=0.4.0->gensim) (1.16.0)\n",
      "Collecting miniful\n",
      "  Downloading miniful-0.0.6.tar.gz (2.8 kB)\n",
      "  Preparing metadata (setup.py): started\n",
      "  Preparing metadata (setup.py): finished with status 'done'\n",
      "Building wheels for collected packages: fst-pso, miniful\n",
      "  Building wheel for fst-pso (setup.py): started\n",
      "  Building wheel for fst-pso (setup.py): finished with status 'done'\n",
      "  Created wheel for fst-pso: filename=fst_pso-1.8.1-py3-none-any.whl size=20448 sha256=1101ed45816ecb4f7758c871b14e6b5fb5c532ee13e995a03e6d727ed4f1eec0\n",
      "  Stored in directory: c:\\users\\akris\\appdata\\local\\pip\\cache\\wheels\\01\\02\\ee\\df0699282986903a384b69aab4413af9efd26b3612b5dccc9e\n",
      "  Building wheel for miniful (setup.py): started\n",
      "  Building wheel for miniful (setup.py): finished with status 'done'\n",
      "  Created wheel for miniful: filename=miniful-0.0.6-py3-none-any.whl size=3522 sha256=ccd382102640ac333dd0da17c6c578fbfe7ecde6d1384bcd22af2bf61eacf2f1\n",
      "  Stored in directory: c:\\users\\akris\\appdata\\local\\pip\\cache\\wheels\\43\\aa\\48\\5c66b931ff013ad19774081aa19656637af5c0cc33b5494b30\n",
      "Successfully built fst-pso miniful\n",
      "Installing collected packages: simpful, miniful, fst-pso, pyfume, FuzzyTM\n",
      "Successfully installed FuzzyTM-2.0.5 fst-pso-1.8.1 miniful-0.0.6 pyfume-0.2.25 simpful-2.11.0\n"
     ]
    }
   ],
   "source": [
    "!pip install gensim"
   ]
  },
  {
   "cell_type": "code",
   "execution_count": 2,
   "metadata": {
    "executionInfo": {
     "elapsed": 1736,
     "status": "ok",
     "timestamp": 1692861478289,
     "user": {
      "displayName": "Sayan Dey",
      "userId": "07932039372029331807"
     },
     "user_tz": -330
    },
    "id": "iSrla7q8aivn"
   },
   "outputs": [],
   "source": [
    "import gensim\n",
    "import warnings\n",
    "warnings.filterwarnings('ignore')"
   ]
  },
  {
   "cell_type": "code",
   "execution_count": 3,
   "metadata": {
    "executionInfo": {
     "elapsed": 5,
     "status": "ok",
     "timestamp": 1692861478290,
     "user": {
      "displayName": "Sayan Dey",
      "userId": "07932039372029331807"
     },
     "user_tz": -330
    },
    "id": "D6HqQQL4aivq"
   },
   "outputs": [],
   "source": [
    "import logging\n",
    "logging.basicConfig(format='%(asctime)s : %(levelname)s : %(message)s',\n",
    "                    level=logging.INFO)"
   ]
  },
  {
   "cell_type": "markdown",
   "metadata": {
    "id": "rOTbE9ZPaivu"
   },
   "source": [
    "### Load Text Data\n",
    "\n",
    "Data can be downloaded from https://www.kaggle.com/c/word2vec-nlp-tutorial/data"
   ]
  },
  {
   "cell_type": "code",
   "execution_count": 4,
   "metadata": {
    "colab": {
     "base_uri": "https://localhost:8080/"
    },
    "executionInfo": {
     "elapsed": 27033,
     "status": "ok",
     "timestamp": 1692861505318,
     "user": {
      "displayName": "Sayan Dey",
      "userId": "07932039372029331807"
     },
     "user_tz": -330
    },
    "id": "oHi3q9cPKijF",
    "outputId": "e41d0dd5-0388-495b-ee03-040c98b4de4b"
   },
   "outputs": [],
   "source": [
    "# #This is needed only if you have uploaded data to Google drive\n",
    "# from google.colab import drive\n",
    "# drive.mount('/gdrive')"
   ]
  },
  {
   "cell_type": "code",
   "execution_count": 6,
   "metadata": {
    "colab": {
     "base_uri": "https://localhost:8080/",
     "height": 222
    },
    "executionInfo": {
     "elapsed": 4719,
     "status": "ok",
     "timestamp": 1628407156096,
     "user": {
      "displayName": "Sayan Dey",
      "photoUrl": "https://lh3.googleusercontent.com/a-/AOh14GgqVHJ9o6-7idGiRbNNd4iVc1VjzvuPnwmAnvEtD6U=s64",
      "userId": "03603580465490055794"
     },
     "user_tz": -330
    },
    "id": "sxDRNQv9aivw",
    "outputId": "5ca4001e-d5e2-4d47-df6a-6a0d75e296eb",
    "scrolled": true
   },
   "outputs": [
    {
     "name": "stdout",
     "output_type": "stream",
     "text": [
      "Number of examples in Dataset:  (50000, 2)\n"
     ]
    },
    {
     "data": {
      "text/html": [
       "<div>\n",
       "<style scoped>\n",
       "    .dataframe tbody tr th:only-of-type {\n",
       "        vertical-align: middle;\n",
       "    }\n",
       "\n",
       "    .dataframe tbody tr th {\n",
       "        vertical-align: top;\n",
       "    }\n",
       "\n",
       "    .dataframe thead th {\n",
       "        text-align: right;\n",
       "    }\n",
       "</style>\n",
       "<table border=\"1\" class=\"dataframe\">\n",
       "  <thead>\n",
       "    <tr style=\"text-align: right;\">\n",
       "      <th></th>\n",
       "      <th>id</th>\n",
       "      <th>review</th>\n",
       "    </tr>\n",
       "  </thead>\n",
       "  <tbody>\n",
       "    <tr>\n",
       "      <th>0</th>\n",
       "      <td>\"9999_0\"</td>\n",
       "      <td>\"Watching Time Chasers, it obvious that it was...</td>\n",
       "    </tr>\n",
       "    <tr>\n",
       "      <th>1</th>\n",
       "      <td>\"45057_0\"</td>\n",
       "      <td>\"I saw this film about 20 years ago and rememb...</td>\n",
       "    </tr>\n",
       "    <tr>\n",
       "      <th>2</th>\n",
       "      <td>\"15561_0\"</td>\n",
       "      <td>\"Minor Spoilers&lt;br /&gt;&lt;br /&gt;In New York, Joan B...</td>\n",
       "    </tr>\n",
       "    <tr>\n",
       "      <th>3</th>\n",
       "      <td>\"7161_0\"</td>\n",
       "      <td>\"I went to see this film with a great deal of ...</td>\n",
       "    </tr>\n",
       "    <tr>\n",
       "      <th>4</th>\n",
       "      <td>\"43971_0\"</td>\n",
       "      <td>\"Yes, I agree with everyone on this site this ...</td>\n",
       "    </tr>\n",
       "  </tbody>\n",
       "</table>\n",
       "</div>"
      ],
      "text/plain": [
       "          id                                             review\n",
       "0   \"9999_0\"  \"Watching Time Chasers, it obvious that it was...\n",
       "1  \"45057_0\"  \"I saw this film about 20 years ago and rememb...\n",
       "2  \"15561_0\"  \"Minor Spoilers<br /><br />In New York, Joan B...\n",
       "3   \"7161_0\"  \"I went to see this film with a great deal of ...\n",
       "4  \"43971_0\"  \"Yes, I agree with everyone on this site this ..."
      ]
     },
     "execution_count": 6,
     "metadata": {},
     "output_type": "execute_result"
    }
   ],
   "source": [
    "import pandas as pd\n",
    "\n",
    "#change file path to point to where you have stored the zip file.\n",
    "#df = pd.read_csv('/gdrive/My Drive/Statistical NLP AIML/unlabeledTrainData.tsv.zip', header=0, delimiter=\"\\t\", quoting=3)\n",
    "df = pd.read_csv('unlabeledTrainData.tsv', header=0, delimiter=\"\\t\", quoting=3)\n",
    "print('Number of examples in Dataset: ', df.shape)\n",
    "df.head()"
   ]
  },
  {
   "cell_type": "markdown",
   "metadata": {
    "id": "j1DHNFNsaivy"
   },
   "source": [
    "### Function to Clean up data"
   ]
  },
  {
   "cell_type": "code",
   "execution_count": 7,
   "metadata": {
    "id": "PJf9rUeLaiv0"
   },
   "outputs": [],
   "source": [
    "import re, string\n",
    "\n",
    "def clean_str(string):\n",
    "  \"\"\"\n",
    "  String cleaning before vectorization\n",
    "  \"\"\"\n",
    "  try:\n",
    "    string = re.sub(r'^https?:\\/\\/<>.*[\\r\\n]*', '', string, flags=re.MULTILINE)\n",
    "    string = re.sub(r\"[^A-Za-z]\", \" \", string)\n",
    "    words = string.strip().lower().split()\n",
    "    words = [w for w in words if len(w)>=1]\n",
    "    return \" \".join(words)\n",
    "  except:\n",
    "    return \"\""
   ]
  },
  {
   "cell_type": "markdown",
   "metadata": {
    "id": "ON-JT9fPaiv2"
   },
   "source": [
    "### Clean the Data using routine above"
   ]
  },
  {
   "cell_type": "code",
   "execution_count": 8,
   "metadata": {
    "colab": {
     "base_uri": "https://localhost:8080/",
     "height": 204
    },
    "executionInfo": {
     "elapsed": 6775,
     "status": "ok",
     "timestamp": 1628407219727,
     "user": {
      "displayName": "Sayan Dey",
      "photoUrl": "https://lh3.googleusercontent.com/a-/AOh14GgqVHJ9o6-7idGiRbNNd4iVc1VjzvuPnwmAnvEtD6U=s64",
      "userId": "03603580465490055794"
     },
     "user_tz": -330
    },
    "id": "iVOxnQg3aiv4",
    "outputId": "09b362d1-e1cf-4eb9-fd2a-810ff66593b4",
    "scrolled": false
   },
   "outputs": [
    {
     "data": {
      "text/html": [
       "<div>\n",
       "<style scoped>\n",
       "    .dataframe tbody tr th:only-of-type {\n",
       "        vertical-align: middle;\n",
       "    }\n",
       "\n",
       "    .dataframe tbody tr th {\n",
       "        vertical-align: top;\n",
       "    }\n",
       "\n",
       "    .dataframe thead th {\n",
       "        text-align: right;\n",
       "    }\n",
       "</style>\n",
       "<table border=\"1\" class=\"dataframe\">\n",
       "  <thead>\n",
       "    <tr style=\"text-align: right;\">\n",
       "      <th></th>\n",
       "      <th>id</th>\n",
       "      <th>review</th>\n",
       "      <th>clean_review</th>\n",
       "    </tr>\n",
       "  </thead>\n",
       "  <tbody>\n",
       "    <tr>\n",
       "      <th>0</th>\n",
       "      <td>\"9999_0\"</td>\n",
       "      <td>\"Watching Time Chasers, it obvious that it was...</td>\n",
       "      <td>watching time chasers it obvious that it was m...</td>\n",
       "    </tr>\n",
       "    <tr>\n",
       "      <th>1</th>\n",
       "      <td>\"45057_0\"</td>\n",
       "      <td>\"I saw this film about 20 years ago and rememb...</td>\n",
       "      <td>i saw this film about years ago and remember i...</td>\n",
       "    </tr>\n",
       "    <tr>\n",
       "      <th>2</th>\n",
       "      <td>\"15561_0\"</td>\n",
       "      <td>\"Minor Spoilers&lt;br /&gt;&lt;br /&gt;In New York, Joan B...</td>\n",
       "      <td>minor spoilers br br in new york joan barnard ...</td>\n",
       "    </tr>\n",
       "    <tr>\n",
       "      <th>3</th>\n",
       "      <td>\"7161_0\"</td>\n",
       "      <td>\"I went to see this film with a great deal of ...</td>\n",
       "      <td>i went to see this film with a great deal of e...</td>\n",
       "    </tr>\n",
       "    <tr>\n",
       "      <th>4</th>\n",
       "      <td>\"43971_0\"</td>\n",
       "      <td>\"Yes, I agree with everyone on this site this ...</td>\n",
       "      <td>yes i agree with everyone on this site this mo...</td>\n",
       "    </tr>\n",
       "  </tbody>\n",
       "</table>\n",
       "</div>"
      ],
      "text/plain": [
       "          id                                             review  \\\n",
       "0   \"9999_0\"  \"Watching Time Chasers, it obvious that it was...   \n",
       "1  \"45057_0\"  \"I saw this film about 20 years ago and rememb...   \n",
       "2  \"15561_0\"  \"Minor Spoilers<br /><br />In New York, Joan B...   \n",
       "3   \"7161_0\"  \"I went to see this film with a great deal of ...   \n",
       "4  \"43971_0\"  \"Yes, I agree with everyone on this site this ...   \n",
       "\n",
       "                                        clean_review  \n",
       "0  watching time chasers it obvious that it was m...  \n",
       "1  i saw this film about years ago and remember i...  \n",
       "2  minor spoilers br br in new york joan barnard ...  \n",
       "3  i went to see this film with a great deal of e...  \n",
       "4  yes i agree with everyone on this site this mo...  "
      ]
     },
     "execution_count": 8,
     "metadata": {},
     "output_type": "execute_result"
    }
   ],
   "source": [
    "df['clean_review'] = df['review'].apply(clean_str)\n",
    "df.head()"
   ]
  },
  {
   "cell_type": "code",
   "execution_count": 9,
   "metadata": {
    "colab": {
     "base_uri": "https://localhost:8080/"
    },
    "executionInfo": {
     "elapsed": 475,
     "status": "ok",
     "timestamp": 1628407256498,
     "user": {
      "displayName": "Sayan Dey",
      "photoUrl": "https://lh3.googleusercontent.com/a-/AOh14GgqVHJ9o6-7idGiRbNNd4iVc1VjzvuPnwmAnvEtD6U=s64",
      "userId": "03603580465490055794"
     },
     "user_tz": -330
    },
    "id": "03dGFF2WUBcW",
    "outputId": "8be2b4c8-5844-431c-bedd-b7b2d3d070e1",
    "scrolled": true
   },
   "outputs": [
    {
     "data": {
      "text/plain": [
       "['watching',\n",
       " 'time',\n",
       " 'chasers',\n",
       " 'it',\n",
       " 'obvious',\n",
       " 'that',\n",
       " 'it',\n",
       " 'was',\n",
       " 'made',\n",
       " 'by',\n",
       " 'a',\n",
       " 'bunch',\n",
       " 'of',\n",
       " 'friends',\n",
       " 'maybe',\n",
       " 'they',\n",
       " 'were',\n",
       " 'sitting',\n",
       " 'around',\n",
       " 'one',\n",
       " 'day',\n",
       " 'in',\n",
       " 'film',\n",
       " 'school',\n",
       " 'and',\n",
       " 'said',\n",
       " 'hey',\n",
       " 'let',\n",
       " 's',\n",
       " 'pool',\n",
       " 'our',\n",
       " 'money',\n",
       " 'together',\n",
       " 'and',\n",
       " 'make',\n",
       " 'a',\n",
       " 'really',\n",
       " 'bad',\n",
       " 'movie',\n",
       " 'or',\n",
       " 'something',\n",
       " 'like',\n",
       " 'that',\n",
       " 'what',\n",
       " 'ever',\n",
       " 'they',\n",
       " 'said',\n",
       " 'they',\n",
       " 'still',\n",
       " 'ended',\n",
       " 'up',\n",
       " 'making',\n",
       " 'a',\n",
       " 'really',\n",
       " 'bad',\n",
       " 'movie',\n",
       " 'dull',\n",
       " 'story',\n",
       " 'bad',\n",
       " 'script',\n",
       " 'lame',\n",
       " 'acting',\n",
       " 'poor',\n",
       " 'cinematography',\n",
       " 'bottom',\n",
       " 'of',\n",
       " 'the',\n",
       " 'barrel',\n",
       " 'stock',\n",
       " 'music',\n",
       " 'etc',\n",
       " 'all',\n",
       " 'corners',\n",
       " 'were',\n",
       " 'cut',\n",
       " 'except',\n",
       " 'the',\n",
       " 'one',\n",
       " 'that',\n",
       " 'would',\n",
       " 'have',\n",
       " 'prevented',\n",
       " 'this',\n",
       " 'film',\n",
       " 's',\n",
       " 'release',\n",
       " 'life',\n",
       " 's',\n",
       " 'like',\n",
       " 'that']"
      ]
     },
     "execution_count": 9,
     "metadata": {},
     "output_type": "execute_result"
    }
   ],
   "source": [
    "df['clean_review'][0].split(' ')"
   ]
  },
  {
   "cell_type": "markdown",
   "metadata": {
    "id": "LJJyLx1Vaiv7"
   },
   "source": [
    "### Convert Review to a Word List"
   ]
  },
  {
   "cell_type": "code",
   "execution_count": 10,
   "metadata": {
    "colab": {
     "base_uri": "https://localhost:8080/"
    },
    "executionInfo": {
     "elapsed": 1290,
     "status": "ok",
     "timestamp": 1628407262328,
     "user": {
      "displayName": "Sayan Dey",
      "photoUrl": "https://lh3.googleusercontent.com/a-/AOh14GgqVHJ9o6-7idGiRbNNd4iVc1VjzvuPnwmAnvEtD6U=s64",
      "userId": "03603580465490055794"
     },
     "user_tz": -330
    },
    "id": "5jEV1hl0aiv8",
    "outputId": "cf3c6a04-6b49-4c49-b7c3-c0755e16f83a",
    "scrolled": true
   },
   "outputs": [
    {
     "name": "stdout",
     "output_type": "stream",
     "text": [
      "50000\n",
      "['watching', 'time', 'chasers', 'it', 'obvious', 'that', 'it', 'was', 'made', 'by', 'a', 'bunch', 'of', 'friends', 'maybe', 'they', 'were', 'sitting', 'around', 'one', 'day', 'in', 'film', 'school', 'and', 'said', 'hey', 'let', 's', 'pool', 'our', 'money', 'together', 'and', 'make', 'a', 'really', 'bad', 'movie', 'or', 'something', 'like', 'that', 'what', 'ever', 'they', 'said', 'they', 'still', 'ended', 'up', 'making', 'a', 'really', 'bad', 'movie', 'dull', 'story', 'bad', 'script', 'lame', 'acting', 'poor', 'cinematography', 'bottom', 'of', 'the', 'barrel', 'stock', 'music', 'etc', 'all', 'corners', 'were', 'cut', 'except', 'the', 'one', 'that', 'would', 'have', 'prevented', 'this', 'film', 's', 'release', 'life', 's', 'like', 'that']\n"
     ]
    }
   ],
   "source": [
    "#List to hold all words in each review\n",
    "documents = []\n",
    "\n",
    "#Iterate over each review\n",
    "for doc in df['clean_review']:\n",
    "    documents.append(doc.split(' '))\n",
    "\n",
    "print(len(documents))\n",
    "print(documents[0])"
   ]
  },
  {
   "cell_type": "code",
   "execution_count": 11,
   "metadata": {
    "colab": {
     "base_uri": "https://localhost:8080/"
    },
    "executionInfo": {
     "elapsed": 765,
     "status": "ok",
     "timestamp": 1628407276950,
     "user": {
      "displayName": "Sayan Dey",
      "photoUrl": "https://lh3.googleusercontent.com/a-/AOh14GgqVHJ9o6-7idGiRbNNd4iVc1VjzvuPnwmAnvEtD6U=s64",
      "userId": "03603580465490055794"
     },
     "user_tz": -330
    },
    "id": "Ts4vsy8MFOpF",
    "outputId": "93356946-e5d4-4e95-c134-31b1a37c6f0d"
   },
   "outputs": [
    {
     "name": "stdout",
     "output_type": "stream",
     "text": [
      "90\n"
     ]
    }
   ],
   "source": [
    "print(len(documents[0]))"
   ]
  },
  {
   "cell_type": "code",
   "execution_count": 12,
   "metadata": {
    "colab": {
     "base_uri": "https://localhost:8080/"
    },
    "executionInfo": {
     "elapsed": 682,
     "status": "ok",
     "timestamp": 1628407290640,
     "user": {
      "displayName": "Sayan Dey",
      "photoUrl": "https://lh3.googleusercontent.com/a-/AOh14GgqVHJ9o6-7idGiRbNNd4iVc1VjzvuPnwmAnvEtD6U=s64",
      "userId": "03603580465490055794"
     },
     "user_tz": -330
    },
    "id": "O3D6hiEAcRkf",
    "outputId": "79941b95-d007-4bf4-c1f2-d05d3ab32985"
   },
   "outputs": [
    {
     "data": {
      "text/plain": [
       "82"
      ]
     },
     "execution_count": 12,
     "metadata": {},
     "output_type": "execute_result"
    }
   ],
   "source": [
    "len(documents[1])"
   ]
  },
  {
   "cell_type": "markdown",
   "metadata": {
    "id": "EHhZ8ncUaiv_"
   },
   "source": [
    "### Build the Model"
   ]
  },
  {
   "cell_type": "code",
   "execution_count": 13,
   "metadata": {
    "id": "KsB8HpGwaiwA",
    "scrolled": false
   },
   "outputs": [
    {
     "name": "stderr",
     "output_type": "stream",
     "text": [
      "2023-10-12 13:29:09,331 : INFO : collecting all words and their counts\n",
      "2023-10-12 13:29:09,331 : INFO : PROGRESS: at sentence #0, processed 0 words, keeping 0 word types\n",
      "2023-10-12 13:29:09,816 : INFO : PROGRESS: at sentence #10000, processed 2399440 words, keeping 51654 word types\n",
      "2023-10-12 13:29:10,969 : INFO : PROGRESS: at sentence #20000, processed 4835846 words, keeping 69077 word types\n",
      "2023-10-12 13:29:12,276 : INFO : PROGRESS: at sentence #30000, processed 7267977 words, keeping 81515 word types\n",
      "2023-10-12 13:29:13,853 : INFO : PROGRESS: at sentence #40000, processed 9669772 words, keeping 91685 word types\n",
      "2023-10-12 13:29:14,797 : INFO : collected 100479 word types from a corpus of 12084660 raw words and 50000 sentences\n",
      "2023-10-12 13:29:14,797 : INFO : Creating a fresh vocabulary\n",
      "2023-10-12 13:29:15,069 : INFO : Word2Vec lifecycle event {'msg': 'effective_min_count=5 retains 39730 unique words (39.54% of original 100479, drops 60749)', 'datetime': '2023-10-12T13:29:15.069434', 'gensim': '4.3.0', 'python': '3.10.9 | packaged by Anaconda, Inc. | (main, Mar  1 2023, 18:18:15) [MSC v.1916 64 bit (AMD64)]', 'platform': 'Windows-10-10.0.22621-SP0', 'event': 'prepare_vocab'}\n",
      "2023-10-12 13:29:15,079 : INFO : Word2Vec lifecycle event {'msg': 'effective_min_count=5 leaves 11985689 word corpus (99.18% of original 12084660, drops 98971)', 'datetime': '2023-10-12T13:29:15.079949', 'gensim': '4.3.0', 'python': '3.10.9 | packaged by Anaconda, Inc. | (main, Mar  1 2023, 18:18:15) [MSC v.1916 64 bit (AMD64)]', 'platform': 'Windows-10-10.0.22621-SP0', 'event': 'prepare_vocab'}\n",
      "2023-10-12 13:29:15,317 : INFO : deleting the raw counts dictionary of 100479 items\n",
      "2023-10-12 13:29:15,332 : INFO : sample=0.001 downsamples 49 most-common words\n",
      "2023-10-12 13:29:15,332 : INFO : Word2Vec lifecycle event {'msg': 'downsampling leaves estimated 8901252.199361648 word corpus (74.3%% of prior 11985689)', 'datetime': '2023-10-12T13:29:15.332946', 'gensim': '4.3.0', 'python': '3.10.9 | packaged by Anaconda, Inc. | (main, Mar  1 2023, 18:18:15) [MSC v.1916 64 bit (AMD64)]', 'platform': 'Windows-10-10.0.22621-SP0', 'event': 'prepare_vocab'}\n",
      "2023-10-12 13:29:15,816 : INFO : estimated required memory for 39730 words and 300 dimensions: 115217000 bytes\n",
      "2023-10-12 13:29:15,816 : INFO : resetting layer weights\n",
      "2023-10-12 13:29:15,884 : INFO : Word2Vec lifecycle event {'update': False, 'trim_rule': 'None', 'datetime': '2023-10-12T13:29:15.884331', 'gensim': '4.3.0', 'python': '3.10.9 | packaged by Anaconda, Inc. | (main, Mar  1 2023, 18:18:15) [MSC v.1916 64 bit (AMD64)]', 'platform': 'Windows-10-10.0.22621-SP0', 'event': 'build_vocab'}\n",
      "2023-10-12 13:29:15,886 : INFO : Word2Vec lifecycle event {'msg': 'training model with 6 workers on 39730 vocabulary and 300 features, using sg=0 hs=0 sample=0.001 negative=5 window=5 shrink_windows=True', 'datetime': '2023-10-12T13:29:15.886415', 'gensim': '4.3.0', 'python': '3.10.9 | packaged by Anaconda, Inc. | (main, Mar  1 2023, 18:18:15) [MSC v.1916 64 bit (AMD64)]', 'platform': 'Windows-10-10.0.22621-SP0', 'event': 'train'}\n",
      "2023-10-12 13:29:16,920 : INFO : EPOCH 0 - PROGRESS: at 13.03% examples, 1142565 words/s, in_qsize 11, out_qsize 0\n",
      "2023-10-12 13:29:17,919 : INFO : EPOCH 0 - PROGRESS: at 27.97% examples, 1236251 words/s, in_qsize 11, out_qsize 0\n",
      "2023-10-12 13:29:18,934 : INFO : EPOCH 0 - PROGRESS: at 41.78% examples, 1232663 words/s, in_qsize 12, out_qsize 2\n",
      "2023-10-12 13:29:19,925 : INFO : EPOCH 0 - PROGRESS: at 55.94% examples, 1240566 words/s, in_qsize 11, out_qsize 0\n",
      "2023-10-12 13:29:20,935 : INFO : EPOCH 0 - PROGRESS: at 71.02% examples, 1260668 words/s, in_qsize 11, out_qsize 0\n",
      "2023-10-12 13:29:21,935 : INFO : EPOCH 0 - PROGRESS: at 86.52% examples, 1278185 words/s, in_qsize 11, out_qsize 0\n",
      "2023-10-12 13:29:22,836 : INFO : EPOCH 0: training on 12084660 raw words (8902049 effective words) took 6.9s, 1284778 effective words/s\n",
      "2023-10-12 13:29:23,871 : INFO : EPOCH 1 - PROGRESS: at 14.12% examples, 1237620 words/s, in_qsize 11, out_qsize 0\n",
      "2023-10-12 13:29:24,865 : INFO : EPOCH 1 - PROGRESS: at 28.89% examples, 1274905 words/s, in_qsize 12, out_qsize 0\n",
      "2023-10-12 13:29:25,868 : INFO : EPOCH 1 - PROGRESS: at 44.04% examples, 1301983 words/s, in_qsize 11, out_qsize 0\n",
      "2023-10-12 13:29:26,876 : INFO : EPOCH 1 - PROGRESS: at 57.74% examples, 1282952 words/s, in_qsize 10, out_qsize 1\n",
      "2023-10-12 13:29:27,876 : INFO : EPOCH 1 - PROGRESS: at 73.16% examples, 1301146 words/s, in_qsize 11, out_qsize 0\n",
      "2023-10-12 13:29:28,876 : INFO : EPOCH 1 - PROGRESS: at 87.99% examples, 1301705 words/s, in_qsize 12, out_qsize 0\n",
      "2023-10-12 13:29:29,767 : INFO : EPOCH 1: training on 12084660 raw words (8901700 effective words) took 6.9s, 1288889 effective words/s\n",
      "2023-10-12 13:29:30,775 : INFO : EPOCH 2 - PROGRESS: at 14.71% examples, 1293754 words/s, in_qsize 11, out_qsize 0\n",
      "2023-10-12 13:29:31,775 : INFO : EPOCH 2 - PROGRESS: at 29.64% examples, 1308550 words/s, in_qsize 12, out_qsize 0\n",
      "2023-10-12 13:29:32,783 : INFO : EPOCH 2 - PROGRESS: at 43.64% examples, 1287527 words/s, in_qsize 11, out_qsize 0\n",
      "2023-10-12 13:29:33,785 : INFO : EPOCH 2 - PROGRESS: at 58.12% examples, 1289735 words/s, in_qsize 11, out_qsize 0\n",
      "2023-10-12 13:29:34,805 : INFO : EPOCH 2 - PROGRESS: at 73.73% examples, 1306260 words/s, in_qsize 12, out_qsize 0\n",
      "2023-10-12 13:29:35,808 : INFO : EPOCH 2 - PROGRESS: at 88.41% examples, 1303472 words/s, in_qsize 11, out_qsize 0\n",
      "2023-10-12 13:29:36,624 : INFO : EPOCH 2: training on 12084660 raw words (8902269 effective words) took 6.8s, 1299803 effective words/s\n",
      "2023-10-12 13:29:37,622 : INFO : EPOCH 3 - PROGRESS: at 14.38% examples, 1262119 words/s, in_qsize 11, out_qsize 0\n",
      "2023-10-12 13:29:38,623 : INFO : EPOCH 3 - PROGRESS: at 29.31% examples, 1295569 words/s, in_qsize 12, out_qsize 0\n",
      "2023-10-12 13:29:39,633 : INFO : EPOCH 3 - PROGRESS: at 43.72% examples, 1291579 words/s, in_qsize 11, out_qsize 0\n",
      "2023-10-12 13:29:40,650 : INFO : EPOCH 3 - PROGRESS: at 58.62% examples, 1298046 words/s, in_qsize 11, out_qsize 0\n",
      "2023-10-12 13:29:41,662 : INFO : EPOCH 3 - PROGRESS: at 72.40% examples, 1283116 words/s, in_qsize 12, out_qsize 0\n",
      "2023-10-12 13:29:42,664 : INFO : EPOCH 3 - PROGRESS: at 87.68% examples, 1292403 words/s, in_qsize 12, out_qsize 0\n",
      "2023-10-12 13:29:43,557 : INFO : EPOCH 3: training on 12084660 raw words (8901814 effective words) took 6.9s, 1285185 effective words/s\n",
      "2023-10-12 13:29:44,562 : INFO : EPOCH 4 - PROGRESS: at 13.63% examples, 1199854 words/s, in_qsize 12, out_qsize 0\n",
      "2023-10-12 13:29:45,560 : INFO : EPOCH 4 - PROGRESS: at 27.57% examples, 1217479 words/s, in_qsize 11, out_qsize 0\n",
      "2023-10-12 13:29:46,558 : INFO : EPOCH 4 - PROGRESS: at 41.78% examples, 1237648 words/s, in_qsize 11, out_qsize 0\n",
      "2023-10-12 13:29:47,575 : INFO : EPOCH 4 - PROGRESS: at 55.52% examples, 1232910 words/s, in_qsize 11, out_qsize 0\n",
      "2023-10-12 13:29:48,591 : INFO : EPOCH 4 - PROGRESS: at 69.10% examples, 1225023 words/s, in_qsize 10, out_qsize 1\n",
      "2023-10-12 13:29:49,585 : INFO : EPOCH 4 - PROGRESS: at 83.17% examples, 1227381 words/s, in_qsize 11, out_qsize 0\n",
      "2023-10-12 13:29:50,589 : INFO : EPOCH 4 - PROGRESS: at 97.82% examples, 1237471 words/s, in_qsize 11, out_qsize 0\n",
      "2023-10-12 13:29:50,731 : INFO : EPOCH 4: training on 12084660 raw words (8901225 effective words) took 7.2s, 1240766 effective words/s\n",
      "2023-10-12 13:29:51,742 : INFO : EPOCH 5 - PROGRESS: at 13.57% examples, 1195092 words/s, in_qsize 11, out_qsize 0\n",
      "2023-10-12 13:29:52,739 : INFO : EPOCH 5 - PROGRESS: at 27.81% examples, 1227235 words/s, in_qsize 12, out_qsize 1\n",
      "2023-10-12 13:29:53,750 : INFO : EPOCH 5 - PROGRESS: at 42.11% examples, 1245556 words/s, in_qsize 11, out_qsize 0\n",
      "2023-10-12 13:29:54,761 : INFO : EPOCH 5 - PROGRESS: at 56.40% examples, 1250731 words/s, in_qsize 11, out_qsize 0\n",
      "2023-10-12 13:29:55,767 : INFO : EPOCH 5 - PROGRESS: at 69.45% examples, 1232766 words/s, in_qsize 11, out_qsize 0\n",
      "2023-10-12 13:29:56,773 : INFO : EPOCH 5 - PROGRESS: at 83.52% examples, 1233468 words/s, in_qsize 11, out_qsize 0\n",
      "2023-10-12 13:29:57,783 : INFO : EPOCH 5 - PROGRESS: at 96.17% examples, 1216666 words/s, in_qsize 11, out_qsize 0\n",
      "2023-10-12 13:29:58,041 : INFO : EPOCH 5: training on 12084660 raw words (8902001 effective words) took 7.3s, 1219424 effective words/s\n"
     ]
    },
    {
     "name": "stderr",
     "output_type": "stream",
     "text": [
      "2023-10-12 13:29:59,061 : INFO : EPOCH 6 - PROGRESS: at 12.32% examples, 1071294 words/s, in_qsize 11, out_qsize 0\n",
      "2023-10-12 13:30:00,067 : INFO : EPOCH 6 - PROGRESS: at 24.92% examples, 1091838 words/s, in_qsize 11, out_qsize 0\n",
      "2023-10-12 13:30:01,068 : INFO : EPOCH 6 - PROGRESS: at 37.34% examples, 1098414 words/s, in_qsize 11, out_qsize 0\n",
      "2023-10-12 13:30:02,074 : INFO : EPOCH 6 - PROGRESS: at 49.33% examples, 1091719 words/s, in_qsize 11, out_qsize 0\n",
      "2023-10-12 13:30:03,086 : INFO : EPOCH 6 - PROGRESS: at 62.20% examples, 1101288 words/s, in_qsize 12, out_qsize 0\n",
      "2023-10-12 13:30:04,085 : INFO : EPOCH 6 - PROGRESS: at 75.16% examples, 1109287 words/s, in_qsize 11, out_qsize 0\n",
      "2023-10-12 13:30:05,099 : INFO : EPOCH 6 - PROGRESS: at 89.27% examples, 1125552 words/s, in_qsize 11, out_qsize 0\n",
      "2023-10-12 13:30:05,871 : INFO : EPOCH 6: training on 12084660 raw words (8901439 effective words) took 7.8s, 1137486 effective words/s\n",
      "2023-10-12 13:30:06,876 : INFO : EPOCH 7 - PROGRESS: at 13.18% examples, 1157035 words/s, in_qsize 12, out_qsize 0\n",
      "2023-10-12 13:30:07,890 : INFO : EPOCH 7 - PROGRESS: at 26.83% examples, 1179143 words/s, in_qsize 11, out_qsize 0\n",
      "2023-10-12 13:30:08,888 : INFO : EPOCH 7 - PROGRESS: at 40.63% examples, 1198706 words/s, in_qsize 12, out_qsize 0\n",
      "2023-10-12 13:30:09,895 : INFO : EPOCH 7 - PROGRESS: at 54.31% examples, 1204676 words/s, in_qsize 12, out_qsize 0\n",
      "2023-10-12 13:30:10,885 : INFO : EPOCH 7 - PROGRESS: at 68.07% examples, 1209767 words/s, in_qsize 11, out_qsize 0\n",
      "2023-10-12 13:30:11,899 : INFO : EPOCH 7 - PROGRESS: at 82.38% examples, 1218648 words/s, in_qsize 11, out_qsize 0\n",
      "2023-10-12 13:30:12,907 : INFO : EPOCH 7 - PROGRESS: at 97.06% examples, 1229876 words/s, in_qsize 11, out_qsize 0\n",
      "2023-10-12 13:30:13,107 : INFO : EPOCH 7: training on 12084660 raw words (8902998 effective words) took 7.2s, 1231273 effective words/s\n",
      "2023-10-12 13:30:14,117 : INFO : EPOCH 8 - PROGRESS: at 14.13% examples, 1233847 words/s, in_qsize 11, out_qsize 0\n",
      "2023-10-12 13:30:15,121 : INFO : EPOCH 8 - PROGRESS: at 28.31% examples, 1245153 words/s, in_qsize 11, out_qsize 0\n",
      "2023-10-12 13:30:16,130 : INFO : EPOCH 8 - PROGRESS: at 42.66% examples, 1258494 words/s, in_qsize 11, out_qsize 0\n",
      "2023-10-12 13:30:17,127 : INFO : EPOCH 8 - PROGRESS: at 57.55% examples, 1274525 words/s, in_qsize 12, out_qsize 0\n",
      "2023-10-12 13:30:18,148 : INFO : EPOCH 8 - PROGRESS: at 72.33% examples, 1280478 words/s, in_qsize 11, out_qsize 0\n",
      "2023-10-12 13:30:19,150 : INFO : EPOCH 8 - PROGRESS: at 87.09% examples, 1283569 words/s, in_qsize 11, out_qsize 0\n",
      "2023-10-12 13:30:20,033 : INFO : EPOCH 8: training on 12084660 raw words (8900741 effective words) took 6.9s, 1284790 effective words/s\n",
      "2023-10-12 13:30:21,042 : INFO : EPOCH 9 - PROGRESS: at 13.78% examples, 1210911 words/s, in_qsize 12, out_qsize 0\n",
      "2023-10-12 13:30:22,059 : INFO : EPOCH 9 - PROGRESS: at 27.41% examples, 1204546 words/s, in_qsize 12, out_qsize 0\n",
      "2023-10-12 13:30:23,068 : INFO : EPOCH 9 - PROGRESS: at 41.78% examples, 1228961 words/s, in_qsize 11, out_qsize 0\n",
      "2023-10-12 13:30:24,069 : INFO : EPOCH 9 - PROGRESS: at 56.49% examples, 1249858 words/s, in_qsize 11, out_qsize 0\n",
      "2023-10-12 13:30:25,073 : INFO : EPOCH 9 - PROGRESS: at 70.80% examples, 1254698 words/s, in_qsize 11, out_qsize 0\n",
      "2023-10-12 13:30:26,073 : INFO : EPOCH 9 - PROGRESS: at 85.24% examples, 1258524 words/s, in_qsize 11, out_qsize 0\n",
      "2023-10-12 13:30:27,080 : INFO : EPOCH 9 - PROGRESS: at 99.08% examples, 1253208 words/s, in_qsize 11, out_qsize 0\n",
      "2023-10-12 13:30:27,127 : INFO : EPOCH 9: training on 12084660 raw words (8902723 effective words) took 7.1s, 1255234 effective words/s\n",
      "2023-10-12 13:30:27,127 : INFO : Word2Vec lifecycle event {'msg': 'training on 120846600 raw words (89018959 effective words) took 71.3s, 1249382 effective words/s', 'datetime': '2023-10-12T13:30:27.127452', 'gensim': '4.3.0', 'python': '3.10.9 | packaged by Anaconda, Inc. | (main, Mar  1 2023, 18:18:15) [MSC v.1916 64 bit (AMD64)]', 'platform': 'Windows-10-10.0.22621-SP0', 'event': 'train'}\n",
      "2023-10-12 13:30:27,127 : INFO : Word2Vec lifecycle event {'params': 'Word2Vec<vocab=39730, vector_size=300, alpha=0.025>', 'datetime': '2023-10-12T13:30:27.127452', 'gensim': '4.3.0', 'python': '3.10.9 | packaged by Anaconda, Inc. | (main, Mar  1 2023, 18:18:15) [MSC v.1916 64 bit (AMD64)]', 'platform': 'Windows-10-10.0.22621-SP0', 'event': 'created'}\n"
     ]
    }
   ],
   "source": [
    "#Build the model\n",
    "model = gensim.models.Word2Vec(documents, #Word list\n",
    "                               min_count=5, #Ignore all words with total frequency lower than this\n",
    "                               workers=6, #Number of CPU Cores\n",
    "                               vector_size=300,  #Embedding size\n",
    "                               window=5, #Maximum Distance between current and predicted word\n",
    "                               epochs=10   #Number of iterations over the text corpus\n",
    "                              )"
   ]
  },
  {
   "cell_type": "markdown",
   "metadata": {
    "id": "gDY9oFflaiwC"
   },
   "source": [
    "# Exploring the model"
   ]
  },
  {
   "cell_type": "markdown",
   "metadata": {
    "id": "Wnn8dzYTaiwD"
   },
   "source": [
    "### How many words in the model"
   ]
  },
  {
   "cell_type": "markdown",
   "metadata": {
    "id": "WgqQ11DDaiwL"
   },
   "source": [
    "### Get an embedding for a word"
   ]
  },
  {
   "cell_type": "code",
   "execution_count": 14,
   "metadata": {
    "colab": {
     "base_uri": "https://localhost:8080/"
    },
    "executionInfo": {
     "elapsed": 3,
     "status": "ok",
     "timestamp": 1623568910021,
     "user": {
      "displayName": "Sayan Dey",
      "photoUrl": "https://lh3.googleusercontent.com/a-/AOh14GgqVHJ9o6-7idGiRbNNd4iVc1VjzvuPnwmAnvEtD6U=s64",
      "userId": "03603580465490055794"
     },
     "user_tz": -330
    },
    "id": "FKybdCKfaiwM",
    "outputId": "340cdb45-e461-4451-b53d-f68ee90a91e0",
    "scrolled": true
   },
   "outputs": [
    {
     "data": {
      "text/plain": [
       "array([ 0.9340439 ,  1.9505477 , -0.00736295,  0.6101585 , -0.25910702,\n",
       "       -0.3886241 , -0.3265341 ,  0.12851553,  0.57017404,  0.11075079,\n",
       "       -0.30122545, -0.43801922, -0.04450225, -0.69500464, -0.9065121 ,\n",
       "       -0.28703508, -0.9132009 , -0.32726163,  0.29176927,  3.2657232 ,\n",
       "       -0.58498156,  1.185632  ,  0.33988285,  0.22536707,  0.6383159 ,\n",
       "       -1.2813121 ,  0.8919571 , -0.6227101 , -0.57263803,  0.38123977,\n",
       "       -0.47405538,  0.93096864,  1.147282  , -0.11467692,  0.30518672,\n",
       "       -1.3225602 ,  0.91773826,  0.8565585 , -0.18484499, -0.82134837,\n",
       "       -0.62599397,  0.47096428,  1.2624942 ,  1.8096796 , -0.573747  ,\n",
       "       -0.37386048,  2.104689  ,  1.0607342 , -0.26057446, -1.3498862 ,\n",
       "        0.20708452,  1.7004768 , -0.16937563, -1.1061263 , -0.1249475 ,\n",
       "       -0.3827398 ,  1.3890784 ,  0.27682608,  0.38839015,  1.1529162 ,\n",
       "       -0.40237474, -0.20653063,  2.4107227 , -0.8926548 ,  1.1806209 ,\n",
       "       -1.5164781 , -0.7382644 , -0.3429672 , -0.2161049 , -1.64415   ,\n",
       "        1.0529469 ,  0.9334557 , -0.41642854,  0.8302109 ,  0.25924423,\n",
       "       -1.3596891 ,  0.7783206 ,  1.0629582 ,  0.06840799, -0.50252324,\n",
       "       -1.7420506 ,  2.040096  , -0.46850798, -2.3377702 , -0.12442489,\n",
       "       -1.0814061 , -0.18808168, -0.43573478, -0.5281205 , -0.35149518,\n",
       "        1.970002  ,  0.01412546,  1.3474467 ,  1.1004906 ,  0.79470366,\n",
       "        0.8130424 , -0.6573516 , -1.5133985 ,  0.5572674 , -0.6411332 ,\n",
       "        0.658127  ,  0.14473128, -1.1636707 ,  0.8526877 , -2.4351444 ,\n",
       "       -0.14945045, -0.6524587 , -2.1278586 ,  1.6908941 , -0.9631227 ,\n",
       "        1.0510703 , -0.311216  , -0.11843035,  1.21624   , -0.11124393,\n",
       "        0.3406541 ,  1.0540448 ,  0.4266427 , -0.4637941 , -0.13888817,\n",
       "       -1.4051512 , -0.35496306,  0.08542693,  0.09115822, -0.81583863,\n",
       "        0.8575922 , -0.597433  ,  0.4793995 ,  0.5006566 , -0.46321046,\n",
       "        1.8803113 ,  2.3615813 , -1.3232263 ,  0.6665301 ,  0.4960879 ,\n",
       "        1.2424307 ,  1.0804328 ,  1.5424489 ,  0.7167528 , -0.1389883 ,\n",
       "        0.3906369 ,  0.02833227, -1.010544  ,  0.14934082, -0.09359935,\n",
       "       -0.5815483 ,  1.7598352 , -1.6840105 , -2.7004614 , -1.3067983 ,\n",
       "        0.1976215 ,  1.4885187 ,  0.6829886 ,  1.6033509 , -0.558903  ,\n",
       "        1.4389606 ,  1.4203136 , -0.08391247,  0.3060431 , -0.5811705 ,\n",
       "       -0.06477607, -0.8482891 ,  0.7362923 ,  0.44674066,  0.47748947,\n",
       "        0.47669855, -0.27190977, -1.5598929 , -0.43993118,  0.30185848,\n",
       "        0.8888021 , -0.45199776,  0.50051033,  0.2877307 ,  1.1854992 ,\n",
       "        0.45069095, -0.75862527,  0.5118532 ,  1.6452312 , -0.039975  ,\n",
       "        0.06501002, -1.026078  ,  1.2964667 , -0.02592688,  1.134335  ,\n",
       "        0.12110165, -0.5237673 ,  1.0719869 ,  0.08475879,  2.0166621 ,\n",
       "        0.2828166 , -1.2621628 ,  0.46175545,  0.18147214,  1.5668677 ,\n",
       "       -1.2517893 , -0.5967218 ,  1.764151  ,  0.630592  ,  1.9359505 ,\n",
       "        0.67619187, -0.0544243 , -1.288954  ,  0.9239847 ,  0.26351613,\n",
       "        1.2002995 , -2.7448351 , -1.8458035 , -0.08721924, -2.4883559 ,\n",
       "        0.21387674,  1.5637678 ,  1.0538523 ,  0.37525785, -0.671885  ,\n",
       "        0.6328766 , -0.04599451,  0.63398576,  0.89109087,  0.73345083,\n",
       "        0.65478796, -0.52816767, -0.02456469,  0.8560621 ,  0.58541405,\n",
       "       -0.5958192 ,  1.7893193 ,  1.3129641 ,  0.040249  ,  0.5170009 ,\n",
       "       -0.37548226, -0.8451892 , -0.5433106 , -0.6114352 ,  1.5717337 ,\n",
       "        1.8620131 , -2.2463338 , -0.6000192 , -0.12565912,  0.80916935,\n",
       "        0.81822515, -0.85220975, -0.34217027, -0.6967021 , -1.2393126 ,\n",
       "        1.159461  , -0.6990227 , -0.9727438 ,  0.50113577, -2.651773  ,\n",
       "        0.30253062, -0.5057983 , -0.48837793,  0.85587186,  1.7535026 ,\n",
       "        0.53575265, -0.68113494,  0.46481737, -0.10980419,  0.63084215,\n",
       "        0.7022241 ,  1.7584314 ,  0.82667804,  1.6561124 , -0.16054174,\n",
       "        0.9102151 ,  0.006487  ,  1.817286  ,  0.11530835,  0.19626385,\n",
       "        1.6488991 , -1.0239688 , -0.84559   ,  0.8066065 ,  0.3073677 ,\n",
       "       -0.09231728,  1.3216481 ,  1.8611159 ,  0.5397396 ,  1.5136421 ,\n",
       "        0.38344786, -0.8100076 , -0.8270479 ,  1.0040506 , -1.1138296 ,\n",
       "       -1.6935908 ,  0.40510753, -1.3986815 , -1.0809287 ,  0.15157256,\n",
       "       -1.2863898 , -0.02569949, -0.8323666 , -1.2395842 ,  1.7085323 ,\n",
       "       -0.36745146,  1.2797744 ,  1.2015543 ,  1.305672  , -0.44119087],\n",
       "      dtype=float32)"
      ]
     },
     "execution_count": 14,
     "metadata": {},
     "output_type": "execute_result"
    }
   ],
   "source": [
    "model.wv['great']"
   ]
  },
  {
   "cell_type": "code",
   "execution_count": 15,
   "metadata": {
    "colab": {
     "base_uri": "https://localhost:8080/"
    },
    "executionInfo": {
     "elapsed": 616,
     "status": "ok",
     "timestamp": 1623568917083,
     "user": {
      "displayName": "Sayan Dey",
      "photoUrl": "https://lh3.googleusercontent.com/a-/AOh14GgqVHJ9o6-7idGiRbNNd4iVc1VjzvuPnwmAnvEtD6U=s64",
      "userId": "03603580465490055794"
     },
     "user_tz": -330
    },
    "id": "C0FF0naciywM",
    "outputId": "d1c569f8-961b-43ca-9416-5dc317c7df02",
    "scrolled": true
   },
   "outputs": [
    {
     "data": {
      "text/plain": [
       "array([-0.34445724,  0.9562085 , -0.44072908, -0.64268327, -0.15911838,\n",
       "       -0.18859108,  0.2466808 ,  0.6474967 , -0.15904725,  0.7457768 ,\n",
       "        1.0872959 ,  1.1635351 , -0.62339896, -1.1653187 , -0.38547698,\n",
       "       -1.1845851 , -0.38001308,  0.84345424,  0.6352596 ,  1.991727  ,\n",
       "       -1.5551342 ,  3.1559398 , -1.603768  ,  0.7919243 ,  0.5348292 ,\n",
       "       -1.5007799 ,  0.7222638 , -0.32318202,  1.3323349 , -1.481886  ,\n",
       "        0.72972775,  1.0583136 ,  1.0538667 , -0.59651315,  0.39259914,\n",
       "        0.56652516, -0.13532285,  0.49241596, -0.20394138,  0.10522198,\n",
       "        0.1897618 ,  1.1883155 , -0.2698425 ,  0.37930578, -0.05560923,\n",
       "       -0.05542226, -0.19074444,  1.2780597 , -1.2374945 , -0.66063184,\n",
       "       -0.9318162 , -0.16811845,  0.9811387 , -0.3844254 , -0.7232468 ,\n",
       "       -1.0048751 ,  1.27439   ,  0.2639003 ,  1.288603  ,  0.09151676,\n",
       "       -0.02096545, -0.18231228,  1.7550949 ,  0.93110186,  0.07972166,\n",
       "       -0.45739117, -0.5135323 ,  0.30266497,  0.43631485, -0.7513158 ,\n",
       "       -0.8782706 , -0.51830953, -0.8090209 ,  0.29755786,  0.6669703 ,\n",
       "       -1.4822767 ,  0.05780805,  1.478572  ,  0.12036262, -0.4154759 ,\n",
       "       -1.0665936 ,  0.9737416 ,  0.04059917, -0.8664853 ,  0.13196899,\n",
       "        0.7689681 , -0.7966915 , -0.8467659 , -0.1651859 , -0.7839414 ,\n",
       "        1.3989153 , -0.24385238,  1.3219119 ,  0.5062107 ,  1.2284381 ,\n",
       "        0.66717905,  0.190243  , -0.574647  , -0.16110922, -1.1704749 ,\n",
       "        0.13135746, -0.70991015, -1.1438047 ,  0.38029304, -0.6810537 ,\n",
       "       -0.65849614, -0.9086309 , -1.3807274 ,  0.39022627,  0.10945028,\n",
       "        0.8617137 , -0.21627085, -0.4019588 ,  0.01915219, -0.46657446,\n",
       "       -0.23380455,  0.7441121 ,  0.8094015 ,  0.81847185, -0.11718192,\n",
       "       -0.70696795, -0.41572586, -0.04429679, -0.694271  , -0.08818243,\n",
       "        1.1149153 , -0.69177383, -0.13257399,  0.41992098,  0.62090564,\n",
       "        1.1468322 ,  0.8956558 , -0.6420555 , -0.6324664 ,  0.8098948 ,\n",
       "        1.8334149 , -0.5152445 ,  2.343652  , -0.40126887, -1.6580049 ,\n",
       "        0.90480167, -0.04458835, -0.23198792,  0.93168217,  0.57794756,\n",
       "       -0.8767949 ,  1.4885072 ,  0.02470489, -1.9513539 , -0.3908214 ,\n",
       "        0.6647399 ,  1.5045568 , -0.26029065,  1.9444664 ,  0.1437115 ,\n",
       "        1.4652263 ,  1.2089912 ,  0.64295775,  0.8384987 , -0.10153021,\n",
       "        0.02479739, -0.18364765,  2.2077172 ,  0.6849435 , -0.6520866 ,\n",
       "       -0.38726974, -0.11019335, -0.17435019,  0.27800548,  0.9815308 ,\n",
       "        0.65847707, -0.9973072 ,  0.09108967,  0.23564342,  0.3824548 ,\n",
       "       -0.08843331, -0.41622838,  0.87197554,  0.6763777 , -1.0806166 ,\n",
       "       -0.7493116 , -1.2535934 , -0.02371283,  0.4428428 ,  1.9160461 ,\n",
       "        0.9332868 , -0.5176559 ,  0.47301498,  0.06672562,  1.7001709 ,\n",
       "       -0.69002855,  0.76766294,  0.8530742 , -1.6277508 , -0.5112388 ,\n",
       "       -0.82861364, -0.23900229,  0.3658029 , -0.11686282,  0.15670742,\n",
       "        0.49457088,  0.03115502, -0.58274037,  0.62957275,  0.28418124,\n",
       "       -0.6698675 , -1.0965762 , -0.31247413,  0.025661  , -2.6107354 ,\n",
       "       -0.57764155,  0.98586273,  1.3836201 ,  0.27498418,  0.4463148 ,\n",
       "        0.81034225, -0.89553726,  1.0601249 ,  0.30948362, -0.41112313,\n",
       "       -0.84533477,  0.6889873 ,  0.81838554,  2.2832808 , -0.39142507,\n",
       "       -1.1664432 ,  0.41853243,  1.1025356 , -0.69035375, -0.17221525,\n",
       "        0.54448545, -1.0317807 , -0.00567569, -1.0772983 ,  0.14424105,\n",
       "        1.3876307 , -0.6687441 ,  0.0874506 ,  0.08955067,  1.7948774 ,\n",
       "       -0.11121537, -0.5774761 ,  0.5168256 , -0.4111272 , -0.5585844 ,\n",
       "       -0.19373347,  1.0260987 ,  0.61541367,  0.23919651, -0.7750138 ,\n",
       "        0.5285141 , -0.82373714, -0.22627714,  2.485096  ,  0.6900739 ,\n",
       "        0.13580817, -2.4393146 , -0.6606239 , -0.06569944,  0.8718565 ,\n",
       "       -0.47914523,  1.0171497 , -0.50483286,  1.5273888 ,  0.4234216 ,\n",
       "        1.8430003 , -0.46214873,  1.0173136 ,  0.04199074,  1.2318107 ,\n",
       "        0.31530008, -1.8407738 , -0.7808267 ,  0.6949266 ,  1.123594  ,\n",
       "        1.1755316 , -0.04615535,  0.9151183 ,  1.5916525 ,  2.4485507 ,\n",
       "        0.08033065, -0.6831711 , -0.1051303 ,  0.09033067, -2.001521  ,\n",
       "       -0.41643602, -0.13115412,  0.6449673 , -1.3766782 ,  0.7505132 ,\n",
       "        0.94781446,  1.0579125 , -0.8461918 , -1.5301076 ,  1.9526155 ,\n",
       "       -0.99167395,  1.1943731 ,  0.7731826 ,  0.16116296,  0.24675713],\n",
       "      dtype=float32)"
      ]
     },
     "execution_count": 15,
     "metadata": {},
     "output_type": "execute_result"
    }
   ],
   "source": [
    "model.wv['amazing']"
   ]
  },
  {
   "cell_type": "markdown",
   "metadata": {
    "id": "R1L6Z5epaiwP"
   },
   "source": [
    "### Finding Words which have similar meaning"
   ]
  },
  {
   "cell_type": "code",
   "execution_count": 16,
   "metadata": {
    "colab": {
     "base_uri": "https://localhost:8080/"
    },
    "executionInfo": {
     "elapsed": 2,
     "status": "ok",
     "timestamp": 1623568918856,
     "user": {
      "displayName": "Sayan Dey",
      "photoUrl": "https://lh3.googleusercontent.com/a-/AOh14GgqVHJ9o6-7idGiRbNNd4iVc1VjzvuPnwmAnvEtD6U=s64",
      "userId": "03603580465490055794"
     },
     "user_tz": -330
    },
    "id": "0Y93z8W0aiwR",
    "outputId": "4c39a5a7-416d-4ade-e046-19ec30bad394",
    "scrolled": true
   },
   "outputs": [
    {
     "data": {
      "text/plain": [
       "[('incredible', 0.7554730176925659),\n",
       " ('awesome', 0.7383137345314026),\n",
       " ('outstanding', 0.6877096891403198),\n",
       " ('astounding', 0.6864120960235596),\n",
       " ('fantastic', 0.6601110696792603),\n",
       " ('exceptional', 0.6563505530357361),\n",
       " ('astonishing', 0.6429214477539062),\n",
       " ('wonderful', 0.6254343390464783),\n",
       " ('excellent', 0.6199328899383545),\n",
       " ('brilliant', 0.5963668823242188)]"
      ]
     },
     "execution_count": 16,
     "metadata": {},
     "output_type": "execute_result"
    }
   ],
   "source": [
    "model.wv.most_similar('amazing')"
   ]
  },
  {
   "cell_type": "code",
   "execution_count": 17,
   "metadata": {
    "id": "EXshY_4TUBcf",
    "outputId": "91085aac-b88e-4914-a95c-10396c9d1f2a"
   },
   "outputs": [
    {
     "data": {
      "text/plain": [
       "[('nursemaid', 0.5565349459648132),\n",
       " ('recruits', 0.5438565015792847),\n",
       " ('donegal', 0.5406115651130676),\n",
       " ('copenhagen', 0.5396826267242432),\n",
       " ('houghland', 0.5393993258476257),\n",
       " ('hampshire', 0.5371832847595215),\n",
       " ('bluesmobile', 0.5207542777061462),\n",
       " ('cornwall', 0.5193893909454346),\n",
       " ('dodgers', 0.5106973648071289),\n",
       " ('upstate', 0.5092759132385254)]"
      ]
     },
     "execution_count": 17,
     "metadata": {},
     "output_type": "execute_result"
    }
   ],
   "source": [
    "model.wv.most_similar('delhi')"
   ]
  },
  {
   "cell_type": "markdown",
   "metadata": {
    "id": "dWKCuhkSaiwT"
   },
   "source": [
    "### Find the word which is not like others"
   ]
  },
  {
   "cell_type": "markdown",
   "metadata": {
    "id": "dMDqwhZraiwW"
   },
   "source": [
    "### Saving the model"
   ]
  },
  {
   "cell_type": "code",
   "execution_count": 18,
   "metadata": {
    "colab": {
     "base_uri": "https://localhost:8080/"
    },
    "executionInfo": {
     "elapsed": 1140,
     "status": "ok",
     "timestamp": 1623568931738,
     "user": {
      "displayName": "Sayan Dey",
      "photoUrl": "https://lh3.googleusercontent.com/a-/AOh14GgqVHJ9o6-7idGiRbNNd4iVc1VjzvuPnwmAnvEtD6U=s64",
      "userId": "03603580465490055794"
     },
     "user_tz": -330
    },
    "id": "ZMKmOZ0KaiwY",
    "outputId": "77dcabf2-e705-471c-e404-3ebb675e013b"
   },
   "outputs": [
    {
     "name": "stderr",
     "output_type": "stream",
     "text": [
      "2023-10-12 13:30:27,500 : INFO : Word2Vec lifecycle event {'fname_or_handle': 'word2vec-movie-50', 'separately': 'None', 'sep_limit': 10485760, 'ignore': frozenset(), 'datetime': '2023-10-12T13:30:27.500396', 'gensim': '4.3.0', 'python': '3.10.9 | packaged by Anaconda, Inc. | (main, Mar  1 2023, 18:18:15) [MSC v.1916 64 bit (AMD64)]', 'platform': 'Windows-10-10.0.22621-SP0', 'event': 'saving'}\n",
      "2023-10-12 13:30:27,532 : INFO : storing np array 'vectors' to word2vec-movie-50.wv.vectors.npy\n",
      "2023-10-12 13:30:27,614 : INFO : storing np array 'syn1neg' to word2vec-movie-50.syn1neg.npy\n",
      "2023-10-12 13:30:27,693 : INFO : not storing attribute cum_table\n",
      "2023-10-12 13:30:27,756 : INFO : saved word2vec-movie-50\n"
     ]
    }
   ],
   "source": [
    "model.save('word2vec-movie-50')"
   ]
  },
  {
   "cell_type": "code",
   "execution_count": 19,
   "metadata": {
    "colab": {
     "base_uri": "https://localhost:8080/"
    },
    "executionInfo": {
     "elapsed": 393,
     "status": "ok",
     "timestamp": 1623567544023,
     "user": {
      "displayName": "Sayan Dey",
      "photoUrl": "https://lh3.googleusercontent.com/a-/AOh14GgqVHJ9o6-7idGiRbNNd4iVc1VjzvuPnwmAnvEtD6U=s64",
      "userId": "03603580465490055794"
     },
     "user_tz": -330
    },
    "id": "zCnMqOVDaiwb",
    "outputId": "72dc1219-09c5-4726-ca8f-f900b8ec24ad"
   },
   "outputs": [
    {
     "name": "stderr",
     "output_type": "stream",
     "text": [
      "2023-10-12 13:30:27,772 : INFO : loading Word2Vec object from word2vec-movie-50\n",
      "2023-10-12 13:30:27,803 : INFO : loading wv recursively from word2vec-movie-50.wv.* with mmap=None\n",
      "2023-10-12 13:30:27,803 : INFO : loading vectors from word2vec-movie-50.wv.vectors.npy with mmap=None\n",
      "2023-10-12 13:30:27,850 : INFO : loading syn1neg from word2vec-movie-50.syn1neg.npy with mmap=None\n",
      "2023-10-12 13:30:27,867 : INFO : setting ignored attribute cum_table to None\n",
      "2023-10-12 13:30:28,306 : INFO : Word2Vec lifecycle event {'fname': 'word2vec-movie-50', 'datetime': '2023-10-12T13:30:28.306691', 'gensim': '4.3.0', 'python': '3.10.9 | packaged by Anaconda, Inc. | (main, Mar  1 2023, 18:18:15) [MSC v.1916 64 bit (AMD64)]', 'platform': 'Windows-10-10.0.22621-SP0', 'event': 'loaded'}\n"
     ]
    }
   ],
   "source": [
    "#Load model from memory\n",
    "model = gensim.models.Word2Vec.load('word2vec-movie-50')"
   ]
  },
  {
   "cell_type": "markdown",
   "metadata": {
    "id": "P5698UDZaiwf"
   },
   "source": [
    "1. Equation king + man = queen + ?\n",
    "2. In this case there may not be enough data for this equation"
   ]
  },
  {
   "cell_type": "code",
   "execution_count": 20,
   "metadata": {
    "id": "oUEUdx_EUBcj",
    "outputId": "b5211ea9-08e6-4ebc-ddb6-b3fb03bac912"
   },
   "outputs": [
    {
     "data": {
      "text/plain": [
       "[('queen', 0.39654266834259033),\n",
       " ('princess', 0.3893895745277405),\n",
       " ('commoner', 0.3810257911682129),\n",
       " ('countess', 0.339566707611084),\n",
       " ('prince', 0.3393735885620117),\n",
       " ('marian', 0.3381807208061218),\n",
       " ('bathory', 0.33671075105667114),\n",
       " ('maria', 0.33297955989837646),\n",
       " ('margaret', 0.3319658041000366),\n",
       " ('kingdom', 0.33136773109436035)]"
      ]
     },
     "execution_count": 20,
     "metadata": {},
     "output_type": "execute_result"
    }
   ],
   "source": [
    "model.wv.most_similar(positive=['woman', 'king'], negative=['man'], topn=10)"
   ]
  },
  {
   "cell_type": "code",
   "execution_count": 21,
   "metadata": {
    "colab": {
     "base_uri": "https://localhost:8080/"
    },
    "executionInfo": {
     "elapsed": 435,
     "status": "ok",
     "timestamp": 1623568952434,
     "user": {
      "displayName": "Sayan Dey",
      "photoUrl": "https://lh3.googleusercontent.com/a-/AOh14GgqVHJ9o6-7idGiRbNNd4iVc1VjzvuPnwmAnvEtD6U=s64",
      "userId": "03603580465490055794"
     },
     "user_tz": -330
    },
    "id": "GPThj2KUQBJ8",
    "outputId": "655bf984-0341-4894-8c1d-b3125e328f70"
   },
   "outputs": [
    {
     "data": {
      "text/plain": [
       "[('heroine', 0.6117101907730103),\n",
       " ('protagonist', 0.455975204706192),\n",
       " ('prostitute', 0.38125619292259216),\n",
       " ('girl', 0.3805661201477051),\n",
       " ('blonde', 0.37097153067588806)]"
      ]
     },
     "execution_count": 21,
     "metadata": {},
     "output_type": "execute_result"
    }
   ],
   "source": [
    "model.wv.most_similar(positive=['woman', 'hero'], negative=['man'], topn=5)"
   ]
  },
  {
   "cell_type": "code",
   "execution_count": 22,
   "metadata": {
    "id": "KNfulfToUBcj",
    "outputId": "139985a8-ac55-4fbb-97c5-e3e5876f9b1f"
   },
   "outputs": [
    {
     "data": {
      "text/plain": [
       "[('mother', 0.6745065450668335),\n",
       " ('daughter', 0.6645011901855469),\n",
       " ('sister', 0.6038464307785034),\n",
       " ('aunt', 0.5925003886222839),\n",
       " ('wife', 0.573835015296936),\n",
       " ('grandmother', 0.5609205365180969),\n",
       " ('parents', 0.5491791367530823),\n",
       " ('mom', 0.54607093334198),\n",
       " ('spouse', 0.5437285304069519),\n",
       " ('niece', 0.5226768851280212)]"
      ]
     },
     "execution_count": 22,
     "metadata": {},
     "output_type": "execute_result"
    }
   ],
   "source": [
    "model.wv.most_similar(positive=['woman','father'], negative=['man'])"
   ]
  },
  {
   "cell_type": "code",
   "execution_count": 23,
   "metadata": {
    "colab": {
     "base_uri": "https://localhost:8080/"
    },
    "executionInfo": {
     "elapsed": 400,
     "status": "ok",
     "timestamp": 1623567576478,
     "user": {
      "displayName": "Sayan Dey",
      "photoUrl": "https://lh3.googleusercontent.com/a-/AOh14GgqVHJ9o6-7idGiRbNNd4iVc1VjzvuPnwmAnvEtD6U=s64",
      "userId": "03603580465490055794"
     },
     "user_tz": -330
    },
    "id": "iRBUsx0gnt-T",
    "outputId": "6fba9ed1-dfdf-43fe-94f4-a5054d25dd5c",
    "scrolled": true
   },
   "outputs": [
    {
     "data": {
      "text/plain": [
       "array([-1.1686342 ,  2.1411211 , -0.28883746,  1.4134662 ,  1.75978   ,\n",
       "       -0.67134666, -0.5164577 , -0.6464579 ,  4.855745  , -1.0908258 ,\n",
       "       -2.2079506 ,  0.03765923, -0.38606465,  1.0855123 , -0.97990924,\n",
       "        1.2339976 ,  0.7728735 , -2.1012058 ,  0.3082955 ,  2.2649484 ,\n",
       "        0.9564961 ,  1.2661722 , -2.858633  ,  2.789435  , -0.0116322 ,\n",
       "       -0.11419445, -2.396998  ,  0.9578802 , -1.1859361 , -2.7283516 ,\n",
       "       -0.44740504, -2.2148554 ,  0.12460163, -0.00696051, -0.47772583,\n",
       "       -2.4385753 , -1.2205238 ,  0.7728479 ,  0.9760928 ,  0.26081502,\n",
       "       -1.393869  ,  1.183715  , -1.1287129 ,  1.6850381 ,  3.0410743 ,\n",
       "        1.4824986 ,  0.38870978,  0.903841  , -0.02771685, -0.63997734,\n",
       "        0.38547158,  0.5966231 , -2.2306185 , -0.4893683 , -2.5367908 ,\n",
       "       -1.7304775 ,  1.5513626 , -1.9188254 ,  2.3878534 ,  2.1518598 ,\n",
       "        0.7305798 , -0.6909317 , -1.4011097 ,  0.47485578,  0.4206596 ,\n",
       "       -3.1418552 , -1.1196798 , -0.29143214, -1.222918  ,  0.6813236 ,\n",
       "       -0.4442551 , -0.56455165, -1.3017384 , -2.427961  ,  0.830641  ,\n",
       "        2.4144757 , -4.0165854 , -0.37327582, -1.4520291 , -0.73522866,\n",
       "       -0.8885168 , -2.998748  ,  0.75029486, -1.2357137 , -0.07340791,\n",
       "        1.721256  , -2.139791  , -1.0840226 , -1.2036934 , -0.00860661,\n",
       "        0.39939082,  0.87547314,  1.0149934 ,  3.610155  ,  2.3540657 ,\n",
       "        1.3980377 , -0.2461012 , -3.0044532 ,  1.3069651 , -1.4490732 ,\n",
       "        1.4290327 , -0.59153694, -1.900627  , -0.5371224 ,  1.985539  ,\n",
       "       -0.50427306, -1.6444703 ,  1.3187728 , -0.60508776,  0.769652  ,\n",
       "        0.7065705 ,  0.69296694, -1.8052065 , -0.9385911 ,  1.2055271 ,\n",
       "        3.3836534 , -0.00925326, -0.27345204,  0.07559389, -1.0041013 ,\n",
       "       -3.482408  ,  1.0730237 , -0.7528472 ,  1.9207163 ,  1.2906348 ,\n",
       "       -0.419594  ,  1.8414359 ,  1.9587523 ,  0.24447823, -1.4016911 ,\n",
       "       -1.2220979 , -2.0897393 , -2.0789714 ,  2.9145942 , -0.84704006,\n",
       "        2.0408094 ,  0.81364524,  1.5483187 ,  2.58282   ,  2.705321  ,\n",
       "       -1.3966105 , -1.2833195 , -0.19672206, -1.8127028 ,  0.5247926 ,\n",
       "       -1.9517779 , -1.3991866 ,  3.494218  , -1.1007912 , -1.120358  ,\n",
       "        0.50071716,  0.5335324 ,  1.8020256 , -0.8343253 ,  1.1897355 ,\n",
       "        2.1198988 , -2.344825  , -3.4714935 , -2.1251893 , -0.9245829 ,\n",
       "       -0.14696795,  1.2959661 ,  3.0548666 , -1.8651927 ,  1.1599226 ,\n",
       "       -2.6631095 ,  2.6679306 ,  0.32723147, -3.156729  , -2.534704  ,\n",
       "       -1.1346478 ,  0.64183736,  3.3053071 , -1.704025  ,  0.0336358 ,\n",
       "        0.15708584, -1.4637822 ,  0.15667224, -1.0032135 , -3.6250248 ,\n",
       "        0.8805889 , -0.01887047,  0.4261116 , -1.0017304 ,  0.23801327,\n",
       "       -1.3898482 ,  2.7412813 ,  0.31881464,  1.1427584 ,  1.7864345 ,\n",
       "        0.40488577,  0.7038923 , -0.60981524, -2.4811735 , -0.6045846 ,\n",
       "        1.5813732 , -2.4948008 , -1.0986328 ,  0.1185804 ,  0.41036436,\n",
       "        2.9026623 , -0.991943  ,  0.371423  ,  0.89707774, -2.3270903 ,\n",
       "       -0.6922089 , -2.567173  ,  3.386718  ,  1.4117811 , -2.6702435 ,\n",
       "       -3.676598  ,  0.8025313 ,  0.4571308 , -0.9705366 , -2.4676774 ,\n",
       "       -3.6043282 ,  0.24545634, -0.7612827 ,  0.1617235 , -0.14681172,\n",
       "        3.97523   , -2.099777  ,  0.63436496, -0.3179909 , -0.5567306 ,\n",
       "        2.1482017 ,  0.91967106,  0.32525444,  1.6282436 , -1.5055375 ,\n",
       "        0.50814104, -0.86938876, -0.24980831,  0.08319247, -0.8316971 ,\n",
       "       -3.3733573 , -0.5819275 , -0.8510916 , -1.7494025 , -2.4900682 ,\n",
       "       -1.8951906 ,  0.91845036,  0.813607  , -0.7907337 , -2.3736968 ,\n",
       "        1.9980826 ,  0.2815535 , -0.24732018, -0.06338263,  0.18056244,\n",
       "       -3.2113853 ,  0.15721762,  0.9052389 ,  2.2759662 , -0.14828743,\n",
       "       -2.0480773 ,  0.9048511 ,  0.0282743 ,  3.8535547 , -1.0096576 ,\n",
       "       -2.2332504 ,  1.7823832 , -0.5679393 , -1.951262  , -3.152964  ,\n",
       "       -1.6797972 ,  1.3049555 , -1.2334294 , -0.09171769,  0.8205501 ,\n",
       "       -0.4423741 ,  2.975885  , -2.4090679 ,  2.791609  ,  1.3539348 ,\n",
       "        1.40442   ,  0.7023472 ,  0.12635815,  0.2447871 ,  0.4168357 ,\n",
       "        3.8956416 ,  0.7885757 , -2.2797105 , -1.9866831 ,  2.6551437 ,\n",
       "       -0.41420043, -1.8541521 ,  0.1012445 ,  1.2152724 ,  3.4217775 ,\n",
       "        0.11406761,  1.4660863 ,  4.018135  ,  1.3319124 ,  1.5995182 ,\n",
       "        0.9074507 , -2.1763804 , -3.019744  ,  0.6581236 , -0.30035728],\n",
       "      dtype=float32)"
      ]
     },
     "execution_count": 23,
     "metadata": {},
     "output_type": "execute_result"
    }
   ],
   "source": [
    "model.wv['king'] + model.wv['man'] - model.wv['queen']"
   ]
  },
  {
   "cell_type": "code",
   "execution_count": null,
   "metadata": {},
   "outputs": [],
   "source": []
  }
 ],
 "metadata": {
  "accelerator": "GPU",
  "colab": {
   "provenance": []
  },
  "kernelspec": {
   "display_name": "Python 3 (ipykernel)",
   "language": "python",
   "name": "python3"
  },
  "language_info": {
   "codemirror_mode": {
    "name": "ipython",
    "version": 3
   },
   "file_extension": ".py",
   "mimetype": "text/x-python",
   "name": "python",
   "nbconvert_exporter": "python",
   "pygments_lexer": "ipython3",
   "version": "3.10.9"
  }
 },
 "nbformat": 4,
 "nbformat_minor": 1
}
